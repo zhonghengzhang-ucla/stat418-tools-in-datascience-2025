{
 "cells": [
  {
   "cell_type": "markdown",
   "metadata": {
    "id": "Tce3stUlHN0L"
   },
   "source": [
    "##### Copyright 2024 Google LLC."
   ]
  },
  {
   "cell_type": "code",
   "execution_count": null,
   "metadata": {
    "cellView": "form",
    "id": "tuOe1ymfHZPu"
   },
   "outputs": [],
   "source": [
    "#@title Licensed under the Apache License, Version 2.0 (the \"License\");\n",
    "# you may not use this file except in compliance with the License.\n",
    "# You may obtain a copy of the License at\n",
    "#\n",
    "# https://www.apache.org/licenses/LICENSE-2.0\n",
    "#\n",
    "# Unless required by applicable law or agreed to in writing, software\n",
    "# distributed under the License is distributed on an \"AS IS\" BASIS,\n",
    "# WITHOUT WARRANTIES OR CONDITIONS OF ANY KIND, either express or implied.\n",
    "# See the License for the specific language governing permissions and\n",
    "# limitations under the License."
   ]
  },
  {
   "cell_type": "markdown",
   "metadata": {
    "id": "0c5ea3f4a75c"
   },
   "source": [
    "# Question Answering using Gemini, LangChain, and Chroma"
   ]
  },
  {
   "cell_type": "markdown",
   "metadata": {
    "id": "awKO767lQIWh"
   },
   "source": [
    "<table class=\"tfo-notebook-buttons\" align=\"left\">\n",
    "  <td>\n",
    "    <a target=\"_blank\" href=\"https://colab.research.google.com/github/google/generative-ai-docs/blob/main/examples/gemini/python/langchain/Gemini_LangChain_QA_Chroma_WebLoad.ipynb\"><img src=\"https://www.tensorflow.org/images/colab_logo_32px.png\" />Run in Google Colab</a>\n",
    "  </td>\n",
    "  <td>\n",
    "    <a target=\"_blank\" href=\"https://github.com/google/generative-ai-docs/blob/main/examples/gemini/python/langchain/Gemini_LangChain_QA_Chroma_WebLoad.ipynb\"><img src=\"https://www.tensorflow.org/images/GitHub-Mark-32px.png\" />View source on GitHub</a>\n",
    "  </td>\n",
    "</table>\n"
   ]
  },
  {
   "cell_type": "markdown",
   "metadata": {
    "id": "479790a71f3c"
   },
   "source": [
    "## Overview\n",
    "\n",
    "[Gemini](https://ai.google.dev/models/gemini) is a family of generative AI models that lets developers generate content and solve problems. These models are designed and trained to handle both text and images as input.\n",
    "\n",
    "[LangChain](https://www.langchain.com/) is a data framework designed to make integration of Large Language Models (LLM) like Gemini easier for applications.\n",
    "\n",
    "[Chroma](https://docs.trychroma.com/) is an open-source embedding database focused on simplicity and developer productivity. Chroma allows users to store embeddings and their metadata, embed documents and queries, and search the embeddings quickly.\n",
    "\n",
    "In this notebook, you'll learn how to create an application that answers questions using data from a website with the help of Gemini, LangChain, and Chroma."
   ]
  },
  {
   "cell_type": "markdown",
   "metadata": {
    "id": "_qRjVe1tZhsx"
   },
   "source": [
    "## Setup\n",
    "\n",
    "First, you must install the packages and set the necessary environment variables.\n",
    "\n",
    "### Installation\n",
    "\n",
    "Install LangChain's Python library, `langchain`."
   ]
  },
  {
   "cell_type": "code",
   "execution_count": 1,
   "metadata": {
    "id": "olK4Ejjzuj76"
   },
   "outputs": [],
   "source": [
    "!pip install --quiet langchain"
   ]
  },
  {
   "cell_type": "markdown",
   "metadata": {
    "id": "G3Ap03KFZjI-"
   },
   "source": [
    "Install LangChain's integration package for Gemini, `langchain-google-genai`."
   ]
  },
  {
   "cell_type": "code",
   "execution_count": 2,
   "metadata": {
    "id": "K1CzIZiaurWv"
   },
   "outputs": [
    {
     "name": "stdout",
     "output_type": "stream",
     "text": [
      "\u001b[31mERROR: pip's dependency resolver does not currently take into account all the packages that are installed. This behaviour is the source of the following dependency conflicts.\n",
      "google-generativeai 0.8.5 requires google-ai-generativelanguage==0.6.15, but you have google-ai-generativelanguage 0.6.17 which is incompatible.\u001b[0m\u001b[31m\n",
      "\u001b[0m"
     ]
    }
   ],
   "source": [
    "!pip install --quiet langchain-google-genai"
   ]
  },
  {
   "cell_type": "markdown",
   "metadata": {
    "id": "Ba1VjUO3ZwfS"
   },
   "source": [
    "Install Chroma's Python client SDK, `chromadb`."
   ]
  },
  {
   "cell_type": "code",
   "execution_count": 3,
   "metadata": {
    "id": "LGBoQhoz3kdy"
   },
   "outputs": [],
   "source": [
    "!pip install --quiet chromadb"
   ]
  },
  {
   "cell_type": "markdown",
   "metadata": {
    "id": "wiGHSFmZaniK"
   },
   "source": [
    "### Grab an API Key\n",
    "\n",
    "To use Gemini you need an *API key*. You can create an API key with one click in [Google AI Studio](https://makersuite.google.com/).\n",
    "After creating the API key, you can either set an environment variable named `GOOGLE_API_KEY` to your API Key or pass the API key as an argument when using the `ChatGoogleGenerativeAI` class to access Google's `gemini` and `gemini-vision` models or the `GoogleGenerativeAIEmbeddings` class to access Google's Generative AI embedding model using `LangChain`.\n",
    "\n",
    "In this tutorial, you will set the environment variable `GOOGLE_API_KEY` to configure Gemini to use your API key."
   ]
  },
  {
   "cell_type": "code",
   "execution_count": 30,
   "metadata": {
    "id": "xId4sR52utS0"
   },
   "outputs": [
    {
     "name": "stdin",
     "output_type": "stream",
     "text": [
      "Gemini API Key: ········\n"
     ]
    }
   ],
   "source": [
    "# Run this cell and paste the API key in the prompt\n",
    "import os\n",
    "import getpass\n",
    "\n",
    "#os.environ['GOOGLE_API_KEY'] = getpass.getpass('Gemini API Key:')\n",
    "GOOGLE_API_KEY = getpass.getpass('Gemini API Key:')\n",
    "\n",
    "#genai.configure(api_key=GOOGLE_API_KEY)"
   ]
  },
  {
   "cell_type": "markdown",
   "metadata": {
    "id": "aEKMUyVmckWI",
    "jp-MarkdownHeadingCollapsed": true
   },
   "source": [
    "## Basic steps\n",
    "LLMs are trained offline on a large corpus of public data. Hence they cannot answer questions based on custom or private data accurately without additional context.\n",
    "\n",
    "If you want to make use of LLMs to answer questions based on private data, you have to provide the relevant documents as context alongside your prompt. This approach is called Retrieval Augmented Generation (RAG).\n",
    "\n",
    "You will use this approach to create a question-answering assistant using the Gemini text model integrated through LangChain. The assistant is expected to answer questions about the Gemini model. To make this possible you will add more context to the assistant using data from a website.\n",
    "\n",
    "In this tutorial, you'll implement the two main components in an RAG-based architecture:\n",
    "\n",
    "1. Retriever\n",
    "\n",
    "    Based on the user's query, the retriever retrieves relevant snippets that add context from the document. In this tutorial, the document is the website data.\n",
    "    The relevant snippets are passed as context to the next stage - \"Generator\".\n",
    "\n",
    "2. Generator\n",
    "\n",
    "    The relevant snippets from the website data are passed to the LLM along with the user's query to generate accurate answers.\n",
    "\n",
    "You'll learn more about these stages in the upcoming sections while implementing the application."
   ]
  },
  {
   "cell_type": "markdown",
   "metadata": {
    "id": "kPhs4mDkjdgY"
   },
   "source": [
    "## Import the required libraries"
   ]
  },
  {
   "cell_type": "code",
   "execution_count": 5,
   "metadata": {
    "id": "TcvGPVdXu05F"
   },
   "outputs": [
    {
     "name": "stderr",
     "output_type": "stream",
     "text": [
      "USER_AGENT environment variable not set, consider setting it to identify your requests.\n"
     ]
    }
   ],
   "source": [
    "from langchain import PromptTemplate\n",
    "from langchain import hub\n",
    "from langchain.docstore.document import Document\n",
    "from langchain.document_loaders import WebBaseLoader\n",
    "from langchain.schema import StrOutputParser\n",
    "from langchain.schema.prompt_template import format_document\n",
    "from langchain.schema.runnable import RunnablePassthrough\n",
    "from langchain.vectorstores import Chroma"
   ]
  },
  {
   "cell_type": "markdown",
   "metadata": {
    "id": "4461Jihk_rWq"
   },
   "source": [
    "## Retriever\n",
    "\n",
    "In this stage, you will perform the following steps:\n",
    "\n",
    "1. Read and parse the website data using LangChain.\n",
    "\n",
    "2. Create embeddings of the website data.\n",
    "\n",
    "    Embeddings are numerical representations (vectors) of text. Hence, text with similar meaning will have similar embedding vectors. You'll make use of Gemini's embedding model to create the embedding vectors of the website data.\n",
    "\n",
    "3. Store the embeddings in Chroma's vector store.\n",
    "    \n",
    "    Chroma is a vector database. The Chroma vector store helps in the efficient retrieval of similar vectors. Thus, for adding context to the prompt for the LLM, relevant embeddings of the text matching the user's question can be retrieved easily using Chroma.\n",
    "\n",
    "4. Create a Retriever from the Chroma vector store.\n",
    "\n",
    "    The retriever will be used to pass relevant website embeddings to the LLM along with user queries."
   ]
  },
  {
   "cell_type": "markdown",
   "metadata": {
    "id": "WomGvIAVjZeI"
   },
   "source": [
    "### Read and parse the website data\n",
    "\n",
    "LangChain provides a wide variety of document loaders. To read the website data as a document, you will use the `WebBaseLoader` from LangChain.\n",
    "\n",
    "To know more about how to read and parse input data from different sources using the document loaders of LangChain, read LangChain's [document loaders guide](https://python.langchain.com/docs/integrations/document_loaders)."
   ]
  },
  {
   "cell_type": "code",
   "execution_count": 6,
   "metadata": {
    "id": "DeNX9QFM0V-C"
   },
   "outputs": [],
   "source": [
    "loader = WebBaseLoader(\"https://blog.google/technology/ai/google-gemini-ai/\")\n",
    "docs = loader.load()"
   ]
  },
  {
   "cell_type": "markdown",
   "metadata": {
    "id": "olIlIOYrJTlF"
   },
   "source": [
    "If you only want to select a specific portion of the website data to add context to the prompt, you can use regex, text slicing, or text splitting.\n",
    "\n",
    "In this example, you'll use Python's `split()` function to extract the required portion of the text. The extracted text should be converted back to LangChain's `Document` format."
   ]
  },
  {
   "cell_type": "code",
   "execution_count": 7,
   "metadata": {
    "id": "EDL9YLRb9Bw2"
   },
   "outputs": [],
   "source": [
    "# Extract the text from the website data document\n",
    "text_content = docs[0].page_content\n",
    "\n",
    "# The text content between the substrings \"code, audio, image and video.\" to\n",
    "# \"Cloud TPU v5p\" is relevant for this tutorial. You can use Python's `split()`\n",
    "# to select the required content.\n",
    "text_content_1 = text_content.split(\"code, audio, image and video.\",1)[1]\n",
    "final_text = text_content_1.split(\"Cloud TPU v5p\",1)[0]\n",
    "\n",
    "# Convert the text to LangChain's `Document` format\n",
    "docs =  [Document(page_content=final_text, metadata={\"source\": \"local\"})]"
   ]
  },
  {
   "cell_type": "markdown",
   "metadata": {
    "id": "yDsdAg4Fjo5o"
   },
   "source": [
    "### Initialize Gemini's embedding model\n",
    "\n",
    "To create the embeddings from the website data, you'll use Gemini's embedding model, **embedding-001** which supports creating text embeddings.\n",
    "\n",
    "To use this embedding model, you have to import `GoogleGenerativeAIEmbeddings` from LangChain. To know more about the embedding model, read Google AI's [language documentation](https://ai.google.dev/models/gemini)."
   ]
  },
  {
   "cell_type": "code",
   "execution_count": 13,
   "metadata": {
    "id": "8NXNTrjp0jdh"
   },
   "outputs": [],
   "source": [
    "from langchain_google_genai import GoogleGenerativeAIEmbeddings\n",
    "\n",
    "# If there is no environment variable set for the API key, you can pass the API\n",
    "# key to the parameter `google_api_key` of the `GoogleGenerativeAIEmbeddings`\n",
    "# function: `google_api_key = \"key\"`.\n",
    "\n",
    "gemini_embeddings = GoogleGenerativeAIEmbeddings(model=\"models/embedding-001\",google_api_key = GOOGLE_API_KEY)"
   ]
  },
  {
   "cell_type": "markdown",
   "metadata": {
    "id": "m9Vzw30wpebs"
   },
   "source": [
    "### Store the data using Chroma\n",
    "\n",
    "To create a Chroma vector database from the website data, you will use the `from_documents` function of `Chroma`. Under the hood, this function creates embeddings from the documents created by the document loader of LangChain using any specified embedding model and stores them in a Chroma vector database.  \n",
    "\n",
    "You have to specify the `docs` you created from the website data using LangChain's `WebBasedLoader` and the `gemini_embeddings` as the embedding model when invoking the `from_documents` function to create the vector database from the website data. You can also specify a directory in the `persist_directory` argument to store the vector store on the disk. If you don't specify a directory, the data will be ephemeral in-memory.\n"
   ]
  },
  {
   "cell_type": "code",
   "execution_count": 14,
   "metadata": {
    "id": "n1VwhUQMvpcN"
   },
   "outputs": [],
   "source": [
    "# Save to disk\n",
    "vectorstore = Chroma.from_documents(\n",
    "                     documents=docs,                 # Data\n",
    "                     embedding=gemini_embeddings,    # Embedding model\n",
    "                     persist_directory=\"./chroma_db\" # Directory to save data\n",
    "                     )"
   ]
  },
  {
   "cell_type": "markdown",
   "metadata": {
    "id": "WFKyb3JXOeaQ"
   },
   "source": [
    "### Create a retriever using Chroma\n",
    "\n",
    "You'll now create a retriever that can retrieve website data embeddings from the newly created Chroma vector store. This retriever can be later used to pass embeddings that provide more context to the LLM for answering user's queries.\n",
    "\n",
    "\n",
    "To load the vector store that you previously stored in the disk, you can specify the name of the directory that contains the vector store in `persist_directory` and the embedding model in the `embedding_function` arguments of Chroma's initializer.\n",
    "\n",
    "You can then invoke the `as_retriever` function of `Chroma` on the vector store to create a retriever."
   ]
  },
  {
   "cell_type": "code",
   "execution_count": 33,
   "metadata": {
    "id": "s3t4kmzIOZQq"
   },
   "outputs": [
    {
     "name": "stdout",
     "output_type": "stream",
     "text": [
      "1\n"
     ]
    }
   ],
   "source": [
    "# Load from disk\n",
    "vectorstore_disk = Chroma(\n",
    "                        persist_directory=\"./chroma_db\",       # Directory of db\n",
    "                        embedding_function=gemini_embeddings   # Embedding model\n",
    "                   )\n",
    "# Get the Retriever interface for the store to use later.\n",
    "# When an unstructured query is given to a retriever it will return documents.\n",
    "# Read more about retrievers in the following link.\n",
    "# https://python.langchain.com/docs/modules/data_connection/retrievers/\n",
    "#\n",
    "# Since only 1 document is stored in the Chroma vector store, search_kwargs `k`\n",
    "# is set to 1 to decrease the `k` value of chroma's similarity search from 4 to\n",
    "# 1. If you don't pass this value, you will get a warning.\n",
    "retriever = vectorstore_disk.as_retriever(search_kwargs={\"k\": 1})\n",
    "\n",
    "# Check if the retriever is working by trying to fetch the relevant docs related\n",
    "# to the word 'MMLU' (Massive Multitask Language Understanding). If the length is greater than zero, it means that\n",
    "# the retriever is functioning well.\n",
    "print(len(retriever.invoke(\"MMLU\")))"
   ]
  },
  {
   "cell_type": "markdown",
   "metadata": {
    "id": "LZwcZyRxSO0q"
   },
   "source": [
    "## Generator\n",
    "\n",
    "The Generator prompts the LLM for an answer when the user asks a question. The retriever you created in the previous stage from the Chroma vector store will be used to pass relevant embeddings from the website data to the LLM to provide more context to the user's query.\n",
    "\n",
    "You'll perform the following steps in this stage:\n",
    "\n",
    "1. Chain together the following:\n",
    "    * A prompt for extracting the relevant embeddings using the retriever.\n",
    "    * A prompt for answering any question using LangChain.\n",
    "    * An LLM model from Gemini for prompting.\n",
    "    \n",
    "2. Run the created chain with a question as input to prompt the model for an answer.\n"
   ]
  },
  {
   "cell_type": "markdown",
   "metadata": {
    "id": "FtUi5FBIJMDy"
   },
   "source": [
    "### Initialize Gemini\n",
    "\n",
    "You must import `ChatGoogleGenerativeAI` from LangChain to initialize your model.\n",
    " In this example, you will use **gemini-pro**, as it supports text summarization. To know more about the text model, read Google AI's [language documentation](https://ai.google.dev/models/gemini).\n",
    "\n",
    "You can configure the model parameters such as ***temperature*** or ***top_p***,  by passing the appropriate values when initializing the `ChatGoogleGenerativeAI` LLM.  To learn more about the parameters and their uses, read Google AI's [concepts guide](https://ai.google.dev/docs/concepts#model_parameters)."
   ]
  },
  {
   "cell_type": "code",
   "execution_count": 21,
   "metadata": {
    "id": "CaA1vRCh7s36"
   },
   "outputs": [],
   "source": [
    "from langchain_google_genai import ChatGoogleGenerativeAI\n",
    "\n",
    "# If there is no environment variable set for the API key, you can pass the API\n",
    "# key to the parameter `google_api_key` of the `ChatGoogleGenerativeAI` function:\n",
    "# `google_api_key=\"key\"`.\n",
    "llm = ChatGoogleGenerativeAI(model=\"gemini-2.0-flash\",\n",
    "                 temperature=0.7, top_p=0.85,google_api_key = GOOGLE_API_KEY)"
   ]
  },
  {
   "cell_type": "markdown",
   "metadata": {
    "id": "jC4QDhiPpDJa"
   },
   "source": [
    "### Create prompt templates\n",
    "\n",
    "You'll use LangChain's [PromptTemplate](https://python.langchain.com/docs/modules/model_io/prompts/prompt_templates/) to generate prompts to the LLM for answering questions.\n",
    "\n",
    "In the `llm_prompt`, the variable `question` will be replaced later by the input question, and the variable `context` will be replaced by the relevant text from the website retrieved from the Chroma vector store."
   ]
  },
  {
   "cell_type": "code",
   "execution_count": 22,
   "metadata": {
    "id": "90Czqh074dEC"
   },
   "outputs": [
    {
     "name": "stdout",
     "output_type": "stream",
     "text": [
      "input_variables=['context', 'question'] input_types={} partial_variables={} template=\"You are an assistant for question-answering tasks.\\nUse the following context to answer the question.\\nIf you don't know the answer, just say that you don't know.\\nUse five sentences maximum and keep the answer concise.\\n\\nQuestion: {question} \\nContext: {context} \\nAnswer:\"\n"
     ]
    }
   ],
   "source": [
    "# Prompt template to query Gemini\n",
    "llm_prompt_template = \"\"\"You are an assistant for question-answering tasks.\n",
    "Use the following context to answer the question.\n",
    "If you don't know the answer, just say that you don't know.\n",
    "Use five sentences maximum and keep the answer concise.\\n\n",
    "Question: {question} \\nContext: {context} \\nAnswer:\"\"\"\n",
    "\n",
    "llm_prompt = PromptTemplate.from_template(llm_prompt_template)\n",
    "\n",
    "print(llm_prompt)"
   ]
  },
  {
   "cell_type": "markdown",
   "metadata": {
    "id": "KXDh2jsdp4sr"
   },
   "source": [
    "### Create a stuff documents chain\n",
    "\n",
    "LangChain provides [Chains](https://python.langchain.com/docs/modules/chains/) for chaining together LLMs with each other or other components for complex applications. You will create a **stuff documents chain** for this application. A stuff documents chain lets you combine all the relevant documents, insert them into the prompt, and pass that prompt to the LLM.\n",
    "\n",
    "You can create a stuff documents chain using the [LangChain Expression Language (LCEL)](https://python.langchain.com/docs/expression_language).\n",
    "\n",
    "To learn more about different types of document chains, read LangChain's [chains guide](https://python.langchain.com/docs/modules/chains/document/).\n",
    "\n",
    "The stuff documents chain for this application retrieves the relevant website data and passes it as the context to an LLM prompt along with the input question."
   ]
  },
  {
   "cell_type": "code",
   "execution_count": 23,
   "metadata": {
    "id": "gj5sWzpwp7vc"
   },
   "outputs": [],
   "source": [
    "# Combine data from documents to readable string format.\n",
    "def format_docs(docs):\n",
    "    return \"\\n\\n\".join(doc.page_content for doc in docs)\n",
    "\n",
    "# Create stuff documents chain using LCEL.\n",
    "#\n",
    "# This is called a chain because you are chaining together different elements\n",
    "# with the LLM. In the following example, to create the stuff chain, you will\n",
    "# combine the relevant context from the website data matching the question, the\n",
    "# LLM model, and the output parser together like a chain using LCEL.\n",
    "#\n",
    "# The chain implements the following pipeline:\n",
    "# 1. Extract the website data relevant to the question from the Chroma\n",
    "#    vector store and save it to the variable `context`.\n",
    "# 2. `RunnablePassthrough` option to provide `question` when invoking\n",
    "#    the chain.\n",
    "# 3. The `context` and `question` are then passed to the prompt where they\n",
    "#    are populated in the respective variables.\n",
    "# 4. This prompt is then passed to the LLM (`gemini-pro`).\n",
    "# 5. Output from the LLM is passed through an output parser\n",
    "#    to structure the model's response.\n",
    "rag_chain = (\n",
    "    {\"context\": retriever | format_docs, \"question\": RunnablePassthrough()}\n",
    "    | llm_prompt\n",
    "    | llm\n",
    "    | StrOutputParser()\n",
    ")"
   ]
  },
  {
   "cell_type": "markdown",
   "metadata": {
    "id": "cPPqsGCLIrs1"
   },
   "source": [
    "### Prompt the model\n",
    "\n",
    "You can now query the LLM by passing any question to the `invoke()` function of the stuff documents chain you created previously."
   ]
  },
  {
   "cell_type": "code",
   "execution_count": 25,
   "metadata": {
    "id": "4vIaopCsIq0B"
   },
   "outputs": [
    {
     "data": {
      "text/plain": [
       "\"Gemini is Google's most flexible and capable AI model, designed to run efficiently across various platforms from data centers to mobile devices. It was pre-trained to be natively multimodal, understanding text, images, audio, and more simultaneously. Gemini 1.0 is available in three sizes: Ultra, Pro, and Nano, each optimized for different levels of complexity and tasks. Its capabilities include sophisticated reasoning, advanced coding, and understanding complex information. Rigorous testing has shown that Gemini Ultra exceeds current state-of-the-art results on various academic benchmarks.\""
      ]
     },
     "execution_count": 25,
     "metadata": {},
     "output_type": "execute_result"
    }
   ],
   "source": [
    "rag_chain.invoke(\"What is Gemini?\")"
   ]
  },
  {
   "cell_type": "code",
   "execution_count": null,
   "metadata": {},
   "outputs": [],
   "source": []
  },
  {
   "cell_type": "code",
   "execution_count": null,
   "metadata": {},
   "outputs": [],
   "source": []
  },
  {
   "cell_type": "code",
   "execution_count": 27,
   "metadata": {},
   "outputs": [
    {
     "data": {
      "text/plain": [
       "'Gemini Ultra is the first model to outperform human experts on the MMLU (massive multitask language understanding). It achieved a score of 90.0% on MMLU, which uses a combination of 57 subjects such as math, physics, history, law, medicine, and ethics. This benchmark tests both world knowledge and problem-solving abilities. Gemini uses its reasoning capabilities to think more carefully before answering difficult questions. This leads to significant improvements over just using its first impression.'"
      ]
     },
     "execution_count": 27,
     "metadata": {},
     "output_type": "execute_result"
    }
   ],
   "source": [
    "rag_chain.invoke(\"What is the first model to outperform humans on MMLU?\")"
   ]
  },
  {
   "cell_type": "code",
   "execution_count": null,
   "metadata": {},
   "outputs": [],
   "source": []
  },
  {
   "cell_type": "code",
   "execution_count": null,
   "metadata": {},
   "outputs": [],
   "source": []
  },
  {
   "cell_type": "code",
   "execution_count": 34,
   "metadata": {},
   "outputs": [
    {
     "data": {
      "text/plain": [
       "\"Gemini excels in coding benchmarks, including HumanEval, an industry standard for coding task performance evaluation. It also does well in Natural2Code, Google's internal dataset using author-generated sources. Gemini can understand, explain, and generate high-quality code in popular programming languages. A specialized version of Gemini was used to create AlphaCode 2, a code generation system. AlphaCode 2 excels at solving competitive programming problems involving complex math and computer science.\""
      ]
     },
     "execution_count": 34,
     "metadata": {},
     "output_type": "execute_result"
    }
   ],
   "source": [
    "rag_chain.invoke(\"What coding benchmark does Gemini excel in?\")"
   ]
  },
  {
   "cell_type": "code",
   "execution_count": null,
   "metadata": {},
   "outputs": [],
   "source": []
  }
 ],
 "metadata": {
  "colab": {
   "name": "Gemini_LangChain_QA_Chroma_WebLoad.ipynb",
   "toc_visible": true
  },
  "kernelspec": {
   "display_name": "Python 3 (ipykernel)",
   "language": "python",
   "name": "python3"
  },
  "language_info": {
   "codemirror_mode": {
    "name": "ipython",
    "version": 3
   },
   "file_extension": ".py",
   "mimetype": "text/x-python",
   "name": "python",
   "nbconvert_exporter": "python",
   "pygments_lexer": "ipython3",
   "version": "3.12.10"
  }
 },
 "nbformat": 4,
 "nbformat_minor": 4
}
