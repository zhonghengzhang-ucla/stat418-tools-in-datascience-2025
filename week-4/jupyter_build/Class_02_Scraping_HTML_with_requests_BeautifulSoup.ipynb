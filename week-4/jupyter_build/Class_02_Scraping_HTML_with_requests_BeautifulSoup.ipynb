{
 "cells": [
  {
   "cell_type": "markdown",
   "metadata": {},
   "source": [
    "# Web Data Scraping\n",
    "\n",
    "[Spring 2023 ITSS Mini-Course](https://www.colorado.edu/cartss/programs/interdisciplinary-training-social-sciences-itss/mini-course-web-data-scraping) — ARSC 5040  \n",
    "[Brian C. Keegan, Ph.D.](http://brianckeegan.com/)  \n",
    "[Assistant Professor, Department of Information Science](https://www.colorado.edu/cmci/people/information-science/brian-c-keegan)  \n",
    "University of Colorado Boulder  \n",
    "\n",
    "Copyright and distributed under an [MIT License](https://opensource.org/licenses/MIT)\n",
    "\n",
    "These notebooks are adaptations from a 5 session mini course at the University of Colorado.They have been adapted for relevant content and integration with Docker so that we all have the same environment. Professor Keegan suggests using a most recent version of Python which we have through our docker container.\n",
    "\n",
    "This notebook is adapted from excellent notebooks in Dr. [Cody Buntain](http://cody.bunta.in/)'s seminar on [Social Media and Crisis Informatics](http://cody.bunta.in/teaching/2018_winter_umd_inst728e/) as well as the [PRAW documentation](https://praw.readthedocs.io/en/latest/).\n"
   ]
  },
  {
   "cell_type": "markdown",
   "metadata": {},
   "source": [
    "## Sharing accomplishments and challenges\n",
    "\n",
    "* Using the inspect tool\n",
    "* Counting numbers of members of U.S. House with XML\n",
    "* Parsing information out from Twitter's JSON payload"
   ]
  },
  {
   "cell_type": "markdown",
   "metadata": {},
   "source": [
    "## Parsing HTML data into tabular data\n",
    "\n",
    "The overall goal we have as researchers in scraping data from the web is converting data from one structured format (HTML's tree-like structures) into another structured format (probably a tabular structure with rows and columns). \n",
    "This could involve simply reading tables out of a webpage all the way up to taking irregularly-structured HTML elements into a tabular format. \n",
    "\n",
    "We are going to make some use of the [`pandas`](https://pandas.pydata.org/) library (\"**pan**el **da**ta\", not the cute animal), which is Python's implementation of a data frame concept. This is a very powerful and complex library that I typically spend more than 12 hours of lecture teaching in intermediate programming classes. I hope to convey some important elements as we work through material, but it is far beyond the scope of this class to be able to cover all the fundamentals and syntax. \n",
    "\n",
    "Let's begin by importing the libraries we'll need in this notebook: requests, BeautifulSoup, and pandas"
   ]
  },
  {
   "cell_type": "code",
   "execution_count": 1,
   "metadata": {},
   "outputs": [],
   "source": [
    "# Most straight-forward way to import a librayr in Python\n",
    "import requests\n",
    "\n",
    "# BeautifulSoup is a module inside the \"bs4\" library, we only import the BeautifulSoup module\n",
    "from bs4 import BeautifulSoup\n",
    "\n",
    "# We import pandas but give the library a shortcut alias \"pd\" since we will call its functions so much\n",
    "import pandas as pd"
   ]
  },
  {
   "cell_type": "markdown",
   "metadata": {},
   "source": [
    "### Reading an HTML table into Python\n",
    "\n",
    "[The Numbers](http://www.the-numbers.com) is a popular source of data about movies' box office revenue numbers. Their daily domestic charts are HTML tables with the top-grossing movies for each day of the year, going back for several years. This [table](https://www.the-numbers.com/box-office-chart/daily/2024/12/25) for Christmas day in 2024 has coluns for the current week's ranking, previous week's ranking, name of movie, distributor, gross, change over the previous week, number of theaters, revenue per theater, total gross, and number of days since release. This looks like a fairly straightforward table that could be read directly into data frame-like structure.\n",
    "\n",
    "Using the Inspect tool, we can see the table exists as a `<table border=\"0\" ... align=\"CENTER\">` element with child tags like `<tbody>` and `<tr>` (table row). Each `<tr>` has `<td>` which defines each of the cells and their content. For more on how HTML defines tables, check out [this tutoral](https://www.w3schools.com/html/html_tables.asp).\n",
    "\n",
    "Using `requests` and `BeautifulSoup` we would get this webpage's HTML, turn it into soup, and then find the table (`<table>`) or the table rows (`<tr>`) and pull out their content."
   ]
  },
  {
   "cell_type": "code",
   "execution_count": 2,
   "metadata": {},
   "outputs": [],
   "source": [
    "# Make the request\n",
    "xmas_bo_raw = requests.get('https://www.the-numbers.com/box-office-chart/daily/2024/12/25').text\n",
    "\n",
    "# Turn into soup, specify the HTML parser\n",
    "xmas_bo_soup = BeautifulSoup(xmas_bo_raw,'html.parser')\n",
    "\n",
    "# Use .find_all to retrieve all the tables in the page\n",
    "xmas_bo_tables = xmas_bo_soup.find_all('table')"
   ]
  },
  {
   "cell_type": "markdown",
   "metadata": {},
   "source": [
    "It turns out there are two tables on the page, the first is a baby table consisting of the \"Previous Chart\", \"Chart Index\", and \"Next Chart\" at the top. We want the second table with all the data: `xmas_bo_tables[1]` returns the second chart (remember that Python is 0-indexed, so the first chart is at `xmas_bo_tables[0]`). With this table identified, we can do a second `find_all` to get the table rows inside it and we save it as `xmas_bo_trs`."
   ]
  },
  {
   "cell_type": "code",
   "execution_count": 3,
   "metadata": {},
   "outputs": [],
   "source": [
    "xmas_bo_trs = xmas_bo_tables[1].find_all('tr')"
   ]
  },
  {
   "cell_type": "markdown",
   "metadata": {},
   "source": [
    "Let's inspect a few of these rows. The first row in our list of rows under `xmas_bo_trs` should be the header with the names of the columns."
   ]
  },
  {
   "cell_type": "code",
   "execution_count": 4,
   "metadata": {},
   "outputs": [
    {
     "data": {
      "text/plain": [
       "<tr><th> </th><th> </th><th>Movie Title</th><th>Distributor</th><th>Gross</th><th>%YD</th><th>%LW</th><th>Theaters</th><th>Per<br/>Theater</th><th>Total<br/>Gross</th><th>Days In<br/>Release</th></tr>"
      ]
     },
     "execution_count": 4,
     "metadata": {},
     "output_type": "execute_result"
    }
   ],
   "source": [
    "xmas_bo_trs[0]"
   ]
  },
  {
   "cell_type": "markdown",
   "metadata": {},
   "source": [
    "The next table row should be for The Lion King."
   ]
  },
  {
   "cell_type": "code",
   "execution_count": 5,
   "metadata": {},
   "outputs": [
    {
     "data": {
      "text/plain": [
       "<tr>\n",
       "<td class=\"data chart_up\" data-sort=\"1\"><b>1</b></td>\n",
       "<td class=\"data\" data-sort=\"2\">(2)</td>\n",
       "<td><b><a href=\"/movie/Mufasa-The-Lion-King-(2024)#tab=box-office\">Mufasa: The Lion King</a></b></td>\n",
       "<td><a href=\"/market/distributor/Walt-Disney\">Walt Disney</a></td>\n",
       "<td class=\"data\">$14,722,175</td>\n",
       "<td class=\"data chart_up\" data-sort=\"106\">+106%</td>\n",
       "<td class=\"data\" data-sort=\"0\"> </td>\n",
       "<td class=\"data\" data-sort=\"4100\">4,100</td>\n",
       "<td class=\"data chart_grey\" data-sort=\"3591\">$3,591</td>\n",
       "<td class=\"data\" data-sort=\"64376120\">$64,376,120</td>\n",
       "<td class=\"data\">6</td>\n",
       "</tr>"
      ]
     },
     "execution_count": 5,
     "metadata": {},
     "output_type": "execute_result"
    }
   ],
   "source": [
    "xmas_bo_trs[1]"
   ]
  },
  {
   "cell_type": "markdown",
   "metadata": {},
   "source": [
    "If we wanted to access the contents of this table row, we could use the `.contents` method to get a list of each of the `<td>` table cells, which (frustratingly) intersperses newline characters."
   ]
  },
  {
   "cell_type": "code",
   "execution_count": 6,
   "metadata": {},
   "outputs": [
    {
     "data": {
      "text/plain": [
       "['\\n',\n",
       " <td class=\"data chart_up\" data-sort=\"1\"><b>1</b></td>,\n",
       " '\\n',\n",
       " <td class=\"data\" data-sort=\"2\">(2)</td>,\n",
       " '\\n',\n",
       " <td><b><a href=\"/movie/Mufasa-The-Lion-King-(2024)#tab=box-office\">Mufasa: The Lion King</a></b></td>,\n",
       " '\\n',\n",
       " <td><a href=\"/market/distributor/Walt-Disney\">Walt Disney</a></td>,\n",
       " '\\n',\n",
       " <td class=\"data\">$14,722,175</td>,\n",
       " '\\n',\n",
       " <td class=\"data chart_up\" data-sort=\"106\">+106%</td>,\n",
       " '\\n',\n",
       " <td class=\"data\" data-sort=\"0\"> </td>,\n",
       " '\\n',\n",
       " <td class=\"data\" data-sort=\"4100\">4,100</td>,\n",
       " '\\n',\n",
       " <td class=\"data chart_grey\" data-sort=\"3591\">$3,591</td>,\n",
       " '\\n',\n",
       " <td class=\"data\" data-sort=\"64376120\">$64,376,120</td>,\n",
       " '\\n',\n",
       " <td class=\"data\">6</td>,\n",
       " '\\n']"
      ]
     },
     "execution_count": 6,
     "metadata": {},
     "output_type": "execute_result"
    }
   ],
   "source": [
    "xmas_bo_trs[1].contents"
   ]
  },
  {
   "cell_type": "markdown",
   "metadata": {},
   "source": [
    "Another alternative is to use the `.text` method to get the text content of all the cells in this row."
   ]
  },
  {
   "cell_type": "code",
   "execution_count": 7,
   "metadata": {},
   "outputs": [
    {
     "data": {
      "text/plain": [
       "'\\n1\\n(2)\\nMufasa: The Lion King\\nWalt Disney\\n$14,722,175\\n+106%\\n\\xa0\\n4,100\\n$3,591\\n$64,376,120\\n6\\n'"
      ]
     },
     "execution_count": 7,
     "metadata": {},
     "output_type": "execute_result"
    }
   ],
   "source": [
    "xmas_bo_trs[1].text"
   ]
  },
  {
   "cell_type": "markdown",
   "metadata": {},
   "source": [
    "The `\\n` characters re-appear here, but if we `print` out this statement, we see their newline functionality."
   ]
  },
  {
   "cell_type": "code",
   "execution_count": 8,
   "metadata": {},
   "outputs": [
    {
     "name": "stdout",
     "output_type": "stream",
     "text": [
      "\n",
      "1\n",
      "(2)\n",
      "Mufasa: The Lion King\n",
      "Walt Disney\n",
      "$14,722,175\n",
      "+106%\n",
      " \n",
      "4,100\n",
      "$3,591\n",
      "$64,376,120\n",
      "6\n",
      "\n"
     ]
    }
   ],
   "source": [
    "print(xmas_bo_trs[1].text)"
   ]
  },
  {
   "cell_type": "markdown",
   "metadata": {},
   "source": [
    "We could use string processing to take this text string and convert it into a simple list of data. `.split('\\n')` will split the string on the newline characters and return a list of what exists in between."
   ]
  },
  {
   "cell_type": "code",
   "execution_count": 9,
   "metadata": {},
   "outputs": [
    {
     "data": {
      "text/plain": [
       "['',\n",
       " '1',\n",
       " '(2)',\n",
       " 'Mufasa: The Lion King',\n",
       " 'Walt Disney',\n",
       " '$14,722,175',\n",
       " '+106%',\n",
       " '\\xa0',\n",
       " '4,100',\n",
       " '$3,591',\n",
       " '$64,376,120',\n",
       " '6',\n",
       " '']"
      ]
     },
     "execution_count": 9,
     "metadata": {},
     "output_type": "execute_result"
    }
   ],
   "source": [
    "xmas_bo_trs[1].text.split('\\n')"
   ]
  },
  {
   "cell_type": "markdown",
   "metadata": {},
   "source": [
    "We'll write a `for` loop to go through all the table rows in `xmas_bo_trs`, get the list of data from the row, and add it back to a list of all the rows."
   ]
  },
  {
   "cell_type": "code",
   "execution_count": 10,
   "metadata": {},
   "outputs": [
    {
     "data": {
      "text/plain": [
       "[['',\n",
       "  '1',\n",
       "  '(2)',\n",
       "  'Mufasa: The Lion King',\n",
       "  'Walt Disney',\n",
       "  '$14,722,175',\n",
       "  '+106%',\n",
       "  '\\xa0',\n",
       "  '4,100',\n",
       "  '$3,591',\n",
       "  '$64,376,120',\n",
       "  '6',\n",
       "  ''],\n",
       " ['',\n",
       "  '2',\n",
       "  'N',\n",
       "  'Nosferatu',\n",
       "  'Focus Features',\n",
       "  '$11,552,825',\n",
       "  '\\xa0',\n",
       "  '\\xa0',\n",
       "  '2,911',\n",
       "  '$3,969',\n",
       "  '$11,552,825',\n",
       "  '1',\n",
       "  '']]"
      ]
     },
     "execution_count": 10,
     "metadata": {},
     "output_type": "execute_result"
    }
   ],
   "source": [
    "cleaned_xmas_bo_rows = []\n",
    "\n",
    "# Loop through all the non-header (first row) table rows\n",
    "for row in xmas_bo_trs[1:]:\n",
    "    \n",
    "    # Get the text of the row and split on the newlines (like above)\n",
    "    cleaned_row = row.text.split('\\n')\n",
    "    \n",
    "    # Add this cleaned row back to the external list of row data\n",
    "    cleaned_xmas_bo_rows.append(cleaned_row)\n",
    "    \n",
    "# Inspect the first few rows of data\n",
    "cleaned_xmas_bo_rows[:2]"
   ]
  },
  {
   "cell_type": "markdown",
   "metadata": {},
   "source": [
    "Now we can pass this list of lists in `cleaned_xmas_bo_rows` to pandas's `DataFrame` function and hopefully get a nice table out."
   ]
  },
  {
   "cell_type": "code",
   "execution_count": 11,
   "metadata": {},
   "outputs": [
    {
     "data": {
      "text/html": [
       "<div>\n",
       "<style scoped>\n",
       "    .dataframe tbody tr th:only-of-type {\n",
       "        vertical-align: middle;\n",
       "    }\n",
       "\n",
       "    .dataframe tbody tr th {\n",
       "        vertical-align: top;\n",
       "    }\n",
       "\n",
       "    .dataframe thead th {\n",
       "        text-align: right;\n",
       "    }\n",
       "</style>\n",
       "<table border=\"1\" class=\"dataframe\">\n",
       "  <thead>\n",
       "    <tr style=\"text-align: right;\">\n",
       "      <th></th>\n",
       "      <th>0</th>\n",
       "      <th>1</th>\n",
       "      <th>2</th>\n",
       "      <th>3</th>\n",
       "      <th>4</th>\n",
       "      <th>5</th>\n",
       "      <th>6</th>\n",
       "      <th>7</th>\n",
       "      <th>8</th>\n",
       "      <th>9</th>\n",
       "      <th>10</th>\n",
       "      <th>11</th>\n",
       "      <th>12</th>\n",
       "    </tr>\n",
       "  </thead>\n",
       "  <tbody>\n",
       "    <tr>\n",
       "      <th>0</th>\n",
       "      <td></td>\n",
       "      <td>1</td>\n",
       "      <td>(2)</td>\n",
       "      <td>Mufasa: The Lion King</td>\n",
       "      <td>Walt Disney</td>\n",
       "      <td>$14,722,175</td>\n",
       "      <td>+106%</td>\n",
       "      <td></td>\n",
       "      <td>4,100</td>\n",
       "      <td>$3,591</td>\n",
       "      <td>$64,376,120</td>\n",
       "      <td>6</td>\n",
       "      <td></td>\n",
       "    </tr>\n",
       "    <tr>\n",
       "      <th>1</th>\n",
       "      <td></td>\n",
       "      <td>2</td>\n",
       "      <td>N</td>\n",
       "      <td>Nosferatu</td>\n",
       "      <td>Focus Features</td>\n",
       "      <td>$11,552,825</td>\n",
       "      <td></td>\n",
       "      <td></td>\n",
       "      <td>2,911</td>\n",
       "      <td>$3,969</td>\n",
       "      <td>$11,552,825</td>\n",
       "      <td>1</td>\n",
       "      <td></td>\n",
       "    </tr>\n",
       "    <tr>\n",
       "      <th>2</th>\n",
       "      <td></td>\n",
       "      <td>3</td>\n",
       "      <td>(1)</td>\n",
       "      <td>Sonic the Hedgehog 3</td>\n",
       "      <td>Paramount Pi…</td>\n",
       "      <td>$10,351,772</td>\n",
       "      <td>+38%</td>\n",
       "      <td></td>\n",
       "      <td>3,769</td>\n",
       "      <td>$2,747</td>\n",
       "      <td>$88,003,028</td>\n",
       "      <td>6</td>\n",
       "      <td></td>\n",
       "    </tr>\n",
       "    <tr>\n",
       "      <th>3</th>\n",
       "      <td></td>\n",
       "      <td>4</td>\n",
       "      <td>N</td>\n",
       "      <td>A Complete Unknown</td>\n",
       "      <td>Searchlight …</td>\n",
       "      <td>$7,201,242</td>\n",
       "      <td></td>\n",
       "      <td></td>\n",
       "      <td>2,835</td>\n",
       "      <td>$2,540</td>\n",
       "      <td>$7,201,242</td>\n",
       "      <td>1</td>\n",
       "      <td></td>\n",
       "    </tr>\n",
       "    <tr>\n",
       "      <th>4</th>\n",
       "      <td></td>\n",
       "      <td>5</td>\n",
       "      <td>(3)</td>\n",
       "      <td>Wicked</td>\n",
       "      <td>Universal</td>\n",
       "      <td>$5,399,625</td>\n",
       "      <td>+66%</td>\n",
       "      <td>+96%</td>\n",
       "      <td>3,177</td>\n",
       "      <td>$1,700</td>\n",
       "      <td>$397,890,620</td>\n",
       "      <td>34</td>\n",
       "      <td></td>\n",
       "    </tr>\n",
       "  </tbody>\n",
       "</table>\n",
       "</div>"
      ],
      "text/plain": [
       "  0  1    2                      3               4            5      6     7   \\\n",
       "0     1  (2)  Mufasa: The Lion King     Walt Disney  $14,722,175  +106%         \n",
       "1     2    N              Nosferatu  Focus Features  $11,552,825                \n",
       "2     3  (1)   Sonic the Hedgehog 3   Paramount Pi…  $10,351,772   +38%         \n",
       "3     4    N     A Complete Unknown   Searchlight …   $7,201,242                \n",
       "4     5  (3)                 Wicked       Universal   $5,399,625   +66%  +96%   \n",
       "\n",
       "      8       9             10  11 12  \n",
       "0  4,100  $3,591   $64,376,120   6     \n",
       "1  2,911  $3,969   $11,552,825   1     \n",
       "2  3,769  $2,747   $88,003,028   6     \n",
       "3  2,835  $2,540    $7,201,242   1     \n",
       "4  3,177  $1,700  $397,890,620  34     "
      ]
     },
     "execution_count": 11,
     "metadata": {},
     "output_type": "execute_result"
    }
   ],
   "source": [
    "xmas_bo_df = pd.DataFrame(cleaned_xmas_bo_rows)\n",
    "\n",
    "# Inspect\n",
    "xmas_bo_df.head()"
   ]
  },
  {
   "cell_type": "markdown",
   "metadata": {},
   "source": [
    "We need to do a bit of cleanup on this data:\n",
    "\n",
    "* Columns 0 and 12 are all empty\n",
    "* Add column names"
   ]
  },
  {
   "cell_type": "code",
   "execution_count": 12,
   "metadata": {},
   "outputs": [
    {
     "data": {
      "text/html": [
       "<div>\n",
       "<style scoped>\n",
       "    .dataframe tbody tr th:only-of-type {\n",
       "        vertical-align: middle;\n",
       "    }\n",
       "\n",
       "    .dataframe tbody tr th {\n",
       "        vertical-align: top;\n",
       "    }\n",
       "\n",
       "    .dataframe thead th {\n",
       "        text-align: right;\n",
       "    }\n",
       "</style>\n",
       "<table border=\"1\" class=\"dataframe\">\n",
       "  <thead>\n",
       "    <tr style=\"text-align: right;\">\n",
       "      <th></th>\n",
       "      <th>Rank</th>\n",
       "      <th>Last rank</th>\n",
       "      <th>Movie</th>\n",
       "      <th>Distributor</th>\n",
       "      <th>Gross</th>\n",
       "      <th>Change</th>\n",
       "      <th>Percent last week</th>\n",
       "      <th>Theaters</th>\n",
       "      <th>Per theater</th>\n",
       "      <th>Total gross</th>\n",
       "      <th>Days</th>\n",
       "    </tr>\n",
       "  </thead>\n",
       "  <tbody>\n",
       "    <tr>\n",
       "      <th>0</th>\n",
       "      <td>1</td>\n",
       "      <td>(2)</td>\n",
       "      <td>Mufasa: The Lion King</td>\n",
       "      <td>Walt Disney</td>\n",
       "      <td>$14,722,175</td>\n",
       "      <td>+106%</td>\n",
       "      <td></td>\n",
       "      <td>4,100</td>\n",
       "      <td>$3,591</td>\n",
       "      <td>$64,376,120</td>\n",
       "      <td>6</td>\n",
       "    </tr>\n",
       "    <tr>\n",
       "      <th>1</th>\n",
       "      <td>2</td>\n",
       "      <td>N</td>\n",
       "      <td>Nosferatu</td>\n",
       "      <td>Focus Features</td>\n",
       "      <td>$11,552,825</td>\n",
       "      <td></td>\n",
       "      <td></td>\n",
       "      <td>2,911</td>\n",
       "      <td>$3,969</td>\n",
       "      <td>$11,552,825</td>\n",
       "      <td>1</td>\n",
       "    </tr>\n",
       "    <tr>\n",
       "      <th>2</th>\n",
       "      <td>3</td>\n",
       "      <td>(1)</td>\n",
       "      <td>Sonic the Hedgehog 3</td>\n",
       "      <td>Paramount Pi…</td>\n",
       "      <td>$10,351,772</td>\n",
       "      <td>+38%</td>\n",
       "      <td></td>\n",
       "      <td>3,769</td>\n",
       "      <td>$2,747</td>\n",
       "      <td>$88,003,028</td>\n",
       "      <td>6</td>\n",
       "    </tr>\n",
       "    <tr>\n",
       "      <th>3</th>\n",
       "      <td>4</td>\n",
       "      <td>N</td>\n",
       "      <td>A Complete Unknown</td>\n",
       "      <td>Searchlight …</td>\n",
       "      <td>$7,201,242</td>\n",
       "      <td></td>\n",
       "      <td></td>\n",
       "      <td>2,835</td>\n",
       "      <td>$2,540</td>\n",
       "      <td>$7,201,242</td>\n",
       "      <td>1</td>\n",
       "    </tr>\n",
       "    <tr>\n",
       "      <th>4</th>\n",
       "      <td>5</td>\n",
       "      <td>(3)</td>\n",
       "      <td>Wicked</td>\n",
       "      <td>Universal</td>\n",
       "      <td>$5,399,625</td>\n",
       "      <td>+66%</td>\n",
       "      <td>+96%</td>\n",
       "      <td>3,177</td>\n",
       "      <td>$1,700</td>\n",
       "      <td>$397,890,620</td>\n",
       "      <td>34</td>\n",
       "    </tr>\n",
       "  </tbody>\n",
       "</table>\n",
       "</div>"
      ],
      "text/plain": [
       "  Rank Last rank                  Movie     Distributor        Gross Change  \\\n",
       "0    1       (2)  Mufasa: The Lion King     Walt Disney  $14,722,175  +106%   \n",
       "1    2         N              Nosferatu  Focus Features  $11,552,825          \n",
       "2    3       (1)   Sonic the Hedgehog 3   Paramount Pi…  $10,351,772   +38%   \n",
       "3    4         N     A Complete Unknown   Searchlight …   $7,201,242          \n",
       "4    5       (3)                 Wicked       Universal   $5,399,625   +66%   \n",
       "\n",
       "  Percent last week Theaters Per theater   Total gross Days  \n",
       "0                      4,100      $3,591   $64,376,120    6  \n",
       "1                      2,911      $3,969   $11,552,825    1  \n",
       "2                      3,769      $2,747   $88,003,028    6  \n",
       "3                      2,835      $2,540    $7,201,242    1  \n",
       "4              +96%    3,177      $1,700  $397,890,620   34  "
      ]
     },
     "execution_count": 12,
     "metadata": {},
     "output_type": "execute_result"
    }
   ],
   "source": [
    "# Drop columns 0 and 11 and overwrite the xmas_box_df variable\n",
    "xmas_bo_df = xmas_bo_df.drop(columns=[0,12])\n",
    "\n",
    "# Rename the columns\n",
    "xmas_bo_df.columns = ['Rank','Last rank','Movie','Distributor','Gross',\n",
    "                      'Change','Percent last week','Theaters','Per theater','Total gross',\n",
    "                      'Days']\n",
    "\n",
    "# Write to disk\n",
    "# xmas_bo_df.to_csv('christmas_2025_box_office.csv',encoding='utf8')\n",
    "\n",
    "# Inspect\n",
    "xmas_bo_df.head()"
   ]
  },
  {
   "cell_type": "markdown",
   "metadata": {},
   "source": [
    "### `pandas`'s `read_html`\n",
    "That was a good amount of work just to get this simple HTML table into Python. But it was important to cover how table elements moved from a string in `requests`, into a soup object from `BeautifulSoup`. into a list of data, and finally into `pandas`. \n",
    "\n",
    "`pandas` also has powerful functionality for reading tables directly from HTML. If we convert the soup of the first table (`xmas_bo_tables[1]`) back into a string, `pandas` can read it directly into a table. \n",
    "\n",
    "There are a few ideosyncracies here, the result is a list of dataframes—even if there's only a single table/dataframe—so we need to return the first (and only) element of this list. This is why there's a `[0]` at the end and the `.head()` is just to show the first five rows."
   ]
  },
  {
   "cell_type": "code",
   "execution_count": 13,
   "metadata": {},
   "outputs": [
    {
     "name": "stderr",
     "output_type": "stream",
     "text": [
      "/tmp/ipykernel_1411/1219124795.py:3: FutureWarning: Passing literal html to 'read_html' is deprecated and will be removed in a future version. To read from a literal string, wrap it in a 'StringIO' object.\n",
      "  pd.read_html(xmas_bo_table_as_string)[0].head()\n"
     ]
    },
    {
     "data": {
      "text/html": [
       "<div>\n",
       "<style scoped>\n",
       "    .dataframe tbody tr th:only-of-type {\n",
       "        vertical-align: middle;\n",
       "    }\n",
       "\n",
       "    .dataframe tbody tr th {\n",
       "        vertical-align: top;\n",
       "    }\n",
       "\n",
       "    .dataframe thead th {\n",
       "        text-align: right;\n",
       "    }\n",
       "</style>\n",
       "<table border=\"1\" class=\"dataframe\">\n",
       "  <thead>\n",
       "    <tr style=\"text-align: right;\">\n",
       "      <th></th>\n",
       "      <th>Unnamed: 0</th>\n",
       "      <th>Unnamed: 1</th>\n",
       "      <th>Movie Title</th>\n",
       "      <th>Distributor</th>\n",
       "      <th>Gross</th>\n",
       "      <th>%YD</th>\n",
       "      <th>%LW</th>\n",
       "      <th>Theaters</th>\n",
       "      <th>Per Theater</th>\n",
       "      <th>Total Gross</th>\n",
       "      <th>Days In Release</th>\n",
       "    </tr>\n",
       "  </thead>\n",
       "  <tbody>\n",
       "    <tr>\n",
       "      <th>0</th>\n",
       "      <td>1</td>\n",
       "      <td>(2)</td>\n",
       "      <td>Mufasa: The Lion King</td>\n",
       "      <td>Walt Disney</td>\n",
       "      <td>$14,722,175</td>\n",
       "      <td>+106%</td>\n",
       "      <td>NaN</td>\n",
       "      <td>4100.0</td>\n",
       "      <td>$3,591</td>\n",
       "      <td>$64,376,120</td>\n",
       "      <td>6.0</td>\n",
       "    </tr>\n",
       "    <tr>\n",
       "      <th>1</th>\n",
       "      <td>2</td>\n",
       "      <td>N</td>\n",
       "      <td>Nosferatu</td>\n",
       "      <td>Focus Features</td>\n",
       "      <td>$11,552,825</td>\n",
       "      <td>NaN</td>\n",
       "      <td>NaN</td>\n",
       "      <td>2911.0</td>\n",
       "      <td>$3,969</td>\n",
       "      <td>$11,552,825</td>\n",
       "      <td>1.0</td>\n",
       "    </tr>\n",
       "    <tr>\n",
       "      <th>2</th>\n",
       "      <td>3</td>\n",
       "      <td>(1)</td>\n",
       "      <td>Sonic the Hedgehog 3</td>\n",
       "      <td>Paramount Pi…</td>\n",
       "      <td>$10,351,772</td>\n",
       "      <td>+38%</td>\n",
       "      <td>NaN</td>\n",
       "      <td>3769.0</td>\n",
       "      <td>$2,747</td>\n",
       "      <td>$88,003,028</td>\n",
       "      <td>6.0</td>\n",
       "    </tr>\n",
       "    <tr>\n",
       "      <th>3</th>\n",
       "      <td>4</td>\n",
       "      <td>N</td>\n",
       "      <td>A Complete Unknown</td>\n",
       "      <td>Searchlight …</td>\n",
       "      <td>$7,201,242</td>\n",
       "      <td>NaN</td>\n",
       "      <td>NaN</td>\n",
       "      <td>2835.0</td>\n",
       "      <td>$2,540</td>\n",
       "      <td>$7,201,242</td>\n",
       "      <td>1.0</td>\n",
       "    </tr>\n",
       "    <tr>\n",
       "      <th>4</th>\n",
       "      <td>5</td>\n",
       "      <td>(3)</td>\n",
       "      <td>Wicked</td>\n",
       "      <td>Universal</td>\n",
       "      <td>$5,399,625</td>\n",
       "      <td>+66%</td>\n",
       "      <td>+96%</td>\n",
       "      <td>3177.0</td>\n",
       "      <td>$1,700</td>\n",
       "      <td>$397,890,620</td>\n",
       "      <td>34.0</td>\n",
       "    </tr>\n",
       "  </tbody>\n",
       "</table>\n",
       "</div>"
      ],
      "text/plain": [
       "  Unnamed: 0 Unnamed: 1            Movie Title     Distributor        Gross  \\\n",
       "0          1        (2)  Mufasa: The Lion King     Walt Disney  $14,722,175   \n",
       "1          2          N              Nosferatu  Focus Features  $11,552,825   \n",
       "2          3        (1)   Sonic the Hedgehog 3   Paramount Pi…  $10,351,772   \n",
       "3          4          N     A Complete Unknown   Searchlight …   $7,201,242   \n",
       "4          5        (3)                 Wicked       Universal   $5,399,625   \n",
       "\n",
       "     %YD   %LW  Theaters Per Theater   Total Gross  Days In Release  \n",
       "0  +106%   NaN    4100.0      $3,591   $64,376,120              6.0  \n",
       "1    NaN   NaN    2911.0      $3,969   $11,552,825              1.0  \n",
       "2   +38%   NaN    3769.0      $2,747   $88,003,028              6.0  \n",
       "3    NaN   NaN    2835.0      $2,540    $7,201,242              1.0  \n",
       "4   +66%  +96%    3177.0      $1,700  $397,890,620             34.0  "
      ]
     },
     "execution_count": 13,
     "metadata": {},
     "output_type": "execute_result"
    }
   ],
   "source": [
    "xmas_bo_table_as_string = str(xmas_bo_tables[1])\n",
    "\n",
    "pd.read_html(xmas_bo_table_as_string)[0].head()"
   ]
  },
  {
   "cell_type": "markdown",
   "metadata": {},
   "source": [
    "Finally, you can point `read_html` at a URL without any `requests` or `BeautifulSoup` and get all the tables on the page as a list of DataFrames. `pandas` is simply doing the `requests` and `BeautifulSoup` on the inside. Interestingly, I'm getting a [HTTP 403](https://en.wikipedia.org/wiki/HTTP_403) error indicating the server (The Numbers) is forbidding the client (us) from accessing their data using this strategy. We will discuss next week whether and how to handle situations where web servers refuse connections from non-human clients. In this case, you cannot use the off-the-shelf `read_html` approach and would need to revert to using the `requests`+`BeautifulSoup` approach above."
   ]
  },
  {
   "cell_type": "code",
   "execution_count": 14,
   "metadata": {},
   "outputs": [
    {
     "data": {
      "text/plain": [
       "[                  0            1             2\n",
       " 0  ← Previous Chart  Chart Index  Next Chart →,\n",
       "    Unnamed: 0 Unnamed: 1                 Movie Title     Distributor  \\\n",
       " 0           1        (2)       Mufasa: The Lion King     Walt Disney   \n",
       " 1           2          N                   Nosferatu  Focus Features   \n",
       " 2           3        (1)        Sonic the Hedgehog 3   Paramount Pi…   \n",
       " 3           4          N          A Complete Unknown   Searchlight …   \n",
       " 4           5        (3)                      Wicked       Universal   \n",
       " 5           6        (4)                     Moana 2     Walt Disney   \n",
       " 6           7          N             The Fire Inside   Amazon MGM S…   \n",
       " 7           8          N                    Babygirl             A24   \n",
       " 8           9        (5)                Gladiator II   Paramount Pi…   \n",
       " 9          10        (6)                   Homestead   Angel Studios   \n",
       " 10          -        (7)           Kraven the Hunter   Sony Pictures   \n",
       " 11          -        (8)                     Red One   Amazon MGM S…   \n",
       " 12          -        (9)  The Best Christmas Pagean…       Lionsgate   \n",
       " 13          -       (10)  The Lord of the Rings: Th…    Warner Bros.   \n",
       " 14          -        (-)               The Brutalist             A24   \n",
       " 15          -        (-)                 A Real Pain   Searchlight …   \n",
       " 16          -        (-)          The Room Next Door   Sony Picture…   \n",
       " 17          -        (-)                       Anora            Neon   \n",
       " 18          -        (-)                    Conclave  Focus Features   \n",
       " 19          -        (-)                  Los Frikis   Falling Forw…   \n",
       " 20          -        (-)                 Nickel Boys   Amazon MGM S…   \n",
       " 21          -          N                  Better Man   Paramount Pi…   \n",
       " 22          -        (-)   The Count of Monte Cristo   Samuel Goldw…   \n",
       " 23          -        (-)                 September 5   Paramount Pi…   \n",
       " 24          -        (-)  The Seed of the Sacred Fig            Neon   \n",
       " 25          -        (-)  Bonhoeffer: Pastor. Spy. …   Angel Studios   \n",
       " 26          -        (-)                   The Order   Vertical Ent…   \n",
       " 27          -        (-)       Venom: The Last Dance   Sony Pictures   \n",
       " 28          -        (-)              The Wild Robot       Universal   \n",
       " 29          -        (-)               The Substance            MUBI   \n",
       " 30          -        (-)     Small Things Like These   Roadside Att…   \n",
       " 31          -        (-)                     The End            Neon   \n",
       " 32          -        (-)    The Girl With the Needle            MUBI   \n",
       " 33          -        (-)            Day of the Fight   Falling Forw…   \n",
       " 34          -        (-)                  Werewolves   Briarcliff E…   \n",
       " 35        NaN        NaN                         NaN             NaN   \n",
       " 36        NaN        NaN                          35             NaN   \n",
       " \n",
       "           Gross      %YD    %LW  Theaters Per Theater   Total Gross  \\\n",
       " 0   $14,722,175    +106%    NaN    4100.0      $3,591   $64,376,120   \n",
       " 1   $11,552,825      NaN    NaN    2911.0      $3,969   $11,552,825   \n",
       " 2   $10,351,772     +38%    NaN    3769.0      $2,747   $88,003,028   \n",
       " 3    $7,201,242      NaN    NaN    2835.0      $2,540    $7,201,242   \n",
       " 4    $5,399,625     +66%   +96%    3177.0      $1,700  $397,890,620   \n",
       " 5    $4,257,256     +41%  +111%    3410.0      $1,248  $370,590,553   \n",
       " 6    $1,686,387      NaN    NaN    2006.0        $841    $1,686,387   \n",
       " 7    $1,528,620      NaN    NaN    2094.0        $730    $1,528,620   \n",
       " 8    $1,496,789     +57%   +64%    1865.0        $803  $157,664,052   \n",
       " 9    $1,190,515    +103%    NaN    1886.0        $631    $8,662,431   \n",
       " 10     $683,942     +36%    -4%    2437.0        $281   $19,162,999   \n",
       " 11     $206,587     -41%   -44%    2002.0        $103   $96,364,748   \n",
       " 12     $188,689     -32%   -31%     525.0        $359   $39,176,866   \n",
       " 13     $129,623     -30%   -63%    1378.0         $94    $7,949,620   \n",
       " 14      $74,965     +93%    NaN       6.0     $12,494      $429,580   \n",
       " 15      $50,240     +28%   +61%     100.0        $502    $7,474,062   \n",
       " 16      $28,587    +125%    NaN       6.0      $4,765      $160,045   \n",
       " 17      $27,639     +10%   -44%     118.0        $234   $13,936,227   \n",
       " 18      $18,610     -21%   -25%      57.0        $326   $31,158,485   \n",
       " 19      $15,003  +1,020%    NaN       8.0      $1,875       $57,687   \n",
       " 20      $11,671     +47%   +81%       5.0      $2,334      $175,103   \n",
       " 21      $11,609      NaN    NaN       6.0      $1,935       $11,609   \n",
       " 22       $8,445    +112%    NaN       4.0      $2,111       $34,647   \n",
       " 23       $7,976     +12%    -2%       5.0      $1,595      $176,518   \n",
       " 24       $7,758    +155%   +87%      10.0        $776      $187,470   \n",
       " 25       $6,143     -16%   -84%      70.0         $88   $12,073,541   \n",
       " 26       $4,261     -68%   -92%     102.0         $42    $1,950,493   \n",
       " 27       $4,184     -27%   -85%      27.0        $155  $139,708,107   \n",
       " 28       $2,405     -45%   -93%     102.0         $24  $143,126,460   \n",
       " 29       $1,383    +147%   +60%       7.0        $198   $16,437,296   \n",
       " 30         $918     -29%   -68%      17.0         $54    $1,546,839   \n",
       " 31         $675     -50%   -95%      21.0         $32      $140,817   \n",
       " 32         $671      -7%   -37%       8.0         $84       $43,057   \n",
       " 33         $257     -32%   -81%       8.0         $32       $72,068   \n",
       " 34         $141     -63%  -100%      25.0          $6    $1,902,266   \n",
       " 35          NaN      NaN    NaN       NaN         NaN           NaN   \n",
       " 36  $60,879,588      NaN    NaN       NaN         NaN           NaN   \n",
       " \n",
       "     Days In Release  \n",
       " 0               6.0  \n",
       " 1               1.0  \n",
       " 2               6.0  \n",
       " 3               1.0  \n",
       " 4              34.0  \n",
       " 5              29.0  \n",
       " 6               1.0  \n",
       " 7               1.0  \n",
       " 8              34.0  \n",
       " 9               6.0  \n",
       " 10             13.0  \n",
       " 11             41.0  \n",
       " 12             48.0  \n",
       " 13             13.0  \n",
       " 14              6.0  \n",
       " 15             55.0  \n",
       " 16              6.0  \n",
       " 17             69.0  \n",
       " 18             62.0  \n",
       " 19              6.0  \n",
       " 20             13.0  \n",
       " 21              1.0  \n",
       " 22              6.0  \n",
       " 23             13.0  \n",
       " 24             29.0  \n",
       " 25             34.0  \n",
       " 26             20.0  \n",
       " 27             62.0  \n",
       " 28             90.0  \n",
       " 29             97.0  \n",
       " 30             48.0  \n",
       " 31             20.0  \n",
       " 32             20.0  \n",
       " 33             20.0  \n",
       " 34             20.0  \n",
       " 35              NaN  \n",
       " 36              NaN  ]"
      ]
     },
     "execution_count": 14,
     "metadata": {},
     "output_type": "execute_result"
    }
   ],
   "source": [
    "simple_tables = pd.read_html('https://www.the-numbers.com/box-office-chart/daily/2024/12/25')\n",
    "simple_tables"
   ]
  },
  {
   "cell_type": "markdown",
   "metadata": {},
   "source": [
    "If we point it at Wikipedia's [2024 in film](https://en.wikipedia.org/wiki/2024_in_film), it will pull all of the tables present on the page."
   ]
  },
  {
   "cell_type": "code",
   "execution_count": 15,
   "metadata": {},
   "outputs": [],
   "source": [
    "simple_tables = pd.read_html('https://en.wikipedia.org/wiki/2024_in_film')"
   ]
  },
  {
   "cell_type": "markdown",
   "metadata": {},
   "source": [
    "The first two correspond to the \"Year in film\" navigation box on the side and are poorly-formatted by default."
   ]
  },
  {
   "cell_type": "code",
   "execution_count": 16,
   "metadata": {},
   "outputs": [
    {
     "data": {
      "text/html": [
       "<div>\n",
       "<style scoped>\n",
       "    .dataframe tbody tr th:only-of-type {\n",
       "        vertical-align: middle;\n",
       "    }\n",
       "\n",
       "    .dataframe tbody tr th {\n",
       "        vertical-align: top;\n",
       "    }\n",
       "\n",
       "    .dataframe thead th {\n",
       "        text-align: right;\n",
       "    }\n",
       "</style>\n",
       "<table border=\"1\" class=\"dataframe\">\n",
       "  <thead>\n",
       "    <tr style=\"text-align: right;\">\n",
       "      <th></th>\n",
       "      <th>List of years in film</th>\n",
       "      <th>Unnamed: 1</th>\n",
       "      <th>Unnamed: 2</th>\n",
       "    </tr>\n",
       "  </thead>\n",
       "  <tbody>\n",
       "    <tr>\n",
       "      <th>0</th>\n",
       "      <td>NaN</td>\n",
       "      <td>List of years in film</td>\n",
       "      <td>NaN</td>\n",
       "    </tr>\n",
       "    <tr>\n",
       "      <th>1</th>\n",
       "      <td>… 2014 2015 2016 2017 2018 2019 2020 2021 2022...</td>\n",
       "      <td>NaN</td>\n",
       "      <td>NaN</td>\n",
       "    </tr>\n",
       "    <tr>\n",
       "      <th>2</th>\n",
       "      <td>Art Archaeology Architecture Literature Music ...</td>\n",
       "      <td>NaN</td>\n",
       "      <td>NaN</td>\n",
       "    </tr>\n",
       "    <tr>\n",
       "      <th>3</th>\n",
       "      <td>NaN</td>\n",
       "      <td>vte</td>\n",
       "      <td>NaN</td>\n",
       "    </tr>\n",
       "  </tbody>\n",
       "</table>\n",
       "</div>"
      ],
      "text/plain": [
       "                               List of years in film             Unnamed: 1  \\\n",
       "0                                                NaN  List of years in film   \n",
       "1  … 2014 2015 2016 2017 2018 2019 2020 2021 2022...                    NaN   \n",
       "2  Art Archaeology Architecture Literature Music ...                    NaN   \n",
       "3                                                NaN                    vte   \n",
       "\n",
       "   Unnamed: 2  \n",
       "0         NaN  \n",
       "1         NaN  \n",
       "2         NaN  \n",
       "3         NaN  "
      ]
     },
     "execution_count": 16,
     "metadata": {},
     "output_type": "execute_result"
    }
   ],
   "source": [
    "simple_tables[0]"
   ]
  },
  {
   "cell_type": "markdown",
   "metadata": {},
   "source": [
    "The second table in the `simple_tables` list we got from parsing the Wikipedia page with `read_html` is the table under the \"Highest-grossing films\" section."
   ]
  },
  {
   "cell_type": "code",
   "execution_count": 17,
   "metadata": {},
   "outputs": [
    {
     "data": {
      "text/html": [
       "<div>\n",
       "<style scoped>\n",
       "    .dataframe tbody tr th:only-of-type {\n",
       "        vertical-align: middle;\n",
       "    }\n",
       "\n",
       "    .dataframe tbody tr th {\n",
       "        vertical-align: top;\n",
       "    }\n",
       "\n",
       "    .dataframe thead th {\n",
       "        text-align: right;\n",
       "    }\n",
       "</style>\n",
       "<table border=\"1\" class=\"dataframe\">\n",
       "  <thead>\n",
       "    <tr style=\"text-align: right;\">\n",
       "      <th></th>\n",
       "      <th>Rank</th>\n",
       "      <th>Title</th>\n",
       "      <th>Distributor</th>\n",
       "      <th>Worldwide gross</th>\n",
       "    </tr>\n",
       "  </thead>\n",
       "  <tbody>\n",
       "    <tr>\n",
       "      <th>0</th>\n",
       "      <td>1</td>\n",
       "      <td>Inside Out 2</td>\n",
       "      <td>Disney</td>\n",
       "      <td>$1,698,863,816</td>\n",
       "    </tr>\n",
       "    <tr>\n",
       "      <th>1</th>\n",
       "      <td>2</td>\n",
       "      <td>Deadpool &amp; Wolverine</td>\n",
       "      <td>Disney</td>\n",
       "      <td>$1,338,073,645</td>\n",
       "    </tr>\n",
       "    <tr>\n",
       "      <th>2</th>\n",
       "      <td>3</td>\n",
       "      <td>Moana 2</td>\n",
       "      <td>Disney</td>\n",
       "      <td>$1,059,269,477</td>\n",
       "    </tr>\n",
       "    <tr>\n",
       "      <th>3</th>\n",
       "      <td>4</td>\n",
       "      <td>Despicable Me 4</td>\n",
       "      <td>Universal</td>\n",
       "      <td>$971,105,208</td>\n",
       "    </tr>\n",
       "    <tr>\n",
       "      <th>4</th>\n",
       "      <td>5</td>\n",
       "      <td>Wicked</td>\n",
       "      <td>Universal</td>\n",
       "      <td>$753,700,072</td>\n",
       "    </tr>\n",
       "    <tr>\n",
       "      <th>5</th>\n",
       "      <td>6</td>\n",
       "      <td>Mufasa: The Lion King</td>\n",
       "      <td>Disney</td>\n",
       "      <td>$722,339,600</td>\n",
       "    </tr>\n",
       "    <tr>\n",
       "      <th>6</th>\n",
       "      <td>7</td>\n",
       "      <td>Dune: Part Two</td>\n",
       "      <td>Warner Bros.</td>\n",
       "      <td>$714,644,358</td>\n",
       "    </tr>\n",
       "    <tr>\n",
       "      <th>7</th>\n",
       "      <td>8</td>\n",
       "      <td>Godzilla x Kong: The New Empire</td>\n",
       "      <td>Warner Bros.</td>\n",
       "      <td>$571,850,016</td>\n",
       "    </tr>\n",
       "    <tr>\n",
       "      <th>8</th>\n",
       "      <td>9</td>\n",
       "      <td>Kung Fu Panda 4</td>\n",
       "      <td>Universal</td>\n",
       "      <td>$547,689,492</td>\n",
       "    </tr>\n",
       "    <tr>\n",
       "      <th>9</th>\n",
       "      <td>10</td>\n",
       "      <td>Sonic the Hedgehog 3</td>\n",
       "      <td>Paramount</td>\n",
       "      <td>$491,946,657</td>\n",
       "    </tr>\n",
       "  </tbody>\n",
       "</table>\n",
       "</div>"
      ],
      "text/plain": [
       "   Rank                            Title   Distributor Worldwide gross\n",
       "0     1                     Inside Out 2        Disney  $1,698,863,816\n",
       "1     2             Deadpool & Wolverine        Disney  $1,338,073,645\n",
       "2     3                          Moana 2        Disney  $1,059,269,477\n",
       "3     4                  Despicable Me 4     Universal    $971,105,208\n",
       "4     5                           Wicked     Universal    $753,700,072\n",
       "5     6            Mufasa: The Lion King        Disney    $722,339,600\n",
       "6     7                   Dune: Part Two  Warner Bros.    $714,644,358\n",
       "7     8  Godzilla x Kong: The New Empire  Warner Bros.    $571,850,016\n",
       "8     9                  Kung Fu Panda 4     Universal    $547,689,492\n",
       "9    10             Sonic the Hedgehog 3     Paramount    $491,946,657"
      ]
     },
     "execution_count": 17,
     "metadata": {},
     "output_type": "execute_result"
    }
   ],
   "source": [
    "simple_tables[2]"
   ]
  },
  {
   "cell_type": "markdown",
   "metadata": {},
   "source": [
    "Then all together."
   ]
  },
  {
   "cell_type": "code",
   "execution_count": 18,
   "metadata": {},
   "outputs": [
    {
     "data": {
      "text/html": [
       "<div>\n",
       "<style scoped>\n",
       "    .dataframe tbody tr th:only-of-type {\n",
       "        vertical-align: middle;\n",
       "    }\n",
       "\n",
       "    .dataframe tbody tr th {\n",
       "        vertical-align: top;\n",
       "    }\n",
       "\n",
       "    .dataframe thead th {\n",
       "        text-align: right;\n",
       "    }\n",
       "</style>\n",
       "<table border=\"1\" class=\"dataframe\">\n",
       "  <thead>\n",
       "    <tr style=\"text-align: right;\">\n",
       "      <th></th>\n",
       "      <th>Rank</th>\n",
       "      <th>Title</th>\n",
       "      <th>Distributor</th>\n",
       "      <th>Worldwide gross</th>\n",
       "    </tr>\n",
       "  </thead>\n",
       "  <tbody>\n",
       "    <tr>\n",
       "      <th>0</th>\n",
       "      <td>1</td>\n",
       "      <td>Inside Out 2</td>\n",
       "      <td>Disney</td>\n",
       "      <td>$1,698,863,816</td>\n",
       "    </tr>\n",
       "    <tr>\n",
       "      <th>1</th>\n",
       "      <td>2</td>\n",
       "      <td>Deadpool &amp; Wolverine</td>\n",
       "      <td>Disney</td>\n",
       "      <td>$1,338,073,645</td>\n",
       "    </tr>\n",
       "    <tr>\n",
       "      <th>2</th>\n",
       "      <td>3</td>\n",
       "      <td>Moana 2</td>\n",
       "      <td>Disney</td>\n",
       "      <td>$1,059,269,477</td>\n",
       "    </tr>\n",
       "    <tr>\n",
       "      <th>3</th>\n",
       "      <td>4</td>\n",
       "      <td>Despicable Me 4</td>\n",
       "      <td>Universal</td>\n",
       "      <td>$971,105,208</td>\n",
       "    </tr>\n",
       "    <tr>\n",
       "      <th>4</th>\n",
       "      <td>5</td>\n",
       "      <td>Wicked</td>\n",
       "      <td>Universal</td>\n",
       "      <td>$753,700,072</td>\n",
       "    </tr>\n",
       "    <tr>\n",
       "      <th>5</th>\n",
       "      <td>6</td>\n",
       "      <td>Mufasa: The Lion King</td>\n",
       "      <td>Disney</td>\n",
       "      <td>$722,339,600</td>\n",
       "    </tr>\n",
       "    <tr>\n",
       "      <th>6</th>\n",
       "      <td>7</td>\n",
       "      <td>Dune: Part Two</td>\n",
       "      <td>Warner Bros.</td>\n",
       "      <td>$714,644,358</td>\n",
       "    </tr>\n",
       "    <tr>\n",
       "      <th>7</th>\n",
       "      <td>8</td>\n",
       "      <td>Godzilla x Kong: The New Empire</td>\n",
       "      <td>Warner Bros.</td>\n",
       "      <td>$571,850,016</td>\n",
       "    </tr>\n",
       "    <tr>\n",
       "      <th>8</th>\n",
       "      <td>9</td>\n",
       "      <td>Kung Fu Panda 4</td>\n",
       "      <td>Universal</td>\n",
       "      <td>$547,689,492</td>\n",
       "    </tr>\n",
       "    <tr>\n",
       "      <th>9</th>\n",
       "      <td>10</td>\n",
       "      <td>Sonic the Hedgehog 3</td>\n",
       "      <td>Paramount</td>\n",
       "      <td>$491,946,657</td>\n",
       "    </tr>\n",
       "  </tbody>\n",
       "</table>\n",
       "</div>"
      ],
      "text/plain": [
       "   Rank                            Title   Distributor Worldwide gross\n",
       "0     1                     Inside Out 2        Disney  $1,698,863,816\n",
       "1     2             Deadpool & Wolverine        Disney  $1,338,073,645\n",
       "2     3                          Moana 2        Disney  $1,059,269,477\n",
       "3     4                  Despicable Me 4     Universal    $971,105,208\n",
       "4     5                           Wicked     Universal    $753,700,072\n",
       "5     6            Mufasa: The Lion King        Disney    $722,339,600\n",
       "6     7                   Dune: Part Two  Warner Bros.    $714,644,358\n",
       "7     8  Godzilla x Kong: The New Empire  Warner Bros.    $571,850,016\n",
       "8     9                  Kung Fu Panda 4     Universal    $547,689,492\n",
       "9    10             Sonic the Hedgehog 3     Paramount    $491,946,657"
      ]
     },
     "execution_count": 18,
     "metadata": {},
     "output_type": "execute_result"
    }
   ],
   "source": [
    "wiki_top_grossing_t = pd.read_html('https://en.wikipedia.org/wiki/2024_in_film')[2]\n",
    "wiki_top_grossing_t"
   ]
  },
  {
   "cell_type": "markdown",
   "metadata": {},
   "source": [
    "## Writing your own parser\n",
    "\n",
    "We will return to the historical Oscars data. Even though data as prominent as this is likely to already exist in tabular format somewhere, we will maintain the illusion that we are the first to both scrape it and parse it into a tabular format. Our goal here is to write a parser that will (ideally) work across multiple pages; in this case, each of the award years.\n",
    "\n",
    "One of the first things we should do before writing any code is come up with a model of what we want our data to look like at the end of this. This is an intuitive and \"tidy\" format, but you might come up with alternatives based on your analysis and modeling needs.\n",
    "\n",
    "| *Year* | *Category* | *Nominee* | *Movie* | *Won* |\n",
    "| --- | --- | --- | --- | --- |\n",
    "| 2025 | Actor in a leading role | Adrian Brody | The Brutalist | Winner |\n",
    "| 2025 | Actor in a leading role | Timothee Chalamet | A Complete Unknown | No |\n",
    "| 2025 | Actor in a leading role | Colman Domingo | Sing Sing | No |\n",
    "| 2025 | Actor in a leading role | Ralph Fieenes | Conclave | No |\n",
    "| 2025 | Actor in a leading role | Viggo Mortensen | The Apprentice | No |\n",
    "\n",
    "We will begin with writing a parser for a (hopefully!) representative year, then scrape the data for all the years, then apply the scraper to each of those years, and finally combine all the years' data together into a large data set. \n",
    "\n",
    "Let's begin with writing a parser for a (hopefully!) representative year of 2025.\n",
    "\n",
    "Start off with using `requests` to get the data and then use `BeautifulSoup` to turn it into soup we can parse through."
   ]
  },
  {
   "cell_type": "code",
   "execution_count": 19,
   "metadata": {},
   "outputs": [],
   "source": [
    "headers = {'User-Agent':'Mozilla/5.0 (Windows NT 10.0; Win64; x64)'}\n",
    "\n",
    "# Pretend to be a web browser and make a get request of a webpage\n",
    "oscars2025_raw = requests.get('https://www.oscars.org/oscars/ceremonies/2025',headers=headers).text\n",
    "\n",
    "\n",
    "oscars2025_soup = BeautifulSoup(oscars2025_raw)"
   ]
  },
  {
   "cell_type": "code",
   "execution_count": 21,
   "metadata": {},
   "outputs": [],
   "source": [
    "#oscars2025_soup"
   ]
  },
  {
   "cell_type": "markdown",
   "metadata": {},
   "source": [
    "Using the Inspect tool, the `<div class=\"paragraph--type--award-category\">` seems to be the most promising tag for us to extract. Use `.find_all('div',{'class':'paragraph--type--award-category'})` to (hopefully!) get all of these award groups. Inspect the first and last ones to make sure they looks coherent."
   ]
  },
  {
   "cell_type": "code",
   "execution_count": 57,
   "metadata": {},
   "outputs": [
    {
     "data": {
      "text/plain": [
       "<div class=\"paragraph paragraph--type--award-category paragraph--view-mode--default\" data-term-id=\"1731\">\n",
       "<div class=\"field field--name-field-award-category-oscars field--type-entity-reference field--label-hidden field__item\">Actor in a Leading Role</div>\n",
       "<div class=\"field field--name-field-award-honorees field--type-entity-reference-revisions field--label-hidden field__items\">\n",
       "<div class=\"field__item\">\n",
       "<div class=\"paragraph paragraph--type--award-honoree paragraph--view-mode--oscars\">\n",
       "<div class=\"field field--name-field-honoree-type winner\">Winner</div>\n",
       "<div class=\"field\">\n",
       "<div class=\"field field--name-field-award-entities field--type-entity-reference field--label-hidden field__items\">\n",
       "<div class=\"field__item\">Adrien Brody</div>\n",
       "</div>\n",
       "</div>\n",
       "<div class=\"field\">\n",
       "<div class=\"field field--name-field-award-film field--type-entity-reference field--label-hidden field__item\">The Brutalist</div>\n",
       "</div>\n",
       "</div>\n",
       "</div>\n",
       "<div class=\"field__item\">\n",
       "<div class=\"paragraph paragraph--type--award-honoree paragraph--view-mode--oscars\">\n",
       "<div class=\"field field--name-field-honoree-type nominee\">Nominees</div>\n",
       "<div class=\"field\">\n",
       "<div class=\"field field--name-field-award-entities field--type-entity-reference field--label-hidden field__items\">\n",
       "<div class=\"field__item\">Timothée Chalamet</div>\n",
       "</div>\n",
       "</div>\n",
       "<div class=\"field\">\n",
       "<div class=\"field field--name-field-award-film field--type-entity-reference field--label-hidden field__item\">A Complete Unknown</div>\n",
       "</div>\n",
       "</div>\n",
       "</div>\n",
       "<div class=\"field__item\">\n",
       "<div class=\"paragraph paragraph--type--award-honoree paragraph--view-mode--oscars\">\n",
       "<div class=\"field field--name-field-honoree-type nominee\">Nominees</div>\n",
       "<div class=\"field\">\n",
       "<div class=\"field field--name-field-award-entities field--type-entity-reference field--label-hidden field__items\">\n",
       "<div class=\"field__item\">Colman Domingo</div>\n",
       "</div>\n",
       "</div>\n",
       "<div class=\"field\">\n",
       "<div class=\"field field--name-field-award-film field--type-entity-reference field--label-hidden field__item\">Sing Sing</div>\n",
       "</div>\n",
       "</div>\n",
       "</div>\n",
       "<div class=\"field__item\">\n",
       "<div class=\"paragraph paragraph--type--award-honoree paragraph--view-mode--oscars\">\n",
       "<div class=\"field field--name-field-honoree-type nominee\">Nominees</div>\n",
       "<div class=\"field\">\n",
       "<div class=\"field field--name-field-award-entities field--type-entity-reference field--label-hidden field__items\">\n",
       "<div class=\"field__item\">Ralph Fiennes</div>\n",
       "</div>\n",
       "</div>\n",
       "<div class=\"field\">\n",
       "<div class=\"field field--name-field-award-film field--type-entity-reference field--label-hidden field__item\">Conclave</div>\n",
       "</div>\n",
       "</div>\n",
       "</div>\n",
       "<div class=\"field__item\">\n",
       "<div class=\"paragraph paragraph--type--award-honoree paragraph--view-mode--oscars\">\n",
       "<div class=\"field field--name-field-honoree-type nominee\">Nominees</div>\n",
       "<div class=\"field\">\n",
       "<div class=\"field field--name-field-award-entities field--type-entity-reference field--label-hidden field__items\">\n",
       "<div class=\"field__item\">Sebastian Stan</div>\n",
       "</div>\n",
       "</div>\n",
       "<div class=\"field\">\n",
       "<div class=\"field field--name-field-award-film field--type-entity-reference field--label-hidden field__item\">The Apprentice</div>\n",
       "</div>\n",
       "</div>\n",
       "</div>\n",
       "</div>\n",
       "</div>"
      ]
     },
     "execution_count": 57,
     "metadata": {},
     "output_type": "execute_result"
    }
   ],
   "source": [
    "\n",
    "#oscars2025_groups = oscars2025_soup.find_all('div',{'class':\"field field--name-field-award-honorees field--type-entity-reference-revisions field--label-hidden field__items\"})\n",
    "\n",
    "oscars2025_groups = oscars2025_soup.find_all('div',{'class':\"paragraph--type--award-category\"})\n",
    "\n",
    "# Inspect the first one\n",
    "oscars2025_groups[0]\n",
    "\n"
   ]
  },
  {
   "cell_type": "code",
   "execution_count": 58,
   "metadata": {},
   "outputs": [
    {
     "data": {
      "text/plain": [
       "<div class=\"paragraph paragraph--type--award-category paragraph--view-mode--default\" data-term-id=\"2296\">\n",
       "<div class=\"field field--name-field-award-category-oscars field--type-entity-reference field--label-hidden field__item\">Writing (Original Screenplay)</div>\n",
       "<div class=\"field field--name-field-award-honorees field--type-entity-reference-revisions field--label-hidden field__items\">\n",
       "<div class=\"field__item\">\n",
       "<div class=\"paragraph paragraph--type--award-honoree paragraph--view-mode--oscars\">\n",
       "<div class=\"field field--name-field-honoree-type winner\">Winner</div>\n",
       "<div class=\"field\">\n",
       "<div class=\"field field--name-field-award-film field--type-entity-reference field--label-hidden field__item\">Anora</div>\n",
       "</div>\n",
       "<div class=\"field\">\n",
       "<div class=\"field field--name-field-award-entities field--type-entity-reference field--label-hidden field__items\">\n",
       "<div class=\"field__item\">Written by Sean Baker</div>\n",
       "</div>\n",
       "</div>\n",
       "</div>\n",
       "</div>\n",
       "<div class=\"field__item\">\n",
       "<div class=\"paragraph paragraph--type--award-honoree paragraph--view-mode--oscars\">\n",
       "<div class=\"field field--name-field-honoree-type nominee\">Nominees</div>\n",
       "<div class=\"field\">\n",
       "<div class=\"field field--name-field-award-film field--type-entity-reference field--label-hidden field__item\">The Brutalist</div>\n",
       "</div>\n",
       "<div class=\"field\">\n",
       "<div class=\"field field--name-field-award-entities field--type-entity-reference field--label-hidden field__items\">\n",
       "<div class=\"field__item\">Written by Brady Corbet, Mona Fastvold</div>\n",
       "</div>\n",
       "</div>\n",
       "</div>\n",
       "</div>\n",
       "<div class=\"field__item\">\n",
       "<div class=\"paragraph paragraph--type--award-honoree paragraph--view-mode--oscars\">\n",
       "<div class=\"field field--name-field-honoree-type nominee\">Nominees</div>\n",
       "<div class=\"field\">\n",
       "<div class=\"field field--name-field-award-film field--type-entity-reference field--label-hidden field__item\">A Real Pain</div>\n",
       "</div>\n",
       "<div class=\"field\">\n",
       "<div class=\"field field--name-field-award-entities field--type-entity-reference field--label-hidden field__items\">\n",
       "<div class=\"field__item\">Written by Jesse Eisenberg</div>\n",
       "</div>\n",
       "</div>\n",
       "</div>\n",
       "</div>\n",
       "<div class=\"field__item\">\n",
       "<div class=\"paragraph paragraph--type--award-honoree paragraph--view-mode--oscars\">\n",
       "<div class=\"field field--name-field-honoree-type nominee\">Nominees</div>\n",
       "<div class=\"field\">\n",
       "<div class=\"field field--name-field-award-film field--type-entity-reference field--label-hidden field__item\">September 5</div>\n",
       "</div>\n",
       "<div class=\"field\">\n",
       "<div class=\"field field--name-field-award-entities field--type-entity-reference field--label-hidden field__items\">\n",
       "<div class=\"field__item\">Written by Moritz Binder, Tim Fehlbaum; Co-Written by Alex David</div>\n",
       "</div>\n",
       "</div>\n",
       "</div>\n",
       "</div>\n",
       "<div class=\"field__item\">\n",
       "<div class=\"paragraph paragraph--type--award-honoree paragraph--view-mode--oscars\">\n",
       "<div class=\"field field--name-field-honoree-type nominee\">Nominees</div>\n",
       "<div class=\"field\">\n",
       "<div class=\"field field--name-field-award-film field--type-entity-reference field--label-hidden field__item\">The Substance</div>\n",
       "</div>\n",
       "<div class=\"field\">\n",
       "<div class=\"field field--name-field-award-entities field--type-entity-reference field--label-hidden field__items\">\n",
       "<div class=\"field__item\">Written by Coralie Fargeat</div>\n",
       "</div>\n",
       "</div>\n",
       "</div>\n",
       "</div>\n",
       "</div>\n",
       "</div>"
      ]
     },
     "execution_count": 58,
     "metadata": {},
     "output_type": "execute_result"
    }
   ],
   "source": [
    "# Inspect the last one\n",
    "oscars2025_groups[-1]"
   ]
  },
  {
   "cell_type": "code",
   "execution_count": 45,
   "metadata": {},
   "outputs": [
    {
     "data": {
      "text/plain": [
       "23"
      ]
     },
     "execution_count": 45,
     "metadata": {},
     "output_type": "execute_result"
    }
   ],
   "source": [
    "len(oscars2025_groups)"
   ]
  },
  {
   "cell_type": "code",
   "execution_count": null,
   "metadata": {},
   "outputs": [],
   "source": []
  },
  {
   "cell_type": "markdown",
   "metadata": {},
   "source": [
    "### Navigating the HTML tree to find more specific elements\n",
    "We've parsed the html soup to get all the award categories. Now let's get more specific elements within each of the groups being honorees, film, and honoree type. "
   ]
  },
  {
   "cell_type": "code",
   "execution_count": 60,
   "metadata": {},
   "outputs": [
    {
     "data": {
      "text/plain": [
       "'Actor in a Leading Role'"
      ]
     },
     "execution_count": 60,
     "metadata": {},
     "output_type": "execute_result"
    }
   ],
   "source": [
    "category = oscars2025_groups[0].find('div', class_='field--name-field-award-category-oscars').get_text(strip=True)\n",
    "category"
   ]
  },
  {
   "cell_type": "code",
   "execution_count": 53,
   "metadata": {},
   "outputs": [
    {
     "data": {
      "text/plain": [
       "[<div class=\"paragraph paragraph--type--award-honoree paragraph--view-mode--oscars\">\n",
       " <div class=\"field field--name-field-honoree-type winner\">Winner</div>\n",
       " <div class=\"field\">\n",
       " <div class=\"field field--name-field-award-entities field--type-entity-reference field--label-hidden field__items\">\n",
       " <div class=\"field__item\">Adrien Brody</div>\n",
       " </div>\n",
       " </div>\n",
       " <div class=\"field\">\n",
       " <div class=\"field field--name-field-award-film field--type-entity-reference field--label-hidden field__item\">The Brutalist</div>\n",
       " </div>\n",
       " </div>,\n",
       " <div class=\"paragraph paragraph--type--award-honoree paragraph--view-mode--oscars\">\n",
       " <div class=\"field field--name-field-honoree-type nominee\">Nominees</div>\n",
       " <div class=\"field\">\n",
       " <div class=\"field field--name-field-award-entities field--type-entity-reference field--label-hidden field__items\">\n",
       " <div class=\"field__item\">Timothée Chalamet</div>\n",
       " </div>\n",
       " </div>\n",
       " <div class=\"field\">\n",
       " <div class=\"field field--name-field-award-film field--type-entity-reference field--label-hidden field__item\">A Complete Unknown</div>\n",
       " </div>\n",
       " </div>,\n",
       " <div class=\"paragraph paragraph--type--award-honoree paragraph--view-mode--oscars\">\n",
       " <div class=\"field field--name-field-honoree-type nominee\">Nominees</div>\n",
       " <div class=\"field\">\n",
       " <div class=\"field field--name-field-award-entities field--type-entity-reference field--label-hidden field__items\">\n",
       " <div class=\"field__item\">Colman Domingo</div>\n",
       " </div>\n",
       " </div>\n",
       " <div class=\"field\">\n",
       " <div class=\"field field--name-field-award-film field--type-entity-reference field--label-hidden field__item\">Sing Sing</div>\n",
       " </div>\n",
       " </div>,\n",
       " <div class=\"paragraph paragraph--type--award-honoree paragraph--view-mode--oscars\">\n",
       " <div class=\"field field--name-field-honoree-type nominee\">Nominees</div>\n",
       " <div class=\"field\">\n",
       " <div class=\"field field--name-field-award-entities field--type-entity-reference field--label-hidden field__items\">\n",
       " <div class=\"field__item\">Ralph Fiennes</div>\n",
       " </div>\n",
       " </div>\n",
       " <div class=\"field\">\n",
       " <div class=\"field field--name-field-award-film field--type-entity-reference field--label-hidden field__item\">Conclave</div>\n",
       " </div>\n",
       " </div>,\n",
       " <div class=\"paragraph paragraph--type--award-honoree paragraph--view-mode--oscars\">\n",
       " <div class=\"field field--name-field-honoree-type nominee\">Nominees</div>\n",
       " <div class=\"field\">\n",
       " <div class=\"field field--name-field-award-entities field--type-entity-reference field--label-hidden field__items\">\n",
       " <div class=\"field__item\">Sebastian Stan</div>\n",
       " </div>\n",
       " </div>\n",
       " <div class=\"field\">\n",
       " <div class=\"field field--name-field-award-film field--type-entity-reference field--label-hidden field__item\">The Apprentice</div>\n",
       " </div>\n",
       " </div>]"
      ]
     },
     "execution_count": 53,
     "metadata": {},
     "output_type": "execute_result"
    }
   ],
   "source": [
    "# Get all honorees (winner + nominees)\n",
    "honorees = oscars2025_groups[0].find_all('div', class_='paragraph--type--award-honoree')\n",
    "honorees"
   ]
  },
  {
   "cell_type": "code",
   "execution_count": null,
   "metadata": {},
   "outputs": [],
   "source": [
    "honorees[0].find('div', class_='field--name-field-honoree-type').get_text(strip=True)"
   ]
  },
  {
   "cell_type": "code",
   "execution_count": null,
   "metadata": {},
   "outputs": [],
   "source": [
    "honoree_type = honoree.find('div', class_='field--name-field-honoree-type').get_text(strip=True)"
   ]
  },
  {
   "cell_type": "markdown",
   "metadata": {},
   "source": [
    "### Put it all together to create single year scraper\n"
   ]
  },
  {
   "cell_type": "code",
   "execution_count": 66,
   "metadata": {},
   "outputs": [
    {
     "name": "stdout",
     "output_type": "stream",
     "text": [
      "                    Award Category  \\\n",
      "0          Actor in a Leading Role   \n",
      "1          Actor in a Leading Role   \n",
      "2          Actor in a Leading Role   \n",
      "3          Actor in a Leading Role   \n",
      "4          Actor in a Leading Role   \n",
      "..                             ...   \n",
      "115  Writing (Original Screenplay)   \n",
      "116  Writing (Original Screenplay)   \n",
      "117  Writing (Original Screenplay)   \n",
      "118  Writing (Original Screenplay)   \n",
      "119  Writing (Original Screenplay)   \n",
      "\n",
      "                                               Honoree                Film  \\\n",
      "0                                         Adrien Brody       The Brutalist   \n",
      "1                                    Timothée Chalamet  A Complete Unknown   \n",
      "2                                       Colman Domingo           Sing Sing   \n",
      "3                                        Ralph Fiennes            Conclave   \n",
      "4                                       Sebastian Stan      The Apprentice   \n",
      "..                                                 ...                 ...   \n",
      "115                              Written by Sean Baker               Anora   \n",
      "116             Written by Brady Corbet, Mona Fastvold       The Brutalist   \n",
      "117                         Written by Jesse Eisenberg         A Real Pain   \n",
      "118  Written by Moritz Binder, Tim Fehlbaum; Co-Wri...         September 5   \n",
      "119                         Written by Coralie Fargeat       The Substance   \n",
      "\n",
      "         Type  Year  \n",
      "0      Winner  2025  \n",
      "1    Nominees  2025  \n",
      "2    Nominees  2025  \n",
      "3    Nominees  2025  \n",
      "4    Nominees  2025  \n",
      "..        ...   ...  \n",
      "115    Winner  2025  \n",
      "116  Nominees  2025  \n",
      "117  Nominees  2025  \n",
      "118  Nominees  2025  \n",
      "119  Nominees  2025  \n",
      "\n",
      "[120 rows x 5 columns]\n"
     ]
    }
   ],
   "source": [
    "# Prepare a list to collect all award entries\n",
    "data = []\n",
    "\n",
    "# Find the section containing award categories\n",
    "categories = oscars2025_soup.find_all('div', class_='paragraph--type--award-category')\n",
    "\n",
    "for category in categories:\n",
    "    # Get the award category name\n",
    "    category_name = category.find('div', class_='field--name-field-award-category-oscars').get_text(strip=True)\n",
    "    \n",
    "    # Get all honorees (winner + nominees)\n",
    "    honorees = category.find_all('div', class_='paragraph--type--award-honoree')\n",
    "    \n",
    "    for honoree in honorees:\n",
    "        # Type: Winner or Nominee\n",
    "        honoree_type = honoree.find('div', class_='field--name-field-honoree-type').get_text(strip=True)\n",
    "        \n",
    "        # Honoree name(s)\n",
    "        honoree_entities = honoree.find('div', class_='field--name-field-award-entities')\n",
    "        honoree_name = honoree_entities.get_text(strip=True) if honoree_entities else \"\"\n",
    "        \n",
    "        # Film\n",
    "        film = honoree.find('div', class_='field--name-field-award-film')\n",
    "        film_name = film.get_text(strip=True) if film else \"\"\n",
    "        \n",
    "        # Append to the list\n",
    "        data.append({\n",
    "            'Award Category': category_name,\n",
    "            'Honoree': honoree_name,\n",
    "            'Film': film_name,\n",
    "            'Type': honoree_type,\n",
    "            'Year': 2025 #lets add year as well\n",
    "        })\n",
    "\n",
    "# Turn into a DataFrame for a nice table\n",
    "df = pd.DataFrame(data)\n",
    "\n",
    "print(df)"
   ]
  },
  {
   "cell_type": "code",
   "execution_count": 67,
   "metadata": {},
   "outputs": [
    {
     "data": {
      "text/html": [
       "<div>\n",
       "<style scoped>\n",
       "    .dataframe tbody tr th:only-of-type {\n",
       "        vertical-align: middle;\n",
       "    }\n",
       "\n",
       "    .dataframe tbody tr th {\n",
       "        vertical-align: top;\n",
       "    }\n",
       "\n",
       "    .dataframe thead th {\n",
       "        text-align: right;\n",
       "    }\n",
       "</style>\n",
       "<table border=\"1\" class=\"dataframe\">\n",
       "  <thead>\n",
       "    <tr style=\"text-align: right;\">\n",
       "      <th></th>\n",
       "      <th>Award Category</th>\n",
       "      <th>Honoree</th>\n",
       "      <th>Film</th>\n",
       "      <th>Type</th>\n",
       "      <th>Year</th>\n",
       "    </tr>\n",
       "  </thead>\n",
       "  <tbody>\n",
       "    <tr>\n",
       "      <th>0</th>\n",
       "      <td>Actor in a Leading Role</td>\n",
       "      <td>Adrien Brody</td>\n",
       "      <td>The Brutalist</td>\n",
       "      <td>Winner</td>\n",
       "      <td>2025</td>\n",
       "    </tr>\n",
       "    <tr>\n",
       "      <th>1</th>\n",
       "      <td>Actor in a Leading Role</td>\n",
       "      <td>Timothée Chalamet</td>\n",
       "      <td>A Complete Unknown</td>\n",
       "      <td>Nominees</td>\n",
       "      <td>2025</td>\n",
       "    </tr>\n",
       "    <tr>\n",
       "      <th>2</th>\n",
       "      <td>Actor in a Leading Role</td>\n",
       "      <td>Colman Domingo</td>\n",
       "      <td>Sing Sing</td>\n",
       "      <td>Nominees</td>\n",
       "      <td>2025</td>\n",
       "    </tr>\n",
       "    <tr>\n",
       "      <th>3</th>\n",
       "      <td>Actor in a Leading Role</td>\n",
       "      <td>Ralph Fiennes</td>\n",
       "      <td>Conclave</td>\n",
       "      <td>Nominees</td>\n",
       "      <td>2025</td>\n",
       "    </tr>\n",
       "    <tr>\n",
       "      <th>4</th>\n",
       "      <td>Actor in a Leading Role</td>\n",
       "      <td>Sebastian Stan</td>\n",
       "      <td>The Apprentice</td>\n",
       "      <td>Nominees</td>\n",
       "      <td>2025</td>\n",
       "    </tr>\n",
       "    <tr>\n",
       "      <th>...</th>\n",
       "      <td>...</td>\n",
       "      <td>...</td>\n",
       "      <td>...</td>\n",
       "      <td>...</td>\n",
       "      <td>...</td>\n",
       "    </tr>\n",
       "    <tr>\n",
       "      <th>115</th>\n",
       "      <td>Writing (Original Screenplay)</td>\n",
       "      <td>Written by Sean Baker</td>\n",
       "      <td>Anora</td>\n",
       "      <td>Winner</td>\n",
       "      <td>2025</td>\n",
       "    </tr>\n",
       "    <tr>\n",
       "      <th>116</th>\n",
       "      <td>Writing (Original Screenplay)</td>\n",
       "      <td>Written by Brady Corbet, Mona Fastvold</td>\n",
       "      <td>The Brutalist</td>\n",
       "      <td>Nominees</td>\n",
       "      <td>2025</td>\n",
       "    </tr>\n",
       "    <tr>\n",
       "      <th>117</th>\n",
       "      <td>Writing (Original Screenplay)</td>\n",
       "      <td>Written by Jesse Eisenberg</td>\n",
       "      <td>A Real Pain</td>\n",
       "      <td>Nominees</td>\n",
       "      <td>2025</td>\n",
       "    </tr>\n",
       "    <tr>\n",
       "      <th>118</th>\n",
       "      <td>Writing (Original Screenplay)</td>\n",
       "      <td>Written by Moritz Binder, Tim Fehlbaum; Co-Wri...</td>\n",
       "      <td>September 5</td>\n",
       "      <td>Nominees</td>\n",
       "      <td>2025</td>\n",
       "    </tr>\n",
       "    <tr>\n",
       "      <th>119</th>\n",
       "      <td>Writing (Original Screenplay)</td>\n",
       "      <td>Written by Coralie Fargeat</td>\n",
       "      <td>The Substance</td>\n",
       "      <td>Nominees</td>\n",
       "      <td>2025</td>\n",
       "    </tr>\n",
       "  </tbody>\n",
       "</table>\n",
       "<p>120 rows × 5 columns</p>\n",
       "</div>"
      ],
      "text/plain": [
       "                    Award Category  \\\n",
       "0          Actor in a Leading Role   \n",
       "1          Actor in a Leading Role   \n",
       "2          Actor in a Leading Role   \n",
       "3          Actor in a Leading Role   \n",
       "4          Actor in a Leading Role   \n",
       "..                             ...   \n",
       "115  Writing (Original Screenplay)   \n",
       "116  Writing (Original Screenplay)   \n",
       "117  Writing (Original Screenplay)   \n",
       "118  Writing (Original Screenplay)   \n",
       "119  Writing (Original Screenplay)   \n",
       "\n",
       "                                               Honoree                Film  \\\n",
       "0                                         Adrien Brody       The Brutalist   \n",
       "1                                    Timothée Chalamet  A Complete Unknown   \n",
       "2                                       Colman Domingo           Sing Sing   \n",
       "3                                        Ralph Fiennes            Conclave   \n",
       "4                                       Sebastian Stan      The Apprentice   \n",
       "..                                                 ...                 ...   \n",
       "115                              Written by Sean Baker               Anora   \n",
       "116             Written by Brady Corbet, Mona Fastvold       The Brutalist   \n",
       "117                         Written by Jesse Eisenberg         A Real Pain   \n",
       "118  Written by Moritz Binder, Tim Fehlbaum; Co-Wri...         September 5   \n",
       "119                         Written by Coralie Fargeat       The Substance   \n",
       "\n",
       "         Type  Year  \n",
       "0      Winner  2025  \n",
       "1    Nominees  2025  \n",
       "2    Nominees  2025  \n",
       "3    Nominees  2025  \n",
       "4    Nominees  2025  \n",
       "..        ...   ...  \n",
       "115    Winner  2025  \n",
       "116  Nominees  2025  \n",
       "117  Nominees  2025  \n",
       "118  Nominees  2025  \n",
       "119  Nominees  2025  \n",
       "\n",
       "[120 rows x 5 columns]"
      ]
     },
     "execution_count": 67,
     "metadata": {},
     "output_type": "execute_result"
    }
   ],
   "source": [
    "df"
   ]
  },
  {
   "cell_type": "markdown",
   "metadata": {},
   "source": [
    "There are 120 honorees (not necessarily all unique) with 4 columns and 23 Award Categories. "
   ]
  },
  {
   "cell_type": "code",
   "execution_count": null,
   "metadata": {},
   "outputs": [],
   "source": []
  },
  {
   "cell_type": "code",
   "execution_count": 70,
   "metadata": {},
   "outputs": [
    {
     "data": {
      "text/plain": [
       "Award Category\n",
       "Best Picture                     10\n",
       "Actor in a Leading Role           5\n",
       "International Feature Film        5\n",
       "Writing (Adapted Screenplay)      5\n",
       "Visual Effects                    5\n",
       "Sound                             5\n",
       "Live Action Short Film            5\n",
       "Production Design                 5\n",
       "Music (Original Song)             5\n",
       "Music (Original Score)            5\n",
       "Makeup and Hairstyling            5\n",
       "Film Editing                      5\n",
       "Actor in a Supporting Role        5\n",
       "Documentary Short Film            5\n",
       "Documentary Feature Film          5\n",
       "Directing                         5\n",
       "Costume Design                    5\n",
       "Cinematography                    5\n",
       "Animated Short Film               5\n",
       "Animated Feature Film             5\n",
       "Actress in a Supporting Role      5\n",
       "Actress in a Leading Role         5\n",
       "Writing (Original Screenplay)     5\n",
       "Name: count, dtype: int64"
      ]
     },
     "execution_count": 70,
     "metadata": {},
     "output_type": "execute_result"
    }
   ],
   "source": [
    "df['Award Category'].value_counts()"
   ]
  },
  {
   "cell_type": "code",
   "execution_count": null,
   "metadata": {},
   "outputs": [],
   "source": []
  },
  {
   "cell_type": "markdown",
   "metadata": {},
   "source": [
    "## Iterating vs. parsing to retrieve data\n",
    "\n",
    "Often the data you are interested in is spread across multiple web pages. In an ideal world, the naming conventions would let you retrieve the data from these pages systematically. In the case of the Oscars, the URLs appear to be consistently formatted: `https://www.oscars.org/oscars/ceremonies/2025` suggests that we could change the 2025 to any other date going back to the start of the Oscars and get that year as well: `https://www.oscars.org/oscars/ceremonies/2015` should get us the page for 2015, and so on. Let's demonstrate each of these strategies with the Oscars data: iterating from 2025 back to 1929 in the URL versus parsing the list of links from the header.\n",
    "\n",
    "### Iterating strategies for retrieving data\n",
    "\n",
    "The fundamental assumption with this strategy is that the data are stored at URLs in a consistent way that we can access sequentially. In the case of the Oscars, we *should* be able to simply pass each year to the URL in requests. Here we want to practice responsible data scraping by including a sleep between each request so that we do not overwhelm the Oscars server with requests. We can use the `sleep` function within `time`."
   ]
  },
  {
   "cell_type": "code",
   "execution_count": 63,
   "metadata": {},
   "outputs": [],
   "source": [
    "from time import sleep"
   ]
  },
  {
   "cell_type": "markdown",
   "metadata": {},
   "source": [
    "The `sleep(3)` below prevents any more code from progressing for 3 seconds."
   ]
  },
  {
   "cell_type": "code",
   "execution_count": 64,
   "metadata": {},
   "outputs": [
    {
     "name": "stdout",
     "output_type": "stream",
     "text": [
      "The start of something.\n",
      "The end of something.\n"
     ]
    }
   ],
   "source": [
    "print(\"The start of something.\")\n",
    "sleep(3)\n",
    "print(\"The end of something.\")"
   ]
  },
  {
   "cell_type": "markdown",
   "metadata": {},
   "source": [
    "##### The core part of the iterating strategy is simply using Python's [`range`](https://docs.python.org/3.7/library/functions.html#func-range) function to generate a sequence of values. Here, we can use `range` to print out a sequence of URLs that should correspond to awards pages from 2015 through 2025. We can also incorporate the `sleep` functionality and wait a second between each `print` statement—it should now take 10 seconds for this code to finish printing. This simulates how we can use `sleep` to slow down and spread out requests so that we do not overwhelm the servers whose data we are trying to scrape."
   ]
  },
  {
   "cell_type": "code",
   "execution_count": 65,
   "metadata": {},
   "outputs": [
    {
     "name": "stdout",
     "output_type": "stream",
     "text": [
      "https://www.oscars.org/oscars/ceremonies/2015\n",
      "https://www.oscars.org/oscars/ceremonies/2016\n",
      "https://www.oscars.org/oscars/ceremonies/2017\n",
      "https://www.oscars.org/oscars/ceremonies/2018\n",
      "https://www.oscars.org/oscars/ceremonies/2019\n",
      "https://www.oscars.org/oscars/ceremonies/2020\n",
      "https://www.oscars.org/oscars/ceremonies/2021\n",
      "https://www.oscars.org/oscars/ceremonies/2022\n",
      "https://www.oscars.org/oscars/ceremonies/2023\n",
      "https://www.oscars.org/oscars/ceremonies/2024\n"
     ]
    }
   ],
   "source": [
    "for year in range(2015,2025):\n",
    "    sleep(1)\n",
    "    print('https://www.oscars.org/oscars/ceremonies/{0}'.format(year))"
   ]
  },
  {
   "cell_type": "markdown",
   "metadata": {},
   "source": [
    "Let's definie a function to `get_nominees`  that gets the nominees by year. "
   ]
  },
  {
   "cell_type": "code",
   "execution_count": 79,
   "metadata": {},
   "outputs": [],
   "source": [
    "def get_nominees(year):\n",
    "    # Prepare a list to collect all award entries\n",
    "    data = []\n",
    "\n",
    "    # Pause for a second between each request\n",
    "    sleep(1)\n",
    "\n",
    "    # Get the raw HTML\n",
    "    headers = {'User-Agent':'Mozilla/5.0 (Windows NT 10.0; Win64; x64)'}\n",
    "    year_raw_html = requests.get('https://www.oscars.org/oscars/ceremonies/{0}'.format(year), headers=headers).text\n",
    "\n",
    "    # Soup-ify\n",
    "    year_souped_html = BeautifulSoup(year_raw_html)\n",
    "\n",
    "    # Find the section containing award categories\n",
    "    categories = year_souped_html.find_all('div', class_='paragraph--type--award-category')\n",
    "\n",
    "    for category in categories:\n",
    "        # Get the award category name\n",
    "        category_name = category.find('div', class_='field--name-field-award-category-oscars').get_text(strip=True)\n",
    "    \n",
    "        # Get all honorees (winner + nominees)\n",
    "        honorees = category.find_all('div', class_='paragraph--type--award-honoree')\n",
    "    \n",
    "        for honoree in honorees:\n",
    "            # Type: Winner or Nominee\n",
    "            honoree_type = honoree.find('div', class_='field--name-field-honoree-type').get_text(strip=True)\n",
    "        \n",
    "            # Honoree name(s)\n",
    "            honoree_entities = honoree.find('div', class_='field--name-field-award-entities')\n",
    "            honoree_name = honoree_entities.get_text(strip=True) if honoree_entities else \"\"\n",
    "        \n",
    "            # Film\n",
    "            film = honoree.find('div', class_='field--name-field-award-film')\n",
    "            film_name = film.get_text(strip=True) if film else \"\"\n",
    "        \n",
    "            # Append to the list\n",
    "            data.append({\n",
    "                'Award Category': category_name,\n",
    "                'Honoree': honoree_name,\n",
    "                'Film': film_name,\n",
    "                'Type': honoree_type,\n",
    "                'Year': year #lets add year as well\n",
    "            })\n",
    "\n",
    "    # Turn into a DataFrame for a nice table\n",
    "    df = pd.DataFrame(data)\n",
    "    return(df)"
   ]
  },
  {
   "cell_type": "markdown",
   "metadata": {},
   "source": [
    "Combine each of the DataFrames in `all_years_nominees` into a giant DataFrame of all the nominees from 2010-2019."
   ]
  },
  {
   "cell_type": "code",
   "execution_count": 81,
   "metadata": {},
   "outputs": [
    {
     "data": {
      "text/html": [
       "<div>\n",
       "<style scoped>\n",
       "    .dataframe tbody tr th:only-of-type {\n",
       "        vertical-align: middle;\n",
       "    }\n",
       "\n",
       "    .dataframe tbody tr th {\n",
       "        vertical-align: top;\n",
       "    }\n",
       "\n",
       "    .dataframe thead th {\n",
       "        text-align: right;\n",
       "    }\n",
       "</style>\n",
       "<table border=\"1\" class=\"dataframe\">\n",
       "  <thead>\n",
       "    <tr style=\"text-align: right;\">\n",
       "      <th></th>\n",
       "      <th>Award Category</th>\n",
       "      <th>Honoree</th>\n",
       "      <th>Film</th>\n",
       "      <th>Type</th>\n",
       "      <th>Year</th>\n",
       "    </tr>\n",
       "  </thead>\n",
       "  <tbody>\n",
       "    <tr>\n",
       "      <th>0</th>\n",
       "      <td>Actor in a Leading Role</td>\n",
       "      <td>Eddie Redmayne</td>\n",
       "      <td>The Theory of Everything</td>\n",
       "      <td>Winner</td>\n",
       "      <td>2015</td>\n",
       "    </tr>\n",
       "    <tr>\n",
       "      <th>1</th>\n",
       "      <td>Actor in a Leading Role</td>\n",
       "      <td>Steve Carell</td>\n",
       "      <td>Foxcatcher</td>\n",
       "      <td>Nominees</td>\n",
       "      <td>2015</td>\n",
       "    </tr>\n",
       "    <tr>\n",
       "      <th>2</th>\n",
       "      <td>Actor in a Leading Role</td>\n",
       "      <td>Bradley Cooper</td>\n",
       "      <td>American Sniper</td>\n",
       "      <td>Nominees</td>\n",
       "      <td>2015</td>\n",
       "    </tr>\n",
       "    <tr>\n",
       "      <th>3</th>\n",
       "      <td>Actor in a Leading Role</td>\n",
       "      <td>Benedict Cumberbatch</td>\n",
       "      <td>The Imitation Game</td>\n",
       "      <td>Nominees</td>\n",
       "      <td>2015</td>\n",
       "    </tr>\n",
       "    <tr>\n",
       "      <th>4</th>\n",
       "      <td>Actor in a Leading Role</td>\n",
       "      <td>Michael Keaton</td>\n",
       "      <td>Birdman or (The Unexpected Virtue of Ignorance)</td>\n",
       "      <td>Nominees</td>\n",
       "      <td>2015</td>\n",
       "    </tr>\n",
       "    <tr>\n",
       "      <th>5</th>\n",
       "      <td>Actor in a Supporting Role</td>\n",
       "      <td>J.K. Simmons</td>\n",
       "      <td>Whiplash</td>\n",
       "      <td>Winner</td>\n",
       "      <td>2015</td>\n",
       "    </tr>\n",
       "    <tr>\n",
       "      <th>6</th>\n",
       "      <td>Actor in a Supporting Role</td>\n",
       "      <td>Robert Duvall</td>\n",
       "      <td>The Judge</td>\n",
       "      <td>Nominees</td>\n",
       "      <td>2015</td>\n",
       "    </tr>\n",
       "    <tr>\n",
       "      <th>7</th>\n",
       "      <td>Actor in a Supporting Role</td>\n",
       "      <td>Ethan Hawke</td>\n",
       "      <td>Boyhood</td>\n",
       "      <td>Nominees</td>\n",
       "      <td>2015</td>\n",
       "    </tr>\n",
       "    <tr>\n",
       "      <th>8</th>\n",
       "      <td>Actor in a Supporting Role</td>\n",
       "      <td>Edward Norton</td>\n",
       "      <td>Birdman or (The Unexpected Virtue of Ignorance)</td>\n",
       "      <td>Nominees</td>\n",
       "      <td>2015</td>\n",
       "    </tr>\n",
       "    <tr>\n",
       "      <th>9</th>\n",
       "      <td>Actor in a Supporting Role</td>\n",
       "      <td>Mark Ruffalo</td>\n",
       "      <td>Foxcatcher</td>\n",
       "      <td>Nominees</td>\n",
       "      <td>2015</td>\n",
       "    </tr>\n",
       "  </tbody>\n",
       "</table>\n",
       "</div>"
      ],
      "text/plain": [
       "               Award Category               Honoree  \\\n",
       "0     Actor in a Leading Role        Eddie Redmayne   \n",
       "1     Actor in a Leading Role          Steve Carell   \n",
       "2     Actor in a Leading Role        Bradley Cooper   \n",
       "3     Actor in a Leading Role  Benedict Cumberbatch   \n",
       "4     Actor in a Leading Role        Michael Keaton   \n",
       "5  Actor in a Supporting Role          J.K. Simmons   \n",
       "6  Actor in a Supporting Role         Robert Duvall   \n",
       "7  Actor in a Supporting Role           Ethan Hawke   \n",
       "8  Actor in a Supporting Role         Edward Norton   \n",
       "9  Actor in a Supporting Role          Mark Ruffalo   \n",
       "\n",
       "                                              Film      Type  Year  \n",
       "0                         The Theory of Everything    Winner  2015  \n",
       "1                                       Foxcatcher  Nominees  2015  \n",
       "2                                  American Sniper  Nominees  2015  \n",
       "3                               The Imitation Game  Nominees  2015  \n",
       "4  Birdman or (The Unexpected Virtue of Ignorance)  Nominees  2015  \n",
       "5                                         Whiplash    Winner  2015  \n",
       "6                                        The Judge  Nominees  2015  \n",
       "7                                          Boyhood  Nominees  2015  \n",
       "8  Birdman or (The Unexpected Virtue of Ignorance)  Nominees  2015  \n",
       "9                                       Foxcatcher  Nominees  2015  "
      ]
     },
     "execution_count": 81,
     "metadata": {},
     "output_type": "execute_result"
    }
   ],
   "source": [
    "# Create an empty list to store the data we get\n",
    "all_years_nominees = dict()\n",
    "\n",
    "# For each year starting in 2015 until 2025\n",
    "for year in range(2015,2025):\n",
    "    \n",
    "    # Convert the year_nominees to a DataFrame and add them to all_years_nominees\n",
    "    all_years_nominees[year] = get_nominees(year)\n",
    "\n",
    "all_years_nominees_df = pd.concat(all_years_nominees)\n",
    "all_years_nominees_df.reset_index(drop=True).head(10)"
   ]
  },
  {
   "cell_type": "markdown",
   "metadata": {},
   "source": [
    "We now have a general scraper to get all the nominees, films, categories and winners across all years from the oscars.  From 2015 to 2025, there were 1209 nominees with 236 winners. "
   ]
  },
  {
   "cell_type": "code",
   "execution_count": 84,
   "metadata": {},
   "outputs": [
    {
     "data": {
      "text/plain": [
       "(1209, 5)"
      ]
     },
     "execution_count": 84,
     "metadata": {},
     "output_type": "execute_result"
    }
   ],
   "source": [
    "all_years_nominees_df.shape"
   ]
  },
  {
   "cell_type": "code",
   "execution_count": 85,
   "metadata": {},
   "outputs": [
    {
     "data": {
      "text/plain": [
       "Type\n",
       "Nominees    973\n",
       "Winner      236\n",
       "Name: count, dtype: int64"
      ]
     },
     "execution_count": 85,
     "metadata": {},
     "output_type": "execute_result"
    }
   ],
   "source": [
    "all_years_nominees_df.Type.value_counts()"
   ]
  },
  {
   "cell_type": "code",
   "execution_count": null,
   "metadata": {},
   "outputs": [],
   "source": []
  }
 ],
 "metadata": {
  "kernelspec": {
   "display_name": "Python 3 (ipykernel)",
   "language": "python",
   "name": "python3"
  },
  "language_info": {
   "codemirror_mode": {
    "name": "ipython",
    "version": 3
   },
   "file_extension": ".py",
   "mimetype": "text/x-python",
   "name": "python",
   "nbconvert_exporter": "python",
   "pygments_lexer": "ipython3",
   "version": "3.12.10"
  }
 },
 "nbformat": 4,
 "nbformat_minor": 4
}
