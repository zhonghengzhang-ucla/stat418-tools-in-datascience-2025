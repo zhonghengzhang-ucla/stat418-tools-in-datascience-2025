{
 "cells": [
  {
   "cell_type": "markdown",
   "metadata": {},
   "source": [
    "# Web Data Scraping\n",
    "\n",
    "[Spring 2023 ITSS Mini-Course](https://www.colorado.edu/cartss/programs/interdisciplinary-training-social-sciences-itss/mini-course-web-data-scraping) — ARSC 5040  \n",
    "[Brian C. Keegan, Ph.D.](http://brianckeegan.com/)  \n",
    "[Assistant Professor, Department of Information Science](https://www.colorado.edu/cmci/people/information-science/brian-c-keegan)  \n",
    "University of Colorado Boulder  \n",
    "\n",
    "Copyright and distributed under an [MIT License](https://opensource.org/licenses/MIT)\n",
    "\n",
    "These notebooks are adaptations from a 5 session mini course at the University of Colorado. The github repo can be found here [Spring 2023 ITSS Mini-Course] The course is taught by Brian C. Keegan, Ph.D. Assistant Professor, Department of Information Science. They have been adapted for relevant content and integration with Docker so that we all have the same environment. Professor Keegan suggests using a most recent version of Python which we have through our docker container.\n",
    "\n",
    "This notebook is adapted from excellent notebooks in Dr. Cody Buntain's seminar on Social Media and Crisis Informatics as well as the PRAW documentation."
   ]
  },
  {
   "cell_type": "markdown",
   "metadata": {},
   "source": [
    "We'll need a few common libraries for all these examples."
   ]
  },
  {
   "cell_type": "code",
   "execution_count": 1,
   "metadata": {},
   "outputs": [],
   "source": [
    "# Lets us talk to other servers on the web\n",
    "import requests\n",
    "\n",
    "# APIs spit out data in JSON\n",
    "import json\n",
    "\n",
    "# Use BeautifulSoup to parse some HTML\n",
    "from bs4 import BeautifulSoup\n",
    "\n",
    "# Handling dates and times\n",
    "from datetime import datetime\n",
    "\n",
    "# DataFrames!\n",
    "import pandas as pd\n",
    "import numpy as np\n",
    "\n",
    "# Data visualization\n",
    "%matplotlib inline\n",
    "import matplotlib.pyplot as plt\n",
    "import seaborn as sb"
   ]
  },
  {
   "cell_type": "markdown",
   "metadata": {},
   "source": [
    "## Scraping Reddit\n",
    "\n",
    "Reddit also hosts a lot of detailed behavioral data that could be of interest to social scientists. As was the case with Wikipedia, our naïve inclination may be to develop scrapers and parsers to extract this information, but Reddit will give much of it to you for free through their API!\n",
    "\n",
    "You can retrieve a few different types of entities from Reddit's API: sub-reddits, submissions, comments, and redditors. Many of these are interoperable: a sub-reddit contains submissions contributed by redditors with comments from other redditors.\n",
    "\n",
    "We will use a wrapper library to communicate with the Reddit API called [Python Reddit API Wrapper](https://praw.readthedocs.io/en/latest/) or `praw`. \n",
    "\n",
    "Copy the code below to your terminal to install `praw`."
   ]
  },
  {
   "cell_type": "raw",
   "metadata": {},
   "source": [
    "! conda install -c conda-forge praw"
   ]
  },
  {
   "cell_type": "markdown",
   "metadata": {},
   "source": [
    "Afterwards, we can import `praw`."
   ]
  },
  {
   "cell_type": "code",
   "execution_count": 2,
   "metadata": {},
   "outputs": [],
   "source": [
    "import praw"
   ]
  },
  {
   "cell_type": "markdown",
   "metadata": {},
   "source": [
    "We then need to authenticate with Reddit to get access to the API. Typically you can just enter the client ID, client secret, password, username, *etc*. as strings. \n",
    "\n",
    "1. You will need to create an account on Reddit. After you have created an account and logged in, go to https://www.reddit.com/prefs/apps/. \n",
    "2. Scroll down and click the \"create app\" button at the bottom. Provide a basic name, description, and enter a URL for your homepage (or just use http://www.ucla.edu).\n",
    "3. You will need the client ID (the string of characters beneath the name of your app) as well as the secret (the other string of characters) as well as your username and password.\n",
    "4. You can make up a user-agent string, but include your username as good practice for the sysadmins to track you down if you break things.\n",
    "\n",
    "\n",
    "You'll create an API connector object (`r`) below that will authenticate with the API and handle making the requests."
   ]
  },
  {
   "cell_type": "code",
   "execution_count": 3,
   "metadata": {},
   "outputs": [],
   "source": [
    "#r = praw.Reddit(\n",
    "#    client_id='your application id',\n",
    "#    client_secret='your application secret',\n",
    "#    password='your account password',\n",
    "#    user_agent='scraping script by /u/youraccountname',\n",
    "#    username='your account name'\n",
    "#)"
   ]
  },
  {
   "cell_type": "markdown",
   "metadata": {},
   "source": [
    "You can confirm that this authentication process worked by making a simple request like printing your username."
   ]
  },
  {
   "cell_type": "code",
   "execution_count": 4,
   "metadata": {},
   "outputs": [],
   "source": [
    "#print(r.user.me())"
   ]
  },
  {
   "cell_type": "markdown",
   "metadata": {},
   "source": [
    "I'm going to read them in from a local file (\"login.json\") so that I post this notebook on the internet in the future without compromising my account security. This won't work for you, so just skip this step."
   ]
  },
  {
   "cell_type": "code",
   "execution_count": 3,
   "metadata": {},
   "outputs": [
    {
     "name": "stdout",
     "output_type": "stream",
     "text": [
      "langholz-stat\n"
     ]
    }
   ],
   "source": [
    "# Load my credentials from a local disk so I don't show the world\n",
    "with open('reddit_login.json','r') as f:\n",
    "    r_creds = json.load(f)\n",
    "    \n",
    "# Create an authenticated reddit instance using the creds\n",
    "r = praw.Reddit(client_id = r_creds['client_id'],\n",
    "                client_secret = r_creds['client_secret'],\n",
    "                password = r_creds['password'],\n",
    "                user_agent = r_creds['user_agent'],\n",
    "                username = r_creds['username'])\n",
    "\n",
    "# Make sure your reddit instance works\n",
    "print(r.user.me())"
   ]
  },
  {
   "cell_type": "markdown",
   "metadata": {},
   "source": [
    "### Sub-reddits\n",
    "Now print the top 25 stories in /r/news.\n",
    "\n",
    "[Documentation for the Subreddit model in PRAW](https://praw.readthedocs.io/en/latest/code_overview/models/subreddit.html)."
   ]
  },
  {
   "cell_type": "markdown",
   "metadata": {},
   "source": [
    "Create a `news_subreddit` object to store the various attributes about this sub-reddit."
   ]
  },
  {
   "cell_type": "code",
   "execution_count": 4,
   "metadata": {},
   "outputs": [],
   "source": [
    "news_subreddit = r.subreddit('news')"
   ]
  },
  {
   "cell_type": "markdown",
   "metadata": {},
   "source": [
    "The `news_subreddit` has a number of attributes and methods you can call on it. The time the sub-reddit was founded."
   ]
  },
  {
   "cell_type": "code",
   "execution_count": 5,
   "metadata": {},
   "outputs": [
    {
     "data": {
      "text/plain": [
       "1201243765.0"
      ]
     },
     "execution_count": 5,
     "metadata": {},
     "output_type": "execute_result"
    }
   ],
   "source": [
    "news_subreddit.created_utc"
   ]
  },
  {
   "cell_type": "markdown",
   "metadata": {},
   "source": [
    "That's formatted in a UNIX timecode (seconds since 1 January 1970), but we can convert it into a more readable timestamp with `datetime`'s `utcfromtimestamp`."
   ]
  },
  {
   "cell_type": "code",
   "execution_count": 6,
   "metadata": {},
   "outputs": [
    {
     "name": "stdout",
     "output_type": "stream",
     "text": [
      "2008-01-25 06:49:25\n"
     ]
    },
    {
     "name": "stderr",
     "output_type": "stream",
     "text": [
      "/tmp/ipykernel_563/2989456704.py:1: DeprecationWarning: datetime.datetime.utcfromtimestamp() is deprecated and scheduled for removal in a future version. Use timezone-aware objects to represent datetimes in UTC: datetime.datetime.fromtimestamp(timestamp, datetime.UTC).\n",
      "  print(datetime.utcfromtimestamp(news_subreddit.created_utc))\n"
     ]
    }
   ],
   "source": [
    "print(datetime.utcfromtimestamp(news_subreddit.created_utc))"
   ]
  },
  {
   "cell_type": "markdown",
   "metadata": {},
   "source": [
    "There are other attributes such as the number of subscribers, current active users, as well as the description of the sub-reddit."
   ]
  },
  {
   "cell_type": "code",
   "execution_count": 7,
   "metadata": {},
   "outputs": [
    {
     "data": {
      "text/plain": [
       "'30,087,099'"
      ]
     },
     "execution_count": 7,
     "metadata": {},
     "output_type": "execute_result"
    }
   ],
   "source": [
    "'{0:,}'.format(news_subreddit.subscribers)"
   ]
  },
  {
   "cell_type": "code",
   "execution_count": 8,
   "metadata": {},
   "outputs": [
    {
     "data": {
      "text/plain": [
       "False"
      ]
     },
     "execution_count": 8,
     "metadata": {},
     "output_type": "execute_result"
    }
   ],
   "source": [
    "news_subreddit.over18"
   ]
  },
  {
   "cell_type": "code",
   "execution_count": 9,
   "metadata": {},
   "outputs": [
    {
     "data": {
      "text/plain": [
       "5404"
      ]
     },
     "execution_count": 9,
     "metadata": {},
     "output_type": "execute_result"
    }
   ],
   "source": [
    "news_subreddit.active_user_count"
   ]
  },
  {
   "cell_type": "code",
   "execution_count": 10,
   "metadata": {},
   "outputs": [
    {
     "name": "stdout",
     "output_type": "stream",
     "text": [
      ">* **[/r/worldnews](/r/worldnews?hl)**\n",
      "\n",
      ">#\n",
      "\n",
      ">* **[/r/politics](/r/politics?hl)**\n",
      "\n",
      ">#\n",
      "\n",
      ">* **[/r/Foodforthought](/r/Foodforthought?hl)**\n",
      "\n",
      "---\n",
      "\n",
      "See a post that violates the rules below? Did your post get stuck in the spam filter? Have a question about the rules? Just want to give feedback? [Send the mod team a message](http://www.reddit.com/message/compose?to=%2Fr%2Fnews).\n",
      "\n",
      "---\n",
      "\n",
      "**Your account must be email-verified to participate in /r/news.**\n",
      "\n",
      "---\n",
      "\n",
      "**Your post will be removed if it:** \n",
      "\n",
      "* is not news.\n",
      "* is not in English.\n",
      "* is an opinion/analysis or advocacy piece.\n",
      "* primarily concerns politics.\n",
      "* has a title that does not match the actual title or [the lede](https://www.merriam-webster.com/dictionary/lede \"the introductory section of a news story that is intended to entice the reader to read the full story\").\n",
      "* has a pay wall or steals content.\n",
      "* covers an already-submitted story.\n",
      "* violates [reddit's site-wide rules](http://www.reddit.com/rules/ \"Reddit Content Policy\"), especially regarding personal info.\n",
      "\n",
      "**Your comment will likely be removed if it:**\n",
      "\n",
      "* is racist, sexist, vitriolic, or overly crude.\n",
      "* is unnecessarily rude or provocative.\n",
      "* is a cheap and distracting joke or meme.\n",
      "* is responding to spam.\n",
      "* violates [reddit's site-wide rules](http://www.reddit.com/rules/ \"Reddit Content Policy\").\n",
      "* advocates or celebrates the death of another person.\n",
      "* incites violence.\n",
      "\n",
      "Extreme or repeat offenders will be banned.\n",
      "\n",
      "**\\>\\>\\>[Expanded Rules](https://www.reddit.com/r/news/wiki/rules/)<<<**\n",
      "\n",
      "---\n",
      "\n",
      "If your post is not a good fit for /r/news, consider submitting to one of these subreddits instead:\n",
      "\n",
      "* r/worldnews \n",
      "* r/entertainment \n",
      "* r/politics \n",
      "* r/politicaldiscussion\n",
      "* r/geopolitics\n",
      "* r/UpliftingNews \n",
      "* r/SavedYouAClick \n",
      "* r/FoodForThought \n",
      "* r/AnythingGoesNews \n",
      "* r/TrueReddit \n",
      "\n",
      "\n",
      "---\n",
      "\n",
      "[submit news article (no analysis/opinion)](http://www.reddit.com/r/news/submit)\n",
      "\n",
      "[submit something else](http://www.reddit.com/r/misc/submit)\n"
     ]
    }
   ],
   "source": [
    "print(news_subreddit.description)"
   ]
  },
  {
   "cell_type": "markdown",
   "metadata": {},
   "source": [
    "The rules of the sub-reddit are available as a method `.rules()` which returns a list of dictionaries of rule objects."
   ]
  },
  {
   "cell_type": "code",
   "execution_count": 11,
   "metadata": {},
   "outputs": [
    {
     "name": "stderr",
     "output_type": "stream",
     "text": [
      "/tmp/ipykernel_563/2202060975.py:1: DeprecationWarning: Calling SubredditRules to get a list of rules is deprecated. Remove the parentheses to use the iterator. View the PRAW documentation on how to change the code in order to use the iterator (https://praw.readthedocs.io/en/latest/code_overview/other/subredditrules.html#praw.models.reddit.rules.SubredditRules.__call__).\n",
      "  news_subreddit.rules()['rules']\n"
     ]
    },
    {
     "data": {
      "text/plain": [
       "[{'kind': 'link',\n",
       "  'description': 'A story that does not properly report a story, or is not noteworthy, or is not in English. Self-posts and meta-posts without moderator approval (live update threads, major breaking news, and megathreads are usually exempt) are not allowed. Articles must be about a specific news event.',\n",
       "  'short_name': 'Submissions must be articles about a specific news event',\n",
       "  'violation_reason': 'Submissions must be articles about a specific news event',\n",
       "  'created_utc': 1652980697,\n",
       "  'priority': 0,\n",
       "  'description_html': '<!-- SC_OFF --><div class=\"md\"><p>A story that does not properly report a story, or is not noteworthy, or is not in English. Self-posts and meta-posts without moderator approval (live update threads, major breaking news, and megathreads are usually exempt) are not allowed. Articles must be about a specific news event.</p>\\n</div><!-- SC_ON -->'},\n",
       " {'kind': 'link',\n",
       "  'description': ' News articles must be covering recent events, which for our purposes refers to a story published within the last 7 days of submission to /r/news.',\n",
       "  'short_name': 'Old News',\n",
       "  'violation_reason': 'Old News',\n",
       "  'created_utc': 1745344153,\n",
       "  'priority': 1,\n",
       "  'description_html': '<!-- SC_OFF --><div class=\"md\"><p>News articles must be covering recent events, which for our purposes refers to a story published within the last 7 days of submission to <a href=\"/r/news\">/r/news</a>.</p>\\n</div><!-- SC_ON -->'},\n",
       " {'kind': 'link',\n",
       "  'description': 'Opinion and analysis should go in /r/Foodforthought or another relevant subreddit. This includes articles with editorial opinion, personal conjecture, or otherwise. Press releases with an editorial slant, and analysis of news events (rather than reporting on the event itself) are not allowed. Both articles and domains regarding advocacy for a certain point of view or ideology rather than objective reporting should be reviewed under this rule.',\n",
       "  'short_name': 'No opinion/analysis or advocacy pieces',\n",
       "  'violation_reason': 'No opinion/analysis or advocacy pieces',\n",
       "  'created_utc': 1652980697,\n",
       "  'priority': 2,\n",
       "  'description_html': '<!-- SC_OFF --><div class=\"md\"><p>Opinion and analysis should go in <a href=\"/r/Foodforthought\">/r/Foodforthought</a> or another relevant subreddit. This includes articles with editorial opinion, personal conjecture, or otherwise. Press releases with an editorial slant, and analysis of news events (rather than reporting on the event itself) are not allowed. Both articles and domains regarding advocacy for a certain point of view or ideology rather than objective reporting should be reviewed under this rule.</p>\\n</div><!-- SC_ON -->'},\n",
       " {'kind': 'link',\n",
       "  'description': 'Articles must not be primarily concerning politics. To meet our requirements, a definitive outcome needs to have been reached. Political posturing, such as a politician making remarks, are not allowed. Political procedure, such as a bill being introduced for legislative review, are not allowed. A piece of legislation being signed into law or the results of an election being finalized are both examples of definitive outcomes which would be permitted.',\n",
       "  'short_name': 'Articles must not be primarily concerning politics',\n",
       "  'violation_reason': 'Articles must not be primarily concerning politics',\n",
       "  'created_utc': 1652980697,\n",
       "  'priority': 3,\n",
       "  'description_html': '<!-- SC_OFF --><div class=\"md\"><p>Articles must not be primarily concerning politics. To meet our requirements, a definitive outcome needs to have been reached. Political posturing, such as a politician making remarks, are not allowed. Political procedure, such as a bill being introduced for legislative review, are not allowed. A piece of legislation being signed into law or the results of an election being finalized are both examples of definitive outcomes which would be permitted.</p>\\n</div><!-- SC_ON -->'},\n",
       " {'kind': 'link',\n",
       "  'description': \"Editorialized titles, written by the posting user or the domain, are not allowed. Titles should be unbiased and strictly factual. When the article itself is titled appropriately, the submission title should be directly sourced from either the title OR lede of the linked article, but not both.\\n\\nDon't plug other subreddits in the title; adding cross-post references is not suitable for /r/news.\",\n",
       "  'short_name': 'No editorialized titles; Title must match article title',\n",
       "  'violation_reason': 'No editorialized titles; Title must match article title',\n",
       "  'created_utc': 1652980697,\n",
       "  'priority': 4,\n",
       "  'description_html': '<!-- SC_OFF --><div class=\"md\"><p>Editorialized titles, written by the posting user or the domain, are not allowed. Titles should be unbiased and strictly factual. When the article itself is titled appropriately, the submission title should be directly sourced from either the title OR lede of the linked article, but not both.</p>\\n\\n<p>Don&#39;t plug other subreddits in the title; adding cross-post references is not suitable for <a href=\"/r/news\">/r/news</a>.</p>\\n</div><!-- SC_ON -->'},\n",
       " {'kind': 'link',\n",
       "  'description': 'Domains which require the user to purchase a subscription or register an account in order to read the full article are not allowed in /r/news. All users should be able to access the article. Domains which are stealing or reposting content from other news sites, or simply rehash another article without adding substance, are not allowed, and users are encouraged to post the original source instead.',\n",
       "  'short_name': 'No paywalls/blogspam that steals content',\n",
       "  'violation_reason': 'No paywalls/blogspam that steals content',\n",
       "  'created_utc': 1652980697,\n",
       "  'priority': 5,\n",
       "  'description_html': '<!-- SC_OFF --><div class=\"md\"><p>Domains which require the user to purchase a subscription or register an account in order to read the full article are not allowed in <a href=\"/r/news\">/r/news</a>. All users should be able to access the article. Domains which are stealing or reposting content from other news sites, or simply rehash another article without adding substance, are not allowed, and users are encouraged to post the original source instead.</p>\\n</div><!-- SC_ON -->'},\n",
       " {'kind': 'link',\n",
       "  'description': \"This rule is in relation to already submitted stories which are being rehashed on multiple domains. If a popular story is being submitted while the same event is covered in another post on the front page, or one with sufficient upvotes at an earlier date, it may be subject to removal. If a story was already submitted but did not become popular, then the rule is not applicable. Spamming a story until it reaches the front page is in violation of reddit's sitewide rules and is not allowed.\",\n",
       "  'short_name': 'No posts covering an already submitted story',\n",
       "  'violation_reason': 'No posts covering an already submitted story',\n",
       "  'created_utc': 1652980697,\n",
       "  'priority': 6,\n",
       "  'description_html': '<!-- SC_OFF --><div class=\"md\"><p>This rule is in relation to already submitted stories which are being rehashed on multiple domains. If a popular story is being submitted while the same event is covered in another post on the front page, or one with sufficient upvotes at an earlier date, it may be subject to removal. If a story was already submitted but did not become popular, then the rule is not applicable. Spamming a story until it reaches the front page is in violation of reddit&#39;s sitewide rules and is not allowed.</p>\\n</div><!-- SC_ON -->'},\n",
       " {'kind': 'comment',\n",
       "  'description': \"Comments containing racist, sexist or bigoted slurs are subject to removal. Comments which promote racism, sexism or bigotry (including a viewpoint in relation to those) are subject to removal, and users whom engage in posting such comments may be banned at the mods' discretion. Overly crude comments which add nothing to discussion are also subject to removal/ban. These include inappropriate or inflammatory comments, personal attacks, etc.\",\n",
       "  'short_name': 'Do not be racist, sexist, vitriolic, or overly crude',\n",
       "  'violation_reason': 'Do not be racist, sexist, vitriolic, or overly crude',\n",
       "  'created_utc': 1652980697,\n",
       "  'priority': 7,\n",
       "  'description_html': '<!-- SC_OFF --><div class=\"md\"><p>Comments containing racist, sexist or bigoted slurs are subject to removal. Comments which promote racism, sexism or bigotry (including a viewpoint in relation to those) are subject to removal, and users whom engage in posting such comments may be banned at the mods&#39; discretion. Overly crude comments which add nothing to discussion are also subject to removal/ban. These include inappropriate or inflammatory comments, personal attacks, etc.</p>\\n</div><!-- SC_ON -->'},\n",
       " {'kind': 'comment',\n",
       "  'description': 'In conjunction with vitriolic and crude comments, a comment that is unnecessarily rude (inflammatory comments, personal attacks) or purposefully provocative (baiting) are subject to removal/ban.\\n\\nAdvocating for or celebrating the death of another human being is grounds for a permanent ban from r/news. Regardless of what you think about a person, this type of discourse is unwelcome on r/news and we will not hesitate to remove you for it.',\n",
       "  'short_name': 'Do not be unnecessarily rude or provocative',\n",
       "  'violation_reason': 'Unnecessarily rude or provocative',\n",
       "  'created_utc': 1652980697,\n",
       "  'priority': 8,\n",
       "  'description_html': '<!-- SC_OFF --><div class=\"md\"><p>In conjunction with vitriolic and crude comments, a comment that is unnecessarily rude (inflammatory comments, personal attacks) or purposefully provocative (baiting) are subject to removal/ban.</p>\\n\\n<p>Advocating for or celebrating the death of another human being is grounds for a permanent ban from <a href=\"/r/news\">r/news</a>. Regardless of what you think about a person, this type of discourse is unwelcome on <a href=\"/r/news\">r/news</a> and we will not hesitate to remove you for it.</p>\\n</div><!-- SC_ON -->'},\n",
       " {'kind': 'comment',\n",
       "  'description': 'Jokes, memes, puns, and overall low quality comments are subject to removal, especially in the top-level comments.',\n",
       "  'short_name': 'No cheap or distracting jokes or memes',\n",
       "  'violation_reason': 'No cheap or distracting jokes or memes',\n",
       "  'created_utc': 1652980697,\n",
       "  'priority': 9,\n",
       "  'description_html': '<!-- SC_OFF --><div class=\"md\"><p>Jokes, memes, puns, and overall low quality comments are subject to removal, especially in the top-level comments.</p>\\n</div><!-- SC_ON -->'},\n",
       " {'kind': 'all',\n",
       "  'description': \"Any thread which violates reddit's site-wide rules or invokes a witch-hunt is not allowed in /r/news.\\n\\nContact information publicly advertised by the person or organization in question is allowed so long as it is not being used to incite personal harassment, and doesn't contain personal contact information (home phone number, information of non-public family members, etc.) **To ensure that such comments aren't removed, provide a link to the official page where this information is contained.**\",\n",
       "  'short_name': 'No witchhunting. Follow the Reddit Content Policy.',\n",
       "  'violation_reason': 'No witchhunting. Follow the Reddit Content Policy.',\n",
       "  'created_utc': 1652980697,\n",
       "  'priority': 10,\n",
       "  'description_html': '<!-- SC_OFF --><div class=\"md\"><p>Any thread which violates reddit&#39;s site-wide rules or invokes a witch-hunt is not allowed in <a href=\"/r/news\">/r/news</a>.</p>\\n\\n<p>Contact information publicly advertised by the person or organization in question is allowed so long as it is not being used to incite personal harassment, and doesn&#39;t contain personal contact information (home phone number, information of non-public family members, etc.) <strong>To ensure that such comments aren&#39;t removed, provide a link to the official page where this information is contained.</strong></p>\\n</div><!-- SC_ON -->'},\n",
       " {'kind': 'comment',\n",
       "  'description': 'While civil criticism of others is allowed (whether living or deceased), advocating or celebrating the death of others, including public figures, is not.',\n",
       "  'short_name': 'Do not advocate or celebrate death',\n",
       "  'violation_reason': 'Advocating or celebrating death',\n",
       "  'created_utc': 1652980697,\n",
       "  'priority': 11,\n",
       "  'description_html': '<!-- SC_OFF --><div class=\"md\"><p>While civil criticism of others is allowed (whether living or deceased), advocating or celebrating the death of others, including public figures, is not.</p>\\n</div><!-- SC_ON -->'},\n",
       " {'kind': 'all',\n",
       "  'description': 'Bots and novelty accounts are not allowed',\n",
       "  'short_name': 'No bots/Novelty accounts',\n",
       "  'violation_reason': 'No bots/Novelty accounts',\n",
       "  'created_utc': 1652980697,\n",
       "  'priority': 12,\n",
       "  'description_html': '<!-- SC_OFF --><div class=\"md\"><p>Bots and novelty accounts are not allowed</p>\\n</div><!-- SC_ON -->'}]"
      ]
     },
     "execution_count": 11,
     "metadata": {},
     "output_type": "execute_result"
    }
   ],
   "source": [
    "news_subreddit.rules()['rules']"
   ]
  },
  {
   "cell_type": "markdown",
   "metadata": {},
   "source": [
    "When were each of these rules created? Loop through each of the rules and print the \"short_name\" of the rule and the rule timestamp."
   ]
  },
  {
   "cell_type": "code",
   "execution_count": 12,
   "metadata": {},
   "outputs": [
    {
     "name": "stdout",
     "output_type": "stream",
     "text": [
      "Submissions must be articles about a specific news event 2022-05-19 17:18:17\n",
      "Old News 2025-04-22 17:49:13\n",
      "No opinion/analysis or advocacy pieces 2022-05-19 17:18:17\n",
      "Articles must not be primarily concerning politics 2022-05-19 17:18:17\n",
      "No editorialized titles; Title must match article title 2022-05-19 17:18:17\n",
      "No paywalls/blogspam that steals content 2022-05-19 17:18:17\n",
      "No posts covering an already submitted story 2022-05-19 17:18:17\n",
      "Do not be racist, sexist, vitriolic, or overly crude 2022-05-19 17:18:17\n",
      "Do not be unnecessarily rude or provocative 2022-05-19 17:18:17\n",
      "No cheap or distracting jokes or memes 2022-05-19 17:18:17\n",
      "No witchhunting. Follow the Reddit Content Policy. 2022-05-19 17:18:17\n",
      "Do not advocate or celebrate death 2022-05-19 17:18:17\n",
      "No bots/Novelty accounts 2022-05-19 17:18:17\n"
     ]
    },
    {
     "name": "stderr",
     "output_type": "stream",
     "text": [
      "/tmp/ipykernel_563/2597324410.py:1: DeprecationWarning: Calling SubredditRules to get a list of rules is deprecated. Remove the parentheses to use the iterator. View the PRAW documentation on how to change the code in order to use the iterator (https://praw.readthedocs.io/en/latest/code_overview/other/subredditrules.html#praw.models.reddit.rules.SubredditRules.__call__).\n",
      "  for rule in news_subreddit.rules()['rules']:\n",
      "/tmp/ipykernel_563/2597324410.py:3: DeprecationWarning: datetime.datetime.utcfromtimestamp() is deprecated and scheduled for removal in a future version. Use timezone-aware objects to represent datetimes in UTC: datetime.datetime.fromtimestamp(timestamp, datetime.UTC).\n",
      "  print(rule['short_name'], datetime.utcfromtimestamp(created))\n"
     ]
    }
   ],
   "source": [
    "for rule in news_subreddit.rules()['rules']:\n",
    "    created = rule['created_utc']\n",
    "    print(rule['short_name'], datetime.utcfromtimestamp(created))"
   ]
  },
  {
   "cell_type": "markdown",
   "metadata": {},
   "source": [
    "We can also get a list of the moderators for this subreddit."
   ]
  },
  {
   "cell_type": "code",
   "execution_count": 13,
   "metadata": {},
   "outputs": [
    {
     "data": {
      "text/plain": [
       "['Elderthedog',\n",
       " 'ani625',\n",
       " 'hoosakiwi',\n",
       " 'DiggDejected',\n",
       " 'todayilearned83',\n",
       " 'gutpocketsucks',\n",
       " 'ReganDryke',\n",
       " 'pussgurka',\n",
       " 'AudibleNod',\n",
       " 'Plainchant',\n",
       " 'lolihull',\n",
       " 'Vfef',\n",
       " 'fingerpaintswithpoop',\n",
       " 'NewsModTeam',\n",
       " 'Superbuddhapunk',\n",
       " 'dieyoufool3',\n",
       " 'GeauxTheFckAway',\n",
       " '-doughboy',\n",
       " 'comment-nuke']"
      ]
     },
     "execution_count": 13,
     "metadata": {},
     "output_type": "execute_result"
    }
   ],
   "source": [
    "mod_list = []\n",
    "\n",
    "for mod in news_subreddit.moderator():\n",
    "    mod_list.append(mod.name)\n",
    "    \n",
    "mod_list"
   ]
  },
  {
   "cell_type": "markdown",
   "metadata": {},
   "source": [
    "### Submissions\n",
    "\n",
    "We can get a list of submissions to a sub-reddit using [a few different methods](https://praw.readthedocs.io/en/latest/code_overview/models/subreddit.html).\n",
    "\n",
    "* `.controversial()`\n",
    "* `.hot()`\n",
    "* `.new()`\n",
    "* `.rising()`\n",
    "* `.search()`\n",
    "* `.top()`\n",
    "\n",
    "Here we will use the `.top()` method to get the top 25 submissions on the /r/news subreddit from the past 12 months.\n",
    "\n",
    "[Documentation for the Submission model in PRAW](https://praw.readthedocs.io/en/latest/code_overview/models/submission.html)."
   ]
  },
  {
   "cell_type": "code",
   "execution_count": 14,
   "metadata": {},
   "outputs": [],
   "source": [
    "top25_news = r.subreddit('news').top(time_filter = 'year',limit=25)"
   ]
  },
  {
   "cell_type": "markdown",
   "metadata": {},
   "source": [
    "`top25_news` is a `ListingGenerator` object, which is a special [generator](https://www.dataquest.io/blog/python-generators-tutorial/) class defined by PRAW. It does not actually go out and get the data at this stage. There's not much you can do to look inside this `ListingGenerator` other than loop through and perform operations. In this case, lets add each submission to a list of `top25_submissions`."
   ]
  },
  {
   "cell_type": "code",
   "execution_count": 15,
   "metadata": {},
   "outputs": [],
   "source": [
    "top25_submissions = []\n",
    "\n",
    "for submission in r.subreddit('news').top(time_filter = 'year',limit=25):\n",
    "    top25_submissions.append(submission)"
   ]
  },
  {
   "cell_type": "markdown",
   "metadata": {},
   "source": [
    "We can inspect the first (top) `Submission` object."
   ]
  },
  {
   "cell_type": "code",
   "execution_count": 16,
   "metadata": {},
   "outputs": [
    {
     "data": {
      "text/plain": [
       "Submission(id='1e8s7cm')"
      ]
     },
     "execution_count": 16,
     "metadata": {},
     "output_type": "execute_result"
    }
   ],
   "source": [
    "first_submission = top25_submissions[0]\n",
    "first_submission"
   ]
  },
  {
   "cell_type": "markdown",
   "metadata": {},
   "source": [
    "Use the `dir` function to see the other methods and attributes inside this first top `Submission` object. (There are a lot of other \"hidden\" attributes and methods that use the \"\\_\" which we can ignore with this list comprehension.)"
   ]
  },
  {
   "cell_type": "code",
   "execution_count": 17,
   "metadata": {},
   "outputs": [
    {
     "data": {
      "text/plain": [
       "['archived',\n",
       " 'author',\n",
       " 'award',\n",
       " 'awarders',\n",
       " 'category',\n",
       " 'clicked',\n",
       " 'comments',\n",
       " 'created',\n",
       " 'crosspost',\n",
       " 'delete',\n",
       " 'distinguished',\n",
       " 'domain',\n",
       " 'downs',\n",
       " 'downvote',\n",
       " 'duplicates',\n",
       " 'edit',\n",
       " 'edited',\n",
       " 'flair',\n",
       " 'fullname',\n",
       " 'gild',\n",
       " 'gilded',\n",
       " 'gildings',\n",
       " 'hidden',\n",
       " 'hide',\n",
       " 'id',\n",
       " 'likes',\n",
       " 'locked',\n",
       " 'media',\n",
       " 'mod',\n",
       " 'name',\n",
       " 'parse',\n",
       " 'permalink',\n",
       " 'pinned',\n",
       " 'pwls',\n",
       " 'quarantine',\n",
       " 'reply',\n",
       " 'report',\n",
       " 'save',\n",
       " 'saved',\n",
       " 'score',\n",
       " 'selftext',\n",
       " 'shortlink',\n",
       " 'spoiler',\n",
       " 'stickied',\n",
       " 'subreddit',\n",
       " 'thumbnail',\n",
       " 'title',\n",
       " 'unhide',\n",
       " 'unsave',\n",
       " 'ups',\n",
       " 'upvote',\n",
       " 'url',\n",
       " 'visited',\n",
       " 'wls']"
      ]
     },
     "execution_count": 17,
     "metadata": {},
     "output_type": "execute_result"
    }
   ],
   "source": [
    "[i for i in dir(first_submission) if '_' not in i]"
   ]
  },
  {
   "cell_type": "markdown",
   "metadata": {},
   "source": [
    "`vars` may be even more helpful."
   ]
  },
  {
   "cell_type": "code",
   "execution_count": 18,
   "metadata": {},
   "outputs": [
    {
     "data": {
      "text/plain": [
       "{'comment_limit': 2048,\n",
       " 'comment_sort': 'confidence',\n",
       " '_reddit': <praw.reddit.Reddit at 0x7f95a138bda0>,\n",
       " 'approved_at_utc': None,\n",
       " 'subreddit': Subreddit(display_name='news'),\n",
       " 'selftext': '',\n",
       " 'author_fullname': 't2_a19jqos5',\n",
       " 'saved': False,\n",
       " 'mod_reason_title': None,\n",
       " 'gilded': 0,\n",
       " 'clicked': False,\n",
       " 'title': 'Biden withdraws from US Presidential Race',\n",
       " 'link_flair_richtext': [],\n",
       " 'subreddit_name_prefixed': 'r/news',\n",
       " 'hidden': False,\n",
       " 'pwls': 6,\n",
       " 'link_flair_css_class': 'potm',\n",
       " 'downs': 0,\n",
       " 'top_awarded_type': None,\n",
       " 'hide_score': False,\n",
       " 'name': 't3_1e8s7cm',\n",
       " 'quarantine': False,\n",
       " 'link_flair_text_color': None,\n",
       " 'upvote_ratio': 0.93,\n",
       " 'author_flair_background_color': None,\n",
       " 'subreddit_type': 'public',\n",
       " 'ups': 106698,\n",
       " 'total_awards_received': 0,\n",
       " 'media_embed': {},\n",
       " 'author_flair_template_id': None,\n",
       " 'is_original_content': False,\n",
       " 'user_reports': [],\n",
       " 'secure_media': None,\n",
       " 'is_reddit_media_domain': False,\n",
       " 'is_meta': False,\n",
       " 'category': None,\n",
       " 'secure_media_embed': {},\n",
       " 'link_flair_text': 'POTM - Jul 2024',\n",
       " 'can_mod_post': False,\n",
       " 'score': 106698,\n",
       " 'approved_by': None,\n",
       " 'is_created_from_ads_ui': False,\n",
       " 'author_premium': False,\n",
       " 'thumbnail': '',\n",
       " 'edited': False,\n",
       " 'author_flair_css_class': None,\n",
       " 'author_flair_richtext': [],\n",
       " 'gildings': {},\n",
       " 'content_categories': None,\n",
       " 'is_self': False,\n",
       " 'mod_note': None,\n",
       " 'created': 1721584587.0,\n",
       " 'link_flair_type': 'text',\n",
       " 'wls': 6,\n",
       " 'removed_by_category': None,\n",
       " 'banned_by': None,\n",
       " 'author_flair_type': 'text',\n",
       " 'domain': 'theguardian.com',\n",
       " 'allow_live_comments': True,\n",
       " 'selftext_html': None,\n",
       " 'likes': None,\n",
       " 'suggested_sort': None,\n",
       " 'banned_at_utc': None,\n",
       " 'url_overridden_by_dest': 'https://www.theguardian.com/us-news/article/2024/jul/21/joe-biden-withdraw-running-president?CMP=Share_AndroidApp_Other',\n",
       " 'view_count': None,\n",
       " 'archived': True,\n",
       " 'no_follow': False,\n",
       " 'is_crosspostable': True,\n",
       " 'pinned': False,\n",
       " 'over_18': False,\n",
       " 'all_awardings': [],\n",
       " 'awarders': [],\n",
       " 'media_only': False,\n",
       " 'link_flair_template_id': '0bdd21d0-7abd-11eb-ba4a-0ebd50ce5c45',\n",
       " 'can_gild': False,\n",
       " 'spoiler': False,\n",
       " 'locked': True,\n",
       " 'author_flair_text': None,\n",
       " 'treatment_tags': [],\n",
       " 'visited': False,\n",
       " 'removed_by': None,\n",
       " 'num_reports': None,\n",
       " 'distinguished': None,\n",
       " 'subreddit_id': 't5_2qh3l',\n",
       " 'author_is_blocked': False,\n",
       " 'mod_reason_by': None,\n",
       " 'removal_reason': None,\n",
       " 'link_flair_background_color': None,\n",
       " 'id': '1e8s7cm',\n",
       " 'is_robot_indexable': True,\n",
       " 'report_reasons': None,\n",
       " 'author': Redditor(name='The_Malt_Monkey'),\n",
       " 'discussion_type': None,\n",
       " 'num_comments': 24919,\n",
       " 'send_replies': True,\n",
       " 'contest_mode': False,\n",
       " 'mod_reports': [],\n",
       " 'author_patreon_flair': False,\n",
       " 'author_flair_text_color': None,\n",
       " 'permalink': '/r/news/comments/1e8s7cm/biden_withdraws_from_us_presidential_race/',\n",
       " 'stickied': False,\n",
       " 'url': 'https://www.theguardian.com/us-news/article/2024/jul/21/joe-biden-withdraw-running-president?CMP=Share_AndroidApp_Other',\n",
       " 'subreddit_subscribers': 30087105,\n",
       " 'created_utc': 1721584587.0,\n",
       " 'num_crossposts': 16,\n",
       " 'media': None,\n",
       " 'is_video': False,\n",
       " '_fetched': False,\n",
       " '_additional_fetch_params': {},\n",
       " '_comments_by_id': {}}"
      ]
     },
     "execution_count": 18,
     "metadata": {},
     "output_type": "execute_result"
    }
   ],
   "source": [
    "vars(first_submission)"
   ]
  },
  {
   "cell_type": "markdown",
   "metadata": {},
   "source": [
    "We can extract the features of each submission, store them in a dictionary, and save to an external list. This step will take a while (approximately one second per submission) because we make an API call for each submission in the `ListingGenerator` returned by the `r.subreddit('news').top('year',limit=25)` we're looping through."
   ]
  },
  {
   "cell_type": "code",
   "execution_count": 19,
   "metadata": {},
   "outputs": [
    {
     "name": "stderr",
     "output_type": "stream",
     "text": [
      "/tmp/ipykernel_563/2770130967.py:10: DeprecationWarning: datetime.datetime.utcfromtimestamp() is deprecated and scheduled for removal in a future version. Use timezone-aware objects to represent datetimes in UTC: datetime.datetime.fromtimestamp(timestamp, datetime.UTC).\n",
      "  d['date'] = datetime.utcfromtimestamp(submission.created_utc)\n"
     ]
    }
   ],
   "source": [
    "submission_stats = []\n",
    "\n",
    "for submission in r.subreddit('news').top(time_filter = 'year',limit=25):\n",
    "    d = {}\n",
    "    d['id'] = submission.id\n",
    "    d['title'] = submission.title\n",
    "    d['num_comments'] = submission.num_comments\n",
    "    d['score'] = submission.score\n",
    "    d['upvote_ratio'] = submission.upvote_ratio\n",
    "    d['date'] = datetime.utcfromtimestamp(submission.created_utc)\n",
    "    d['domain'] = submission.domain\n",
    "    d['gilded'] = submission.gilded\n",
    "    d['num_crossposts'] = submission.num_crossposts\n",
    "    d['nsfw'] = submission.over_18\n",
    "    if submission.author is not None:\n",
    "        d['author'] = submission.author.name\n",
    "    submission_stats.append(d)"
   ]
  },
  {
   "cell_type": "markdown",
   "metadata": {},
   "source": [
    "We can turn `submission_stats` into a pandas DataFrame."
   ]
  },
  {
   "cell_type": "code",
   "execution_count": 20,
   "metadata": {},
   "outputs": [
    {
     "data": {
      "text/html": [
       "<div>\n",
       "<style scoped>\n",
       "    .dataframe tbody tr th:only-of-type {\n",
       "        vertical-align: middle;\n",
       "    }\n",
       "\n",
       "    .dataframe tbody tr th {\n",
       "        vertical-align: top;\n",
       "    }\n",
       "\n",
       "    .dataframe thead th {\n",
       "        text-align: right;\n",
       "    }\n",
       "</style>\n",
       "<table border=\"1\" class=\"dataframe\">\n",
       "  <thead>\n",
       "    <tr style=\"text-align: right;\">\n",
       "      <th></th>\n",
       "      <th>id</th>\n",
       "      <th>title</th>\n",
       "      <th>num_comments</th>\n",
       "      <th>score</th>\n",
       "      <th>upvote_ratio</th>\n",
       "      <th>date</th>\n",
       "      <th>domain</th>\n",
       "      <th>gilded</th>\n",
       "      <th>num_crossposts</th>\n",
       "      <th>nsfw</th>\n",
       "      <th>author</th>\n",
       "    </tr>\n",
       "  </thead>\n",
       "  <tbody>\n",
       "    <tr>\n",
       "      <th>0</th>\n",
       "      <td>1e8s7cm</td>\n",
       "      <td>Biden withdraws from US Presidential Race</td>\n",
       "      <td>24919</td>\n",
       "      <td>106703</td>\n",
       "      <td>0.93</td>\n",
       "      <td>2024-07-21 17:56:27</td>\n",
       "      <td>theguardian.com</td>\n",
       "      <td>0</td>\n",
       "      <td>16</td>\n",
       "      <td>False</td>\n",
       "      <td>The_Malt_Monkey</td>\n",
       "    </tr>\n",
       "    <tr>\n",
       "      <th>1</th>\n",
       "      <td>1d4ekhx</td>\n",
       "      <td>Trump guilty in hush money trial of all 34 fel...</td>\n",
       "      <td>12653</td>\n",
       "      <td>100561</td>\n",
       "      <td>0.81</td>\n",
       "      <td>2024-05-30 21:09:25</td>\n",
       "      <td>cnbc.com</td>\n",
       "      <td>0</td>\n",
       "      <td>17</td>\n",
       "      <td>False</td>\n",
       "      <td>NaN</td>\n",
       "    </tr>\n",
       "    <tr>\n",
       "      <th>2</th>\n",
       "      <td>1gr5l2g</td>\n",
       "      <td>The Onion wins Alex Jones' Infowars in bankrup...</td>\n",
       "      <td>2715</td>\n",
       "      <td>86759</td>\n",
       "      <td>0.93</td>\n",
       "      <td>2024-11-14 14:09:46</td>\n",
       "      <td>nbcnews.com</td>\n",
       "      <td>0</td>\n",
       "      <td>32</td>\n",
       "      <td>False</td>\n",
       "      <td>thatoneguy889</td>\n",
       "    </tr>\n",
       "    <tr>\n",
       "      <th>3</th>\n",
       "      <td>1elh9bg</td>\n",
       "      <td>Harris selects Minnesota Gov. Tim Walz as runn...</td>\n",
       "      <td>6039</td>\n",
       "      <td>72161</td>\n",
       "      <td>0.83</td>\n",
       "      <td>2024-08-06 13:04:23</td>\n",
       "      <td>apnews.com</td>\n",
       "      <td>0</td>\n",
       "      <td>13</td>\n",
       "      <td>False</td>\n",
       "      <td>Ccubed02</td>\n",
       "    </tr>\n",
       "    <tr>\n",
       "      <th>4</th>\n",
       "      <td>1hbc9ot</td>\n",
       "      <td>Altoona police say they're being threatened af...</td>\n",
       "      <td>5433</td>\n",
       "      <td>66146</td>\n",
       "      <td>0.93</td>\n",
       "      <td>2024-12-10 21:04:52</td>\n",
       "      <td>wtaj.com</td>\n",
       "      <td>0</td>\n",
       "      <td>6</td>\n",
       "      <td>False</td>\n",
       "      <td>GoodSamaritan_</td>\n",
       "    </tr>\n",
       "  </tbody>\n",
       "</table>\n",
       "</div>"
      ],
      "text/plain": [
       "        id                                              title  num_comments  \\\n",
       "0  1e8s7cm          Biden withdraws from US Presidential Race         24919   \n",
       "1  1d4ekhx  Trump guilty in hush money trial of all 34 fel...         12653   \n",
       "2  1gr5l2g  The Onion wins Alex Jones' Infowars in bankrup...          2715   \n",
       "3  1elh9bg  Harris selects Minnesota Gov. Tim Walz as runn...          6039   \n",
       "4  1hbc9ot  Altoona police say they're being threatened af...          5433   \n",
       "\n",
       "    score  upvote_ratio                date           domain  gilded  \\\n",
       "0  106703          0.93 2024-07-21 17:56:27  theguardian.com       0   \n",
       "1  100561          0.81 2024-05-30 21:09:25         cnbc.com       0   \n",
       "2   86759          0.93 2024-11-14 14:09:46      nbcnews.com       0   \n",
       "3   72161          0.83 2024-08-06 13:04:23       apnews.com       0   \n",
       "4   66146          0.93 2024-12-10 21:04:52         wtaj.com       0   \n",
       "\n",
       "   num_crossposts   nsfw           author  \n",
       "0              16  False  The_Malt_Monkey  \n",
       "1              17  False              NaN  \n",
       "2              32  False    thatoneguy889  \n",
       "3              13  False         Ccubed02  \n",
       "4               6  False   GoodSamaritan_  "
      ]
     },
     "execution_count": 20,
     "metadata": {},
     "output_type": "execute_result"
    }
   ],
   "source": [
    "top25_df = pd.DataFrame(submission_stats)\n",
    "top25_df.head()"
   ]
  },
  {
   "cell_type": "markdown",
   "metadata": {},
   "source": [
    "Plot out the relationship between score and number of comments."
   ]
  },
  {
   "cell_type": "code",
   "execution_count": 21,
   "metadata": {},
   "outputs": [
    {
     "data": {
      "image/png": "[encoded data removed]",
      "text/plain": [
       "<Figure size 640x480 with 1 Axes>"
      ]
     },
     "metadata": {},
     "output_type": "display_data"
    }
   ],
   "source": [
    "ax = top25_df.plot.scatter(x='score',y='num_comments',s=50,c='k',alpha=.5)\n",
    "# ax.set_xlim((0,200000))\n",
    "# ax.set_ylim((0,16000))"
   ]
  },
  {
   "cell_type": "markdown",
   "metadata": {},
   "source": [
    "### Comments\n",
    "\n",
    "This is a simple Reddit submission: [Where do you source your data?](https://www.reddit.com/r/datasets/comments/1ji7rlx/where_do_you_source_your_data_frustrated_with/). We can inspect the comments in this simple submission.\n",
    "\n",
    "[Documentation for Comment model in PRAW](https://praw.readthedocs.io/en/latest/code_overview/models/comment.html)."
   ]
  },
  {
   "cell_type": "code",
   "execution_count": 22,
   "metadata": {},
   "outputs": [
    {
     "name": "stdout",
     "output_type": "stream",
     "text": [
      "This submission was made on 2025-03-23 19:40:56.\n",
      "There are 23 comments.\n"
     ]
    },
    {
     "name": "stderr",
     "output_type": "stream",
     "text": [
      "/tmp/ipykernel_563/1664875912.py:3: DeprecationWarning: datetime.datetime.utcfromtimestamp() is deprecated and scheduled for removal in a future version. Use timezone-aware objects to represent datetimes in UTC: datetime.datetime.fromtimestamp(timestamp, datetime.UTC).\n",
      "  print(\"This submission was made on {0}.\".format(datetime.utcfromtimestamp(source_data.created_utc)))\n"
     ]
    }
   ],
   "source": [
    "source_data = r.submission(id='1ji7rlx')\n",
    "\n",
    "print(\"This submission was made on {0}.\".format(datetime.utcfromtimestamp(source_data.created_utc)))\n",
    "print(\"There are {0:,} comments.\".format(source_data.num_comments))"
   ]
  },
  {
   "cell_type": "markdown",
   "metadata": {},
   "source": [
    "We can inspect these comments, working from the [Comment Extraction and Parsing](https://praw.readthedocs.io/en/latest/tutorials/comments.html) tutorial in PRAW."
   ]
  },
  {
   "cell_type": "code",
   "execution_count": 23,
   "metadata": {},
   "outputs": [
    {
     "name": "stdout",
     "output_type": "stream",
     "text": [
      "Find an open access scientific journal which requires open data access and take your pick. eLife is one; PLoS is another (or rather, many!). There are some other repositories like flybase and wormbase which have a lot of data on a few organisms. Just be polite about how you access the data; they've been getting hammered with LLM crawlers recently.\n",
      "Get a client.  You will need to validate your tech in the fuled, and your data sources sould be as real as possible tonget good results.  Experience from experts will be highly valueble to weed out bad ideas and focus on generating value.\n",
      "That’s why I actually create my own datasets through the use of web scraping, and being good at it.\n",
      "For example, my current client I am helping wants all American made bourbons. I went to the COLA registry, paid for some proxies, and got it myself.\n",
      "Open source and they have an email list as well. Updated weekly.\n",
      "\n",
      "Data-is-plural.com. \n",
      "\n",
      "\n",
      "I believe google also has a datasets search engine. https://datasetsearch.research.google.com/\n",
      "I really feel your pain on this. Finding good, unique, and *real* data for personal projects is a massive hurdle. It's a problem that constantly comes up, and honestly, it's one of the reasons I started working on my startup.\n",
      "\n",
      "We're building [Baselight](https://baselight.ai/), a platform that's (in a nutshell) trying to be a kind of \"GitHub for Data\" – a place where people can collaborate on datasets, share them, and even potentially monetize them (if they choose to). The core idea is to foster a community focused on high-quality, real-world data, moving away from the limitations you described with overused datasets and the artificiality of synthetic data.\n",
      "\n",
      "Right now, we're still in the early stages (think *very* early access/alpha).  We've started by integrating some common sources like Kaggle, Our World in Data, and the World Bank, to build a base, but the long-term goal is to make it easy for users to contribute and curate their own unique datasets in a collaborative way. We want to make it easier to deal with the \"messiness\" you mention – the missing values, the biases, the real-world quirks – because that's where the real learning and interesting challenges are.\n",
      "\n",
      "We’re working on features like:\n",
      "\n",
      "* **Version Control:** Think Git, but for data.  Track changes, revert to earlier versions, and understand the evolution of a dataset.\n",
      "* **Data Lineage:** Easily see where data came from, how it was transformed, and who contributed to it.  This is huge for transparency and reproducibility.\n",
      "* **Collaboration Tools:** Built-in ways to discuss data quality, flag issues, and collaboratively improve datasets.\n",
      "* **A Distributed Query Engine:** This helps people work on extremely big data, and also query data that is spread across several databases.\n",
      "* **(Future) Monetization Options:** Giving data creators the *option* (but not the requirement) to get compensated for their work, which we hope will incentivize the creation of more high-quality, specialized datasets.\n",
      "\n",
      "I know it's not a perfect solution *yet*, and we're definitely not claiming to have all the answers.  We're actively looking for feedback and trying to build something that genuinely solves this problem for the community.  If you're interested in checking it out or just want to chat about the challenges of data sourcing, feel free to DM me.  I'd love to hear your thoughts and see if what we're building aligns with what you (and others) need.\n",
      "\n",
      "In the meantime, a few other (non-Baselight!) ideas that *might* help, depending on your project:\n",
      "\n",
      "* **Government Open Data Portals:** Many cities, states, and countries have open data portals.  The quality and topics vary wildly, but you can sometimes find hidden gems. (e.g., data.gov, data.gov.uk, etc.)\n",
      "* **Academic Datasets:** Some researchers publish datasets alongside their papers.  Look through relevant journals or conference proceedings in your field of interest. Google Dataset Search can help here. \n",
      "* **FOIA Requests (Freedom of Information Act):** This is a more advanced (and potentially time-consuming) option, but you can sometimes request specific data from government agencies. \n",
      "* **Data is Plural:** One of my personal favourites! It's a newsletter that shares new, original datasets.\n",
      "\n",
      "Good luck with your project! I really hope you find the data you need.  It's a tough problem, but it's also what makes these projects so rewarding when you finally crack it.\n",
      "We have data that we can share with you.\n",
      "I spent half of my career in health research and there are plenty of datasets that are open access or free to use. You can find them referenced  in journals articles. I would say the majority aren't big, so it dependents what you are looking for.\n",
      "\n",
      "If you're even vaguely familiar with R, libraries more often than not contain canned datasets. Another place that often has datasets is the journal \"Journal of Statistical Software\".\n",
      "I use: [https://open.africa/](https://open.africa/)\n",
      "There's no secret stash of high quality data that professionals use, if that's what you're wondering. Getting good data is extremely challenging, that's why so many people use datasets that have already been made. Depending on the dataset, you can try and collect it yourself. I work a lot in computer vision, and building datasets for computer vision can be pretty fun.\n",
      "I have data of every countries let me know if u want to buy..\n",
      "Thanks\n",
      "Thanks\n",
      "Thanks\n",
      "Thanks\n",
      "Thanks for the journal recommendation! Would you happen to know where I can find data on digital health subjects/electronic health records or healthcare privatization in that field? \n",
      "\n",
      "I'm looking for data for my master's thesis and I'm drowning in datasets, yay\n",
      "Thanks\n",
      "I made my first big dataset using a Gopro camera.  A friend of mine ran into a girl with a pole with a similar camera on top... making a \"trucker\" dataset.  I hace also seen people walking witha notebook in the bicycle lane making their own datasets.\n"
     ]
    }
   ],
   "source": [
    "source_data.comments.replace_more(limit=None)\n",
    "\n",
    "for comment in source_data.comments.list():\n",
    "    print(comment.body)"
   ]
  },
  {
   "cell_type": "markdown",
   "metadata": {},
   "source": [
    "Each comment has a lot of metadata we can preserve."
   ]
  },
  {
   "cell_type": "code",
   "execution_count": 24,
   "metadata": {},
   "outputs": [
    {
     "name": "stderr",
     "output_type": "stream",
     "text": [
      "/tmp/ipykernel_563/283445546.py:12: DeprecationWarning: datetime.datetime.utcfromtimestamp() is deprecated and scheduled for removal in a future version. Use timezone-aware objects to represent datetimes in UTC: datetime.datetime.fromtimestamp(timestamp, datetime.UTC).\n",
      "  d['date'] = datetime.utcfromtimestamp(comment.created_utc)\n"
     ]
    }
   ],
   "source": [
    "source_data_comment_metadata = []\n",
    "\n",
    "for comment in source_data.comments.list():\n",
    "    if not comment.collapsed: # Skip collapsed/deleted comments\n",
    "        d = {}\n",
    "        d['id'] = comment.id\n",
    "        d['parent_id'] = comment.parent_id\n",
    "        d['body'] = comment.body\n",
    "        d['depth'] = comment.depth\n",
    "        d['edited'] = comment.edited\n",
    "        d['score'] = comment.score\n",
    "        d['date'] = datetime.utcfromtimestamp(comment.created_utc)\n",
    "        d['submission_id'] = comment.submission.id\n",
    "        d['submission_title'] = comment.submission.title\n",
    "        d['subreddit'] = comment.subreddit.display_name\n",
    "        if comment.author is not None:\n",
    "            d['author'] = comment.author.name\n",
    "        source_data_comment_metadata.append(d)"
   ]
  },
  {
   "cell_type": "markdown",
   "metadata": {},
   "source": [
    "Convert to a DataFrame."
   ]
  },
  {
   "cell_type": "code",
   "execution_count": 25,
   "metadata": {},
   "outputs": [
    {
     "data": {
      "text/html": [
       "<div>\n",
       "<style scoped>\n",
       "    .dataframe tbody tr th:only-of-type {\n",
       "        vertical-align: middle;\n",
       "    }\n",
       "\n",
       "    .dataframe tbody tr th {\n",
       "        vertical-align: top;\n",
       "    }\n",
       "\n",
       "    .dataframe thead th {\n",
       "        text-align: right;\n",
       "    }\n",
       "</style>\n",
       "<table border=\"1\" class=\"dataframe\">\n",
       "  <thead>\n",
       "    <tr style=\"text-align: right;\">\n",
       "      <th></th>\n",
       "      <th>id</th>\n",
       "      <th>parent_id</th>\n",
       "      <th>body</th>\n",
       "      <th>depth</th>\n",
       "      <th>edited</th>\n",
       "      <th>score</th>\n",
       "      <th>date</th>\n",
       "      <th>submission_id</th>\n",
       "      <th>submission_title</th>\n",
       "      <th>subreddit</th>\n",
       "      <th>author</th>\n",
       "      <th>comment_length</th>\n",
       "    </tr>\n",
       "  </thead>\n",
       "  <tbody>\n",
       "    <tr>\n",
       "      <th>0</th>\n",
       "      <td>mjd53c0</td>\n",
       "      <td>t3_1ji7rlx</td>\n",
       "      <td>Find an open access scientific journal which r...</td>\n",
       "      <td>0</td>\n",
       "      <td>False</td>\n",
       "      <td>8</td>\n",
       "      <td>2025-03-23 20:08:04</td>\n",
       "      <td>1ji7rlx</td>\n",
       "      <td>Where Do You Source Your Data? Frustrated with...</td>\n",
       "      <td>datasets</td>\n",
       "      <td>tunisia3507</td>\n",
       "      <td>349</td>\n",
       "    </tr>\n",
       "    <tr>\n",
       "      <th>1</th>\n",
       "      <td>mjeaal8</td>\n",
       "      <td>t3_1ji7rlx</td>\n",
       "      <td>Get a client.  You will need to validate your ...</td>\n",
       "      <td>0</td>\n",
       "      <td>False</td>\n",
       "      <td>3</td>\n",
       "      <td>2025-03-23 23:49:53</td>\n",
       "      <td>1ji7rlx</td>\n",
       "      <td>Where Do You Source Your Data? Frustrated with...</td>\n",
       "      <td>datasets</td>\n",
       "      <td>peyronet</td>\n",
       "      <td>238</td>\n",
       "    </tr>\n",
       "    <tr>\n",
       "      <th>2</th>\n",
       "      <td>mjhl78q</td>\n",
       "      <td>t3_1ji7rlx</td>\n",
       "      <td>That’s why I actually create my own datasets t...</td>\n",
       "      <td>0</td>\n",
       "      <td>False</td>\n",
       "      <td>2</td>\n",
       "      <td>2025-03-24 15:03:57</td>\n",
       "      <td>1ji7rlx</td>\n",
       "      <td>Where Do You Source Your Data? Frustrated with...</td>\n",
       "      <td>datasets</td>\n",
       "      <td>akindea</td>\n",
       "      <td>248</td>\n",
       "    </tr>\n",
       "    <tr>\n",
       "      <th>3</th>\n",
       "      <td>mjlu09x</td>\n",
       "      <td>t3_1ji7rlx</td>\n",
       "      <td>Open source and they have an email list as wel...</td>\n",
       "      <td>0</td>\n",
       "      <td>False</td>\n",
       "      <td>2</td>\n",
       "      <td>2025-03-25 04:43:19</td>\n",
       "      <td>1ji7rlx</td>\n",
       "      <td>Where Do You Source Your Data? Frustrated with...</td>\n",
       "      <td>datasets</td>\n",
       "      <td>1purenoiz</td>\n",
       "      <td>183</td>\n",
       "    </tr>\n",
       "    <tr>\n",
       "      <th>4</th>\n",
       "      <td>mjgyckq</td>\n",
       "      <td>t3_1ji7rlx</td>\n",
       "      <td>I really feel your pain on this. Finding good,...</td>\n",
       "      <td>0</td>\n",
       "      <td>False</td>\n",
       "      <td>2</td>\n",
       "      <td>2025-03-24 12:56:42</td>\n",
       "      <td>1ji7rlx</td>\n",
       "      <td>Where Do You Source Your Data? Frustrated with...</td>\n",
       "      <td>datasets</td>\n",
       "      <td>StandUpDude</td>\n",
       "      <td>3417</td>\n",
       "    </tr>\n",
       "  </tbody>\n",
       "</table>\n",
       "</div>"
      ],
      "text/plain": [
       "        id   parent_id                                               body  \\\n",
       "0  mjd53c0  t3_1ji7rlx  Find an open access scientific journal which r...   \n",
       "1  mjeaal8  t3_1ji7rlx  Get a client.  You will need to validate your ...   \n",
       "2  mjhl78q  t3_1ji7rlx  That’s why I actually create my own datasets t...   \n",
       "3  mjlu09x  t3_1ji7rlx  Open source and they have an email list as wel...   \n",
       "4  mjgyckq  t3_1ji7rlx  I really feel your pain on this. Finding good,...   \n",
       "\n",
       "   depth  edited  score                date submission_id  \\\n",
       "0      0   False      8 2025-03-23 20:08:04       1ji7rlx   \n",
       "1      0   False      3 2025-03-23 23:49:53       1ji7rlx   \n",
       "2      0   False      2 2025-03-24 15:03:57       1ji7rlx   \n",
       "3      0   False      2 2025-03-25 04:43:19       1ji7rlx   \n",
       "4      0   False      2 2025-03-24 12:56:42       1ji7rlx   \n",
       "\n",
       "                                    submission_title subreddit       author  \\\n",
       "0  Where Do You Source Your Data? Frustrated with...  datasets  tunisia3507   \n",
       "1  Where Do You Source Your Data? Frustrated with...  datasets     peyronet   \n",
       "2  Where Do You Source Your Data? Frustrated with...  datasets      akindea   \n",
       "3  Where Do You Source Your Data? Frustrated with...  datasets    1purenoiz   \n",
       "4  Where Do You Source Your Data? Frustrated with...  datasets  StandUpDude   \n",
       "\n",
       "   comment_length  \n",
       "0             349  \n",
       "1             238  \n",
       "2             248  \n",
       "3             183  \n",
       "4            3417  "
      ]
     },
     "execution_count": 25,
     "metadata": {},
     "output_type": "execute_result"
    }
   ],
   "source": [
    "source_data_df = pd.DataFrame(source_data_comment_metadata)\n",
    "\n",
    "# How long is the comment\n",
    "source_data_df['comment_length'] = source_data_df['body'].str.len()\n",
    "\n",
    "source_data_df.head()"
   ]
  },
  {
   "cell_type": "markdown",
   "metadata": {},
   "source": [
    "Do comments deeper in this comment tree have lower scores?"
   ]
  },
  {
   "cell_type": "code",
   "execution_count": 26,
   "metadata": {},
   "outputs": [
    {
     "data": {
      "text/plain": [
       "<seaborn.axisgrid.FacetGrid at 0x7f955bff5a60>"
      ]
     },
     "execution_count": 26,
     "metadata": {},
     "output_type": "execute_result"
    },
    {
     "data": {
      "image/png": "[encoded data removed]",
      "text/plain": [
       "<Figure size 511.111x500 with 1 Axes>"
      ]
     },
     "metadata": {},
     "output_type": "display_data"
    }
   ],
   "source": [
    "sb.catplot(x='depth',y='score',data=source_data_df,kind='bar',color='lightblue')"
   ]
  },
  {
   "cell_type": "markdown",
   "metadata": {},
   "source": [
    "Do comments deeper in this comment tree have shorter lengths?"
   ]
  },
  {
   "cell_type": "code",
   "execution_count": 27,
   "metadata": {},
   "outputs": [
    {
     "data": {
      "text/plain": [
       "<seaborn.axisgrid.FacetGrid at 0x7f955bee98e0>"
      ]
     },
     "execution_count": 27,
     "metadata": {},
     "output_type": "execute_result"
    },
    {
     "data": {
      "image/png": "[encoded data removed]",
      "text/plain": [
       "<Figure size 511.111x500 with 1 Axes>"
      ]
     },
     "metadata": {},
     "output_type": "display_data"
    }
   ],
   "source": [
    "sb.catplot(x='depth',y='comment_length',data=source_data_df,kind='bar',color='lightblue')"
   ]
  },
  {
   "cell_type": "markdown",
   "metadata": {},
   "source": [
    "### Redditors\n",
    "\n",
    "A Redditor is a user and we can get meta-data about the account as well as the history of the user's comments and submissions from the API.\n",
    "\n",
    "[Documentation for the Redditor model in PRAW](https://praw.readthedocs.io/en/latest/code_overview/models/redditor.html).\n",
    "\n",
    "How much link and comment karma does this user have?"
   ]
  },
  {
   "cell_type": "code",
   "execution_count": 28,
   "metadata": {},
   "outputs": [
    {
     "name": "stdout",
     "output_type": "stream",
     "text": [
      "Link karma: 178,142\n",
      "Comment karma: 751,625\n"
     ]
    }
   ],
   "source": [
    "spez = r.redditor('spez')\n",
    "print(\"Link karma: {0:,}\".format(spez.link_karma))\n",
    "print(\"Comment karma: {0:,}\".format(spez.comment_karma))"
   ]
  },
  {
   "cell_type": "markdown",
   "metadata": {},
   "source": [
    "Interestingly, Reddit flags the users who are employees of Reddit as well as if accounts have verified email addresses."
   ]
  },
  {
   "cell_type": "code",
   "execution_count": 29,
   "metadata": {},
   "outputs": [
    {
     "data": {
      "text/plain": [
       "True"
      ]
     },
     "execution_count": 29,
     "metadata": {},
     "output_type": "execute_result"
    }
   ],
   "source": [
    "spez.is_employee"
   ]
  },
  {
   "cell_type": "code",
   "execution_count": 30,
   "metadata": {},
   "outputs": [
    {
     "data": {
      "text/plain": [
       "True"
      ]
     },
     "execution_count": 30,
     "metadata": {},
     "output_type": "execute_result"
    }
   ],
   "source": [
    "spez.has_verified_email"
   ]
  },
  {
   "cell_type": "markdown",
   "metadata": {},
   "source": [
    "We can also get the time this user's account was created."
   ]
  },
  {
   "cell_type": "code",
   "execution_count": 31,
   "metadata": {},
   "outputs": [
    {
     "name": "stderr",
     "output_type": "stream",
     "text": [
      "/tmp/ipykernel_563/2511850572.py:1: DeprecationWarning: datetime.datetime.utcfromtimestamp() is deprecated and scheduled for removal in a future version. Use timezone-aware objects to represent datetimes in UTC: datetime.datetime.fromtimestamp(timestamp, datetime.UTC).\n",
      "  datetime.utcfromtimestamp(spez.created_utc)\n"
     ]
    },
    {
     "data": {
      "text/plain": [
       "datetime.datetime(2005, 6, 6, 4, 0)"
      ]
     },
     "execution_count": 31,
     "metadata": {},
     "output_type": "execute_result"
    }
   ],
   "source": [
    "datetime.utcfromtimestamp(spez.created_utc)"
   ]
  },
  {
   "cell_type": "markdown",
   "metadata": {},
   "source": [
    "We can also get information about individual redditors' submissions and comment histories. Here we will use u/spez (the CEO of Reddit), get his top-voted submissions, and loop through them to get the data for each submission."
   ]
  },
  {
   "cell_type": "code",
   "execution_count": 32,
   "metadata": {},
   "outputs": [
    {
     "name": "stderr",
     "output_type": "stream",
     "text": [
      "/tmp/ipykernel_563/136595837.py:10: DeprecationWarning: datetime.datetime.utcfromtimestamp() is deprecated and scheduled for removal in a future version. Use timezone-aware objects to represent datetimes in UTC: datetime.datetime.fromtimestamp(timestamp, datetime.UTC).\n",
      "  d['date'] = datetime.utcfromtimestamp(submission.created_utc)\n"
     ]
    }
   ],
   "source": [
    "spez_submissions = []\n",
    "\n",
    "for submission in r.redditor('spez').submissions.top(time_filter='all',limit=25):\n",
    "    d = {}\n",
    "    d['id'] = submission.id\n",
    "    d['title'] = submission.title\n",
    "    d['num_comments'] = submission.num_comments\n",
    "    d['score'] = submission.score\n",
    "    d['upvote_ratio'] = submission.upvote_ratio\n",
    "    d['date'] = datetime.utcfromtimestamp(submission.created_utc)\n",
    "    d['domain'] = submission.domain\n",
    "    d['gilded'] = submission.gilded\n",
    "    d['num_crossposts'] = submission.num_crossposts\n",
    "    d['nsfw'] = submission.over_18\n",
    "    if comment.author is not None:\n",
    "        d['author'] = submission.author.name\n",
    "    spez_submissions.append(d)"
   ]
  },
  {
   "cell_type": "markdown",
   "metadata": {},
   "source": [
    "Again we can turn this list of dictionaries into a DataFrame to do substantive data analysis."
   ]
  },
  {
   "cell_type": "code",
   "execution_count": 33,
   "metadata": {},
   "outputs": [
    {
     "data": {
      "text/html": [
       "<div>\n",
       "<style scoped>\n",
       "    .dataframe tbody tr th:only-of-type {\n",
       "        vertical-align: middle;\n",
       "    }\n",
       "\n",
       "    .dataframe tbody tr th {\n",
       "        vertical-align: top;\n",
       "    }\n",
       "\n",
       "    .dataframe thead th {\n",
       "        text-align: right;\n",
       "    }\n",
       "</style>\n",
       "<table border=\"1\" class=\"dataframe\">\n",
       "  <thead>\n",
       "    <tr style=\"text-align: right;\">\n",
       "      <th></th>\n",
       "      <th>id</th>\n",
       "      <th>title</th>\n",
       "      <th>num_comments</th>\n",
       "      <th>score</th>\n",
       "      <th>upvote_ratio</th>\n",
       "      <th>date</th>\n",
       "      <th>domain</th>\n",
       "      <th>gilded</th>\n",
       "      <th>num_crossposts</th>\n",
       "      <th>nsfw</th>\n",
       "      <th>author</th>\n",
       "    </tr>\n",
       "  </thead>\n",
       "  <tbody>\n",
       "    <tr>\n",
       "      <th>0</th>\n",
       "      <td>7jsyqt</td>\n",
       "      <td>The FCC’s vote was predictably frustrating, bu...</td>\n",
       "      <td>14476</td>\n",
       "      <td>194096</td>\n",
       "      <td>0.86</td>\n",
       "      <td>2017-12-14 17:10:15</td>\n",
       "      <td>self.announcements</td>\n",
       "      <td>8</td>\n",
       "      <td>28</td>\n",
       "      <td>False</td>\n",
       "      <td>spez</td>\n",
       "    </tr>\n",
       "    <tr>\n",
       "      <th>1</th>\n",
       "      <td>mcisdf</td>\n",
       "      <td>An update on the recent issues surrounding a R...</td>\n",
       "      <td>35901</td>\n",
       "      <td>107364</td>\n",
       "      <td>0.63</td>\n",
       "      <td>2021-03-24 22:37:47</td>\n",
       "      <td>self.announcements</td>\n",
       "      <td>10</td>\n",
       "      <td>147</td>\n",
       "      <td>False</td>\n",
       "      <td>spez</td>\n",
       "    </tr>\n",
       "    <tr>\n",
       "      <th>2</th>\n",
       "      <td>7fx1x4</td>\n",
       "      <td>An update on the fight for the free and open i...</td>\n",
       "      <td>7664</td>\n",
       "      <td>92815</td>\n",
       "      <td>0.81</td>\n",
       "      <td>2017-11-27 18:03:30</td>\n",
       "      <td>self.blog</td>\n",
       "      <td>4</td>\n",
       "      <td>20</td>\n",
       "      <td>False</td>\n",
       "      <td>spez</td>\n",
       "    </tr>\n",
       "    <tr>\n",
       "      <th>3</th>\n",
       "      <td>5frg1n</td>\n",
       "      <td>TIFU by editing some comments and creating an ...</td>\n",
       "      <td>34800</td>\n",
       "      <td>50316</td>\n",
       "      <td>0.61</td>\n",
       "      <td>2016-11-30 19:04:49</td>\n",
       "      <td>self.announcements</td>\n",
       "      <td>32</td>\n",
       "      <td>1</td>\n",
       "      <td>False</td>\n",
       "      <td>spez</td>\n",
       "    </tr>\n",
       "    <tr>\n",
       "      <th>4</th>\n",
       "      <td>3cxedn</td>\n",
       "      <td>I am Steve Huffman, the new CEO of reddit. AMA.</td>\n",
       "      <td>12550</td>\n",
       "      <td>41372</td>\n",
       "      <td>0.83</td>\n",
       "      <td>2015-07-11 17:02:59</td>\n",
       "      <td>self.IAmA</td>\n",
       "      <td>2</td>\n",
       "      <td>1</td>\n",
       "      <td>False</td>\n",
       "      <td>spez</td>\n",
       "    </tr>\n",
       "  </tbody>\n",
       "</table>\n",
       "</div>"
      ],
      "text/plain": [
       "       id                                              title  num_comments  \\\n",
       "0  7jsyqt  The FCC’s vote was predictably frustrating, bu...         14476   \n",
       "1  mcisdf  An update on the recent issues surrounding a R...         35901   \n",
       "2  7fx1x4  An update on the fight for the free and open i...          7664   \n",
       "3  5frg1n  TIFU by editing some comments and creating an ...         34800   \n",
       "4  3cxedn    I am Steve Huffman, the new CEO of reddit. AMA.         12550   \n",
       "\n",
       "    score  upvote_ratio                date              domain  gilded  \\\n",
       "0  194096          0.86 2017-12-14 17:10:15  self.announcements       8   \n",
       "1  107364          0.63 2021-03-24 22:37:47  self.announcements      10   \n",
       "2   92815          0.81 2017-11-27 18:03:30           self.blog       4   \n",
       "3   50316          0.61 2016-11-30 19:04:49  self.announcements      32   \n",
       "4   41372          0.83 2015-07-11 17:02:59           self.IAmA       2   \n",
       "\n",
       "   num_crossposts   nsfw author  \n",
       "0              28  False   spez  \n",
       "1             147  False   spez  \n",
       "2              20  False   spez  \n",
       "3               1  False   spez  \n",
       "4               1  False   spez  "
      ]
     },
     "execution_count": 33,
     "metadata": {},
     "output_type": "execute_result"
    }
   ],
   "source": [
    "pd.DataFrame(spez_submissions).head()"
   ]
  },
  {
   "cell_type": "markdown",
   "metadata": {},
   "source": [
    "We can also get all the comments made by an editor."
   ]
  },
  {
   "cell_type": "code",
   "execution_count": 34,
   "metadata": {},
   "outputs": [
    {
     "name": "stderr",
     "output_type": "stream",
     "text": [
      "/tmp/ipykernel_563/3442959793.py:13: DeprecationWarning: datetime.datetime.utcfromtimestamp() is deprecated and scheduled for removal in a future version. Use timezone-aware objects to represent datetimes in UTC: datetime.datetime.fromtimestamp(timestamp, datetime.UTC).\n",
      "  d['date'] = datetime.utcfromtimestamp(comment.created_utc)\n"
     ]
    }
   ],
   "source": [
    "spez_comments = []\n",
    "\n",
    "for comment in r.redditor('spez').comments.top(time_filter = 'all',limit=25):\n",
    "    d = {}\n",
    "    d['id'] = comment.id\n",
    "    d['body'] = comment.body\n",
    "    try:\n",
    "        d['depth'] = comment.depth\n",
    "    except:\n",
    "        d['depth'] = np.nan\n",
    "    d['edited'] = comment.edited\n",
    "    d['score'] = comment.score\n",
    "    d['date'] = datetime.utcfromtimestamp(comment.created_utc)\n",
    "    d['submission_id'] = comment.submission.id\n",
    "    d['submission_title'] = comment.submission.title\n",
    "    d['subreddit'] = comment.subreddit.display_name\n",
    "    if comment.author is not None:\n",
    "        d['author'] = comment.author.name\n",
    "    spez_comments.append(d)"
   ]
  },
  {
   "cell_type": "code",
   "execution_count": 35,
   "metadata": {},
   "outputs": [
    {
     "data": {
      "text/html": [
       "<div>\n",
       "<style scoped>\n",
       "    .dataframe tbody tr th:only-of-type {\n",
       "        vertical-align: middle;\n",
       "    }\n",
       "\n",
       "    .dataframe tbody tr th {\n",
       "        vertical-align: top;\n",
       "    }\n",
       "\n",
       "    .dataframe thead th {\n",
       "        text-align: right;\n",
       "    }\n",
       "</style>\n",
       "<table border=\"1\" class=\"dataframe\">\n",
       "  <thead>\n",
       "    <tr style=\"text-align: right;\">\n",
       "      <th></th>\n",
       "      <th>id</th>\n",
       "      <th>body</th>\n",
       "      <th>depth</th>\n",
       "      <th>edited</th>\n",
       "      <th>score</th>\n",
       "      <th>date</th>\n",
       "      <th>submission_id</th>\n",
       "      <th>submission_title</th>\n",
       "      <th>subreddit</th>\n",
       "      <th>author</th>\n",
       "    </tr>\n",
       "  </thead>\n",
       "  <tbody>\n",
       "    <tr>\n",
       "      <th>0</th>\n",
       "      <td>d992fwq</td>\n",
       "      <td>Reddit search might work by then.</td>\n",
       "      <td>NaN</td>\n",
       "      <td>False</td>\n",
       "      <td>22197</td>\n",
       "      <td>2016-10-26 21:07:22</td>\n",
       "      <td>59k22p</td>\n",
       "      <td>Hey, it’s Reddit’s totally politically neutral...</td>\n",
       "      <td>announcements</td>\n",
       "      <td>spez</td>\n",
       "    </tr>\n",
       "    <tr>\n",
       "      <th>1</th>\n",
       "      <td>dr95e2i</td>\n",
       "      <td>No. We don’t negotiate with terrorists.</td>\n",
       "      <td>NaN</td>\n",
       "      <td>False</td>\n",
       "      <td>20219</td>\n",
       "      <td>2017-12-14 19:33:42</td>\n",
       "      <td>7jsyqt</td>\n",
       "      <td>The FCC’s vote was predictably frustrating, bu...</td>\n",
       "      <td>announcements</td>\n",
       "      <td>spez</td>\n",
       "    </tr>\n",
       "    <tr>\n",
       "      <th>2</th>\n",
       "      <td>dr8whnr</td>\n",
       "      <td>good bot</td>\n",
       "      <td>NaN</td>\n",
       "      <td>False</td>\n",
       "      <td>17494</td>\n",
       "      <td>2017-12-14 17:11:41</td>\n",
       "      <td>7jsyqt</td>\n",
       "      <td>The FCC’s vote was predictably frustrating, bu...</td>\n",
       "      <td>announcements</td>\n",
       "      <td>spez</td>\n",
       "    </tr>\n",
       "    <tr>\n",
       "      <th>3</th>\n",
       "      <td>d992soe</td>\n",
       "      <td>On Reddit.</td>\n",
       "      <td>NaN</td>\n",
       "      <td>False</td>\n",
       "      <td>13841</td>\n",
       "      <td>2016-10-26 21:14:49</td>\n",
       "      <td>59k22p</td>\n",
       "      <td>Hey, it’s Reddit’s totally politically neutral...</td>\n",
       "      <td>announcements</td>\n",
       "      <td>spez</td>\n",
       "    </tr>\n",
       "    <tr>\n",
       "      <th>4</th>\n",
       "      <td>damgw92</td>\n",
       "      <td>&gt; However, why not allow a small 5 minute wind...</td>\n",
       "      <td>NaN</td>\n",
       "      <td>False</td>\n",
       "      <td>12702</td>\n",
       "      <td>2016-11-30 19:40:47</td>\n",
       "      <td>5frg1n</td>\n",
       "      <td>TIFU by editing some comments and creating an ...</td>\n",
       "      <td>announcements</td>\n",
       "      <td>spez</td>\n",
       "    </tr>\n",
       "  </tbody>\n",
       "</table>\n",
       "</div>"
      ],
      "text/plain": [
       "        id                                               body  depth edited  \\\n",
       "0  d992fwq                  Reddit search might work by then.    NaN  False   \n",
       "1  dr95e2i           No. We don’t negotiate with terrorists.     NaN  False   \n",
       "2  dr8whnr                                           good bot    NaN  False   \n",
       "3  d992soe                                         On Reddit.    NaN  False   \n",
       "4  damgw92  > However, why not allow a small 5 minute wind...    NaN  False   \n",
       "\n",
       "   score                date submission_id  \\\n",
       "0  22197 2016-10-26 21:07:22        59k22p   \n",
       "1  20219 2017-12-14 19:33:42        7jsyqt   \n",
       "2  17494 2017-12-14 17:11:41        7jsyqt   \n",
       "3  13841 2016-10-26 21:14:49        59k22p   \n",
       "4  12702 2016-11-30 19:40:47        5frg1n   \n",
       "\n",
       "                                    submission_title      subreddit author  \n",
       "0  Hey, it’s Reddit’s totally politically neutral...  announcements   spez  \n",
       "1  The FCC’s vote was predictably frustrating, bu...  announcements   spez  \n",
       "2  The FCC’s vote was predictably frustrating, bu...  announcements   spez  \n",
       "3  Hey, it’s Reddit’s totally politically neutral...  announcements   spez  \n",
       "4  TIFU by editing some comments and creating an ...  announcements   spez  "
      ]
     },
     "execution_count": 35,
     "metadata": {},
     "output_type": "execute_result"
    }
   ],
   "source": [
    "pd.DataFrame(spez_comments).head()"
   ]
  },
  {
   "cell_type": "markdown",
   "metadata": {},
   "source": [
    "This user's top comments are mostly focused in the /r/announcements subreddit."
   ]
  },
  {
   "cell_type": "code",
   "execution_count": 36,
   "metadata": {},
   "outputs": [
    {
     "data": {
      "text/plain": [
       "subreddit\n",
       "announcements    21\n",
       "IAmA              2\n",
       "blog              1\n",
       "RoastMe           1\n",
       "Name: count, dtype: int64"
      ]
     },
     "execution_count": 36,
     "metadata": {},
     "output_type": "execute_result"
    }
   ],
   "source": [
    "pd.DataFrame(spez_comments)['subreddit'].value_counts()"
   ]
  },
  {
   "cell_type": "markdown",
   "metadata": {},
   "source": [
    "### Archived data via PushShift\n",
    "\n",
    "#### As of 2 years ago Reddit changed their terms of service and this is no longer an accessible API. \n",
    "\n",
    "PushShift is a researcher-maintained archive of Reddit posts and comments. Full data dumps of [submissions](https://files.pushshift.io/reddit/submissions/) and [comments](https://files.pushshift.io/reddit/comments/) are available, although these are (unsurprisingly) very space intensive. You can also access an API to make [ElasticSearch](https://www.elastic.co/elasticsearch/) queries against a database of this archive of submissions and comments. Unfortunately, the service is frequently down. \n",
    "\n",
    "We will use the [`pmaw`](https://github.com/mattpodolak/pmaw) library to access this data endpoint using Python. Install `pmaw` once:"
   ]
  },
  {
   "cell_type": "code",
   "execution_count": 37,
   "metadata": {},
   "outputs": [
    {
     "name": "stdout",
     "output_type": "stream",
     "text": [
      "Collecting pmaw\n",
      "  Using cached pmaw-3.0.0-py3-none-any.whl.metadata (25 kB)\n",
      "Requirement already satisfied: requests in /opt/conda/lib/python3.12/site-packages (from pmaw) (2.32.3)\n",
      "Requirement already satisfied: praw in /opt/conda/lib/python3.12/site-packages (from pmaw) (7.8.1)\n",
      "Requirement already satisfied: prawcore<3,>=2.4 in /opt/conda/lib/python3.12/site-packages (from praw->pmaw) (2.4.0)\n",
      "Requirement already satisfied: update_checker>=0.18 in /opt/conda/lib/python3.12/site-packages (from praw->pmaw) (0.18.0)\n",
      "Requirement already satisfied: websocket-client>=0.54.0 in /opt/conda/lib/python3.12/site-packages (from praw->pmaw) (1.8.0)\n",
      "Requirement already satisfied: charset_normalizer<4,>=2 in /opt/conda/lib/python3.12/site-packages (from requests->pmaw) (3.4.1)\n",
      "Requirement already satisfied: idna<4,>=2.5 in /opt/conda/lib/python3.12/site-packages (from requests->pmaw) (3.10)\n",
      "Requirement already satisfied: urllib3<3,>=1.21.1 in /opt/conda/lib/python3.12/site-packages (from requests->pmaw) (2.4.0)\n",
      "Requirement already satisfied: certifi>=2017.4.17 in /opt/conda/lib/python3.12/site-packages (from requests->pmaw) (2025.1.31)\n",
      "Using cached pmaw-3.0.0-py3-none-any.whl (29 kB)\n",
      "Installing collected packages: pmaw\n",
      "Successfully installed pmaw-3.0.0\n"
     ]
    }
   ],
   "source": [
    "! pip install pmaw"
   ]
  },
  {
   "cell_type": "markdown",
   "metadata": {},
   "source": [
    "Load up the `PushshiftAPI` class from `psaw`."
   ]
  },
  {
   "cell_type": "code",
   "execution_count": 38,
   "metadata": {},
   "outputs": [],
   "source": [
    "from pmaw import PushshiftAPI\n",
    "\n",
    "api = PushshiftAPI()"
   ]
  },
  {
   "cell_type": "markdown",
   "metadata": {},
   "source": [
    "Retrieve the submission history for a subreddit."
   ]
  },
  {
   "cell_type": "code",
   "execution_count": 39,
   "metadata": {},
   "outputs": [
    {
     "name": "stderr",
     "output_type": "stream",
     "text": [
      "Not all PushShift shards are active. Query results may be incomplete.\n"
     ]
    },
    {
     "data": {
      "text/plain": [
       "0"
      ]
     },
     "execution_count": 39,
     "metadata": {},
     "output_type": "execute_result"
    }
   ],
   "source": [
    "submissions = api.search_submissions(subreddit=\"science\",limit=1000)\n",
    "\n",
    "submissions_list = [p for p in submissions]\n",
    "\n",
    "len(submissions_list)"
   ]
  },
  {
   "cell_type": "code",
   "execution_count": null,
   "metadata": {},
   "outputs": [],
   "source": []
  }
 ],
 "metadata": {
  "kernelspec": {
   "display_name": "Python 3 (ipykernel)",
   "language": "python",
   "name": "python3"
  },
  "language_info": {
   "codemirror_mode": {
    "name": "ipython",
    "version": 3
   },
   "file_extension": ".py",
   "mimetype": "text/x-python",
   "name": "python",
   "nbconvert_exporter": "python",
   "pygments_lexer": "ipython3",
   "version": "3.12.10"
  }
 },
 "nbformat": 4,
 "nbformat_minor": 4
}
