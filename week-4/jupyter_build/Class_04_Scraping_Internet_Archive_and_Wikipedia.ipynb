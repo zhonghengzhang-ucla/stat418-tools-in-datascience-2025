{
 "cells": [
  {
   "cell_type": "markdown",
   "metadata": {},
   "source": [
    "# Web Data Scraping\n",
    "\n",
    "[Spring 2023 ITSS Mini-Course](https://www.colorado.edu/cartss/programs/interdisciplinary-training-social-sciences-itss/mini-course-web-data-scraping) — ARSC 5040  \n",
    "[Brian C. Keegan, Ph.D.](http://brianckeegan.com/)  \n",
    "[Assistant Professor, Department of Information Science](https://www.colorado.edu/cmci/people/information-science/brian-c-keegan)  \n",
    "University of Colorado Boulder  \n",
    "\n",
    "Copyright and distributed under an [MIT License](https://opensource.org/licenses/MIT)\n",
    "\n",
    "These notebooks are adaptations from a 5 session mini course at the University of Colorado. The github repo can be found here [Spring 2023 ITSS Mini-Course] The course is taught by Brian C. Keegan, Ph.D. Assistant Professor, Department of Information Science. They have been adapted for relevant content and integration with Docker so that we all have the same environment. Professor Keegan suggests using a most recent version of Python which we have through our docker container.\n",
    "\n",
    "This notebook is adapted from excellent notebooks in Dr. Cody Buntain's seminar on Social Media and Crisis Informatics as well as the PRAW documentation."
   ]
  },
  {
   "cell_type": "markdown",
   "metadata": {},
   "source": [
    "We'll need a few common libraries for all these examples."
   ]
  },
  {
   "cell_type": "code",
   "execution_count": 9,
   "metadata": {},
   "outputs": [],
   "source": [
    "# Lets us talk to other servers on the web\n",
    "import requests\n",
    "\n",
    "# APIs spit out data in JSON\n",
    "import json\n",
    "\n",
    "# Use BeautifulSoup to parse some HTML\n",
    "from bs4 import BeautifulSoup\n",
    "\n",
    "# Safetly quoting strings for URLs\n",
    "from urllib.parse import unquote, quote\n",
    "\n",
    "# Handling dates and times\n",
    "from datetime import datetime\n",
    "\n",
    "# DataFrames!\n",
    "import pandas as pd\n",
    "import numpy as np\n",
    "\n",
    "# Data visualization\n",
    "%matplotlib inline\n",
    "import matplotlib.pyplot as plt\n",
    "import seaborn as sb"
   ]
  },
  {
   "cell_type": "markdown",
   "metadata": {},
   "source": [
    "## Scraping the Internet Archive's Wayback Machine\n",
    "\n",
    "Now we'll leave some of the ethically-fraught methods of web scraping behind. The Internet Archive maintains the \"[Wayback Machine](https://www.archive.org/web/)\" where old versions of websites are stored. Some of my favorites:\n",
    "\n",
    "* [CNN in June 2000](https://web.archive.org/web/20000815052826/http://www.cnn.com/)\n",
    "* [Facebook in August 2004](https://web.archive.org/web/20040817020419/http://www.facebook.com/)\n",
    "* [Apple in April 1997](https://web.archive.org/web/19970404064444/http://www.apple.com:80/)\n",
    "\n",
    "In these URLs above, there is a numeric identifier corresponding to the timestamp when the image of the website was captured. How do we know when the Wayback Machine archived a webpage? There's a free and open API!\n",
    "\n",
    "### Using the Wayback Machine API\n",
    "\n",
    "The simplest API request we can make asks for the most recent snapshot of a webpage archived by the Wayback Machine."
   ]
  },
  {
   "cell_type": "code",
   "execution_count": 10,
   "metadata": {},
   "outputs": [
    {
     "data": {
      "text/plain": [
       "{'url': 'facebook.com', 'archived_snapshots': {}}"
      ]
     },
     "execution_count": 10,
     "metadata": {},
     "output_type": "execute_result"
    }
   ],
   "source": [
    "wb_url = 'http://archive.org/wayback/available?url=facebook.com'\n",
    "\n",
    "wb_response = requests.get(wb_url)\n",
    "\n",
    "wb_response.json()"
   ]
  },
  {
   "cell_type": "markdown",
   "metadata": {},
   "source": [
    "This response tells us the timestamp and location of this snapshot, which we could then go retrieve and parse."
   ]
  },
  {
   "cell_type": "code",
   "execution_count": 11,
   "metadata": {},
   "outputs": [
    {
     "ename": "KeyError",
     "evalue": "'closest'",
     "output_type": "error",
     "traceback": [
      "\u001b[31m---------------------------------------------------------------------------\u001b[39m",
      "\u001b[31mKeyError\u001b[39m                                  Traceback (most recent call last)",
      "\u001b[36mCell\u001b[39m\u001b[36m \u001b[39m\u001b[32mIn[11]\u001b[39m\u001b[32m, line 3\u001b[39m\n\u001b[32m      1\u001b[39m wb_response_json = wb_response.json()\n\u001b[32m----> \u001b[39m\u001b[32m3\u001b[39m recent_fb_wb_url = \u001b[43mwb_response_json\u001b[49m\u001b[43m[\u001b[49m\u001b[33;43m'\u001b[39;49m\u001b[33;43marchived_snapshots\u001b[39;49m\u001b[33;43m'\u001b[39;49m\u001b[43m]\u001b[49m\u001b[43m[\u001b[49m\u001b[33;43m'\u001b[39;49m\u001b[33;43mclosest\u001b[39;49m\u001b[33;43m'\u001b[39;49m\u001b[43m]\u001b[49m[\u001b[33m'\u001b[39m\u001b[33murl\u001b[39m\u001b[33m'\u001b[39m]\n\u001b[32m      5\u001b[39m recent_fb_wb_response = requests.get(recent_fb_wb_url)\n",
      "\u001b[31mKeyError\u001b[39m: 'closest'"
     ]
    }
   ],
   "source": [
    "wb_response_json = wb_response.json()\n",
    "\n",
    "recent_fb_wb_url = wb_response_json['archived_snapshots']['closest']['url']\n",
    "\n",
    "recent_fb_wb_response = requests.get(recent_fb_wb_url)"
   ]
  },
  {
   "cell_type": "markdown",
   "metadata": {},
   "source": [
    "Get the raw text out, soupify, and look for links. For some reason all the links in this snapshot are in German."
   ]
  },
  {
   "cell_type": "code",
   "execution_count": 12,
   "metadata": {},
   "outputs": [
    {
     "ename": "NameError",
     "evalue": "name 'recent_fb_wb_response' is not defined",
     "output_type": "error",
     "traceback": [
      "\u001b[31m---------------------------------------------------------------------------\u001b[39m",
      "\u001b[31mNameError\u001b[39m                                 Traceback (most recent call last)",
      "\u001b[36mCell\u001b[39m\u001b[36m \u001b[39m\u001b[32mIn[12]\u001b[39m\u001b[32m, line 1\u001b[39m\n\u001b[32m----> \u001b[39m\u001b[32m1\u001b[39m recent_fb_wb_raw = \u001b[43mrecent_fb_wb_response\u001b[49m.text\n\u001b[32m      3\u001b[39m recent_fb_wb_soup = BeautifulSoup(recent_fb_wb_raw)\n\u001b[32m      5\u001b[39m [link.text \u001b[38;5;28;01mfor\u001b[39;00m link \u001b[38;5;129;01min\u001b[39;00m recent_fb_wb_soup.find_all(\u001b[33m'\u001b[39m\u001b[33ma\u001b[39m\u001b[33m'\u001b[39m)]\n",
      "\u001b[31mNameError\u001b[39m: name 'recent_fb_wb_response' is not defined"
     ]
    }
   ],
   "source": [
    "recent_fb_wb_raw = recent_fb_wb_response.text\n",
    "\n",
    "recent_fb_wb_soup = BeautifulSoup(recent_fb_wb_raw)\n",
    "\n",
    "[link.text for link in recent_fb_wb_soup.find_all('a')]"
   ]
  },
  {
   "cell_type": "markdown",
   "metadata": {},
   "source": [
    "We can also ask for the most recent snapshot of a webpage around a specific date. Let's ask the Wayback Machine for a snapshot of Facebook around February 1, 2008."
   ]
  },
  {
   "cell_type": "code",
   "execution_count": 13,
   "metadata": {},
   "outputs": [
    {
     "data": {
      "text/plain": [
       "{'url': 'facebook.com',\n",
       " 'archived_snapshots': {'closest': {'status': '200',\n",
       "   'available': True,\n",
       "   'url': 'http://web.archive.org/web/20080130203428/http://www.facebook.com/',\n",
       "   'timestamp': '20080130203428'}},\n",
       " 'timestamp': '20080201'}"
      ]
     },
     "execution_count": 13,
     "metadata": {},
     "output_type": "execute_result"
    }
   ],
   "source": [
    "wb_url = 'http://archive.org/wayback/available?url=facebook.com&timestamp=20080201'\n",
    "\n",
    "wb_response = requests.get(wb_url)\n",
    "\n",
    "wb_response_json = wb_response.json()\n",
    "\n",
    "wb_response_json"
   ]
  },
  {
   "cell_type": "markdown",
   "metadata": {},
   "source": [
    "Note that this is a relatively deep JSON object we have to navigate into to access information like the Wayback URL or the timestamp of the snapshot. The closest snapshot to February 1, 2008 was January 30, 2008. We use the [`datetime.strptime`](https://docs.python.org/3/library/datetime.html#strftime-and-strptime-behavior) function to turn this numeric string that we recognize as a timestamp into a datetime object."
   ]
  },
  {
   "cell_type": "code",
   "execution_count": 14,
   "metadata": {},
   "outputs": [
    {
     "data": {
      "text/plain": [
       "'20080130203428'"
      ]
     },
     "execution_count": 14,
     "metadata": {},
     "output_type": "execute_result"
    }
   ],
   "source": [
    "wb_response_json['archived_snapshots']['closest']['timestamp']"
   ]
  },
  {
   "cell_type": "code",
   "execution_count": 15,
   "metadata": {},
   "outputs": [
    {
     "name": "stdout",
     "output_type": "stream",
     "text": [
      "2008-01-30 20:34:28\n"
     ]
    }
   ],
   "source": [
    "print(datetime.strptime(wb_response_json['archived_snapshots']['closest']['timestamp'],\n",
    "                        '%Y%m%d%H%M%S'))"
   ]
  },
  {
   "cell_type": "markdown",
   "metadata": {},
   "source": [
    "As before, we could scrape out the links on this 2008 version of the page."
   ]
  },
  {
   "cell_type": "code",
   "execution_count": 16,
   "metadata": {},
   "outputs": [
    {
     "data": {
      "text/plain": [
       "[' ',\n",
       " 'Forgot Password?',\n",
       " 'Tour',\n",
       " '',\n",
       " 'Login',\n",
       " 'Sign Up',\n",
       " 'upload photos',\n",
       " 'publish notes',\n",
       " 'latest news',\n",
       " 'privacy settings',\n",
       " 'join a network',\n",
       " 'Find your friends',\n",
       " 'More Search Options »',\n",
       " 'Advertisers',\n",
       " 'Businesses',\n",
       " 'Developers',\n",
       " 'About Facebook',\n",
       " 'Terms',\n",
       " 'Privacy',\n",
       " 'Help']"
      ]
     },
     "execution_count": 16,
     "metadata": {},
     "output_type": "execute_result"
    }
   ],
   "source": [
    "# Find the old URL\n",
    "fb_wb_url = wb_response_json['archived_snapshots']['closest']['url']\n",
    "\n",
    "# Go get the archived snapshot from the Wayback Machine\n",
    "fb_wb_response = requests.get(fb_wb_url)\n",
    "\n",
    "# Get the text from the response\n",
    "fb_wb_raw = fb_wb_response.text\n",
    "\n",
    "# Soup-ify\n",
    "fb_wb_soup = BeautifulSoup(fb_wb_raw)\n",
    "\n",
    "# Make a list of the text of the links\n",
    "[link.text for link in fb_wb_soup.find_all('a')]"
   ]
  },
  {
   "cell_type": "markdown",
   "metadata": {},
   "source": [
    "### Scraping historical web pages\n",
    "\n",
    "A current project I am working on is exploring how social media platforms' terms of service have evolved over time. Let's start with Facebook's terms of service and privacy policy."
   ]
  },
  {
   "cell_type": "code",
   "execution_count": 17,
   "metadata": {},
   "outputs": [],
   "source": [
    "fb_tos = 'http://www.facebook.com/terms.php'\n",
    "fb_pp = 'http://www.facebook.com/policy.php'"
   ]
  },
  {
   "cell_type": "markdown",
   "metadata": {},
   "source": [
    "We will take advantage of the [`date_range`](https://pandas.pydata.org/pandas-docs/stable/reference/api/pandas.date_range.html) fuction in `pandas` to generate a range of dates between January 2005 and January 2021."
   ]
  },
  {
   "cell_type": "code",
   "execution_count": 18,
   "metadata": {},
   "outputs": [
    {
     "data": {
      "text/plain": [
       "DatetimeIndex(['2008-01-31', '2008-02-29', '2008-03-31', '2008-04-30',\n",
       "               '2008-05-31', '2008-06-30', '2008-07-31', '2008-08-31',\n",
       "               '2008-09-30', '2008-10-31',\n",
       "               ...\n",
       "               '2020-05-31', '2020-06-30', '2020-07-31', '2020-08-31',\n",
       "               '2020-09-30', '2020-10-31', '2020-11-30', '2020-12-31',\n",
       "               '2021-01-31', '2021-02-28'],\n",
       "              dtype='datetime64[ns]', length=158, freq='M')"
      ]
     },
     "execution_count": 18,
     "metadata": {},
     "output_type": "execute_result"
    }
   ],
   "source": [
    "dates_list = pd.date_range(start='2008-01-01',end='2021-03-01',freq='M')\n",
    "dates_list"
   ]
  },
  {
   "cell_type": "markdown",
   "metadata": {},
   "source": [
    "We'll use [`datetime.strftime`](https://docs.python.org/3/library/datetime.html#strftime-and-strptime-behavior) (the inverse of `strptime`) to make these date objects into specifically-formatted strings that we can format into a URL."
   ]
  },
  {
   "cell_type": "code",
   "execution_count": null,
   "metadata": {},
   "outputs": [],
   "source": [
    "# Take the first datetime object and turn it into a string\n",
    "datetime.strftime(dates_list[0],'%Y%m%d')"
   ]
  },
  {
   "cell_type": "markdown",
   "metadata": {},
   "source": [
    "Use string formatting to put the `fb_tos` URL and formatted timestamp into a request to the Wayback Machine."
   ]
  },
  {
   "cell_type": "code",
   "execution_count": null,
   "metadata": {},
   "outputs": [],
   "source": [
    "date_str = datetime.strftime(dates_list[0],'%Y%m%d')\n",
    "\n",
    "wb_api_url = 'https://archive.org/wayback/available?url={0}&timestamp={1}'\n",
    "wb_api_url_formatted = wb_api_url.format(fb_tos,date_str)\n",
    "\n",
    "print(wb_api_url_formatted)"
   ]
  },
  {
   "cell_type": "markdown",
   "metadata": {},
   "source": [
    "Make the request to the Wayback Machine to get the URL and timestamp of the Wayback Machine's closest snapshot of Facebook's Terms of Service before January 31, 2005."
   ]
  },
  {
   "cell_type": "code",
   "execution_count": null,
   "metadata": {},
   "outputs": [],
   "source": [
    "wb_api_response = requests.get(wb_api_url_formatted)\n",
    "\n",
    "wb_api_response.json()"
   ]
  },
  {
   "cell_type": "markdown",
   "metadata": {},
   "source": [
    "Parse the markup of this old version."
   ]
  },
  {
   "cell_type": "code",
   "execution_count": null,
   "metadata": {},
   "outputs": [],
   "source": []
  },
  {
   "cell_type": "code",
   "execution_count": null,
   "metadata": {},
   "outputs": [],
   "source": [
    "# Find the old URL\n",
    "wb_fb_old_url = wb_api_response.json()['archived_snapshots']['closest']['url']\n",
    "\n",
    "# Go get the archived snapshot from the Wayback Machine\n",
    "wb_fb_raw = requests.get(wb_fb_old_url).text\n",
    "\n",
    "# Soup-ify\n",
    "wb_fb_soup = BeautifulSoup(wb_fb_raw)\n",
    "\n",
    "# Find the content element and get the text out\n",
    "wb_fb_terms_str = wb_fb_soup.find('div',{'id':'content'}).text.strip()\n",
    "\n",
    "# Inspect\n",
    "wb_fb_terms_str"
   ]
  },
  {
   "cell_type": "markdown",
   "metadata": {},
   "source": [
    "We could use a really dumb stemmer, [`.split()`](https://docs.python.org/3.7/library/stdtypes.html#str.split) to count the number of words in these terms."
   ]
  },
  {
   "cell_type": "code",
   "execution_count": null,
   "metadata": {},
   "outputs": [],
   "source": [
    "len(wb_fb_terms_str.split())"
   ]
  },
  {
   "cell_type": "markdown",
   "metadata": {},
   "source": [
    "Write a loop to find a snapshot of Facebook's ToS each month in our `dates_list`. "
   ]
  },
  {
   "cell_type": "code",
   "execution_count": null,
   "metadata": {},
   "outputs": [],
   "source": [
    "def get_urls(url_str,start_date='2008-01-01',end_date='2021-03-01',freq='M'):\n",
    "    \n",
    "    # Make the list of dates\n",
    "    date_l = pd.date_range(start_date,end_date,freq=freq)\n",
    "    \n",
    "    # Create an empty container to store our data\n",
    "    urls = dict()\n",
    "\n",
    "    # For each date in the list of dates\n",
    "    for date in date_l:\n",
    "        \n",
    "        # Turn the date object back into a string\n",
    "        date_str = datetime.strftime(date,'%Y%m%d%H%M%S')\n",
    "        \n",
    "        # Define the API URL request to the Wayback machine\n",
    "        wb_api_url = 'http://archive.org/wayback/available?url={0}&timestamp={1}'\n",
    "        \n",
    "        # Format the API URL with the URL of the website and the closest datetime\n",
    "        wb_api_request = wb_api_url.format(url_str,date_str)\n",
    "        \n",
    "        # Make the request\n",
    "        r = requests.get(wb_api_request).json()\n",
    "\n",
    "        # Check if the returned request has all the right parts (this is probably overkill)\n",
    "        if 'archived_snapshots' in r.keys():\n",
    "            if 'closest' in r['archived_snapshots'].keys():\n",
    "                if 'url' in r['archived_snapshots']['closest'].keys():\n",
    "                    \n",
    "                    # If it does have all the right parts, get the URL\n",
    "                    _url = r['archived_snapshots']['closest']['url']\n",
    "                    \n",
    "                    # Get the timestamp\n",
    "                    _timestamp = r['archived_snapshots']['closest']['timestamp']\n",
    "                    \n",
    "                    # Save to our URL dictionary with the timestamp of the snapshot as key, the url as value\n",
    "                    urls[_timestamp] = _url\n",
    "    return urls"
   ]
  },
  {
   "cell_type": "markdown",
   "metadata": {},
   "source": [
    "Run our function to make a dictionary of keys returning the Wayback Machine URLs for each month's version of the terms of service. We'll write a loop to get the Terms for each snapshot and count the words. \n",
    "\n",
    "This will take a few minutes. \n",
    "\n",
    "I've coverted the code block into a \"Raw\" cell to prevent accidental execution. You can always turn it into a \"Code\" cell if you really want to run it."
   ]
  },
  {
   "cell_type": "raw",
   "metadata": {},
   "source": [
    "# Get the list of timestamps and URLs for each monthly version of the Terms of Service\n",
    "fb_terms_d = get_urls('https://www.facebook.com/terms.php')\n",
    "\n",
    "# Create an empty container to store our data\n",
    "fb_terms_wordcount = {}\n",
    "\n",
    "# Loop through the fb_terms_d dictionary\n",
    "for timestamp,url in fb_terms_d.items():\n",
    "\n",
    "    # Get the raw HTML from the Wayback Machine\n",
    "    raw = requests.get(url).text\n",
    "    \n",
    "    # Soup-ify\n",
    "    soup = BeautifulSoup(raw)\n",
    "    \n",
    "    # Find the content of the TOS\n",
    "    content = soup.find('div',{'id':'content'}).text.strip()\n",
    "    \n",
    "    # Split the content into words, count the number of words, save to the container\n",
    "    fb_terms_wordcount[timestamp] = len(content.split())\n",
    "    \n",
    "# Write to disk\n",
    "#with open('facebook_tos_archive.json','w') as f:\n",
    "    #json.dump(fb_terms_wordcount,f)"
   ]
  },
  {
   "cell_type": "code",
   "execution_count": null,
   "metadata": {},
   "outputs": [],
   "source": [
    "with open('facebook_tos_archive.json','w') as f:\n",
    "    json.dump(fb_terms_wordcount,f)"
   ]
  },
  {
   "cell_type": "markdown",
   "metadata": {},
   "source": [
    "To avoid having everyone hit the Internet Archive server with the same requests, you can also load this file with the same data."
   ]
  },
  {
   "cell_type": "code",
   "execution_count": 19,
   "metadata": {},
   "outputs": [],
   "source": [
    "with open('facebook_tos_archive.json','r') as f:\n",
    "    fb_terms_wordcount2 = json.load(f)"
   ]
  },
  {
   "cell_type": "markdown",
   "metadata": {},
   "source": [
    "Visualize the changes in the size of Facebook's Terms of Service over time."
   ]
  },
  {
   "cell_type": "code",
   "execution_count": 20,
   "metadata": {},
   "outputs": [
    {
     "data": {
      "image/png": "[encoded data removed]",
      "text/plain": [
       "<Figure size 640x480 with 1 Axes>"
      ]
     },
     "metadata": {},
     "output_type": "display_data"
    }
   ],
   "source": [
    "# Turn the dictionary into a pandas Series\n",
    "fb_terms_s = pd.Series(fb_terms_wordcount2)\n",
    "\n",
    "# Conver the index to datetime objects\n",
    "fb_terms_s.index = pd.to_datetime(fb_terms_s.index)\n",
    "\n",
    "# Plot\n",
    "ax = fb_terms_s.plot()\n",
    "\n",
    "# Make the x-tick labels less weird\n",
    "# ax.set_xticklabels(range(2004,2021,2),rotation=0,horizontalalignment='center')\n",
    "\n",
    "# Always label your axes\n",
    "ax.set_ylabel('Word count');"
   ]
  },
  {
   "cell_type": "markdown",
   "metadata": {},
   "source": [
    "## Scraping Wikipedia\n",
    "\n",
    "Consider the Wikipedia page for [Elizabeth II](https://en.wikipedia.org/wiki/Elizabeth_II). This seems like a relatively straightforward webpage to scrape out the hyperlinks to other articles or to compare the content to other presidential biographies. However, Wikipedia also preserves the [history of every revision made to this article](https://en.wikipedia.org/w/index.php?title=Elizabeth_II&action=history) going back to the first (available) revisions in 2001, like [this](https://en.wikipedia.org/w/index.php?title=Elizabeth_II&oldid=249061). Thinking back to the Oscars example, it seems promising to find the \"oldid\" values and visit each revision's webpage to parse the content out. However, Wikipedia will give you much of this revision history data for free through its [application programming interface](http://en.wikipedia.org/w/api.php) (API)."
   ]
  },
  {
   "cell_type": "markdown",
   "metadata": {},
   "source": [
    "### Current content\n",
    "We can use `requests` to get the current HTML markup of an article from the API, for example."
   ]
  },
  {
   "cell_type": "code",
   "execution_count": 21,
   "metadata": {},
   "outputs": [],
   "source": [
    "# Where the API server lives\n",
    "query_url = \"https://en.wikipedia.org/w/api.php\"\n",
    "\n",
    "# An empty dictionary to store our query parameters\n",
    "query_params = {}\n",
    "\n",
    "# We want to parse the content of a page\n",
    "query_params['action'] = 'parse'\n",
    "\n",
    "# Which page?\n",
    "query_params['page'] = 'Elizabeth II'\n",
    "\n",
    "# We want the text\n",
    "query_params['prop'] = 'text'\n",
    "\n",
    "# Ignore the edit buttons and table of contents\n",
    "query_params['disableeditsection'] = 1\n",
    "query_params['disabletoc'] = 1\n",
    "\n",
    "# Get the results back as JSON\n",
    "query_params['format'] = 'json'\n",
    "\n",
    "# Format the data in an easier-to-parse option\n",
    "query_params['formatversion'] = 2"
   ]
  },
  {
   "cell_type": "markdown",
   "metadata": {},
   "source": [
    "We have only set up our request to the API, but not sent it or received the data back."
   ]
  },
  {
   "cell_type": "code",
   "execution_count": 22,
   "metadata": {},
   "outputs": [],
   "source": [
    "json_response = requests.get(url = query_url, params = query_params).json()"
   ]
  },
  {
   "cell_type": "markdown",
   "metadata": {},
   "source": [
    "What's waiting inside? A dictionary of dictionaries. The inner dictionary has keys for the title of the page we requested (\"Elizabeth II\"), the pageid (a numeric identifier), and the text of the article."
   ]
  },
  {
   "cell_type": "code",
   "execution_count": 23,
   "metadata": {},
   "outputs": [
    {
     "data": {
      "text/plain": [
       "dict_keys(['title', 'pageid', 'text'])"
      ]
     },
     "execution_count": 23,
     "metadata": {},
     "output_type": "execute_result"
    }
   ],
   "source": [
    "json_response['parse'].keys()"
   ]
  },
  {
   "cell_type": "markdown",
   "metadata": {},
   "source": [
    "We could count the number of links in the article."
   ]
  },
  {
   "cell_type": "code",
   "execution_count": 24,
   "metadata": {},
   "outputs": [
    {
     "data": {
      "text/plain": [
       "[<a class=\"mw-disambig\" href=\"/wiki/Elizabeth_II_(disambiguation)\" title=\"Elizabeth II (disambiguation)\">Elizabeth II (disambiguation)</a>,\n",
       " <a class=\"mw-redirect mw-disambig\" href=\"/wiki/Elizabeth_of_the_United_Kingdom_(disambiguation)\" title=\"Elizabeth of the United Kingdom (disambiguation)\">Elizabeth of the United Kingdom (disambiguation)</a>,\n",
       " <a href=\"/wiki/Head_of_the_Commonwealth\" title=\"Head of the Commonwealth\">Head of the Commonwealth</a>,\n",
       " <a class=\"mw-file-description\" href=\"/wiki/File:Queen_Elizabeth_II_official_portrait_for_1959_tour_(retouched)_(cropped)_(3-to-4_aspect_ratio).jpg\"><img alt=\"Elizabeth facing right in a half-length portrait photograph\" class=\"mw-file-element\" data-file-height=\"985\" data-file-width=\"739\" decoding=\"async\" height=\"333\" src=\"//upload.wikimedia.org/wikipedia/commons/thumb/1/11/Queen_Elizabeth_II_official_portrait_for_1959_tour_%28retouched%29_%28cropped%29_%283-to-4_aspect_ratio%29.jpg/250px-Queen_Elizabeth_II_official_portrait_for_1959_tour_%28retouched%29_%28cropped%29_%283-to-4_aspect_ratio%29.jpg\" srcset=\"//upload.wikimedia.org/wikipedia/commons/thumb/1/11/Queen_Elizabeth_II_official_portrait_for_1959_tour_%28retouched%29_%28cropped%29_%283-to-4_aspect_ratio%29.jpg/500px-Queen_Elizabeth_II_official_portrait_for_1959_tour_%28retouched%29_%28cropped%29_%283-to-4_aspect_ratio%29.jpg 1.5x\" width=\"250\"/></a>,\n",
       " <a class=\"mw-redirect\" href=\"/wiki/Queen_of_the_United_Kingdom\" title=\"Queen of the United Kingdom\">Queen of the United Kingdom</a>]"
      ]
     },
     "execution_count": 24,
     "metadata": {},
     "output_type": "execute_result"
    }
   ],
   "source": [
    "ghwb_soup = BeautifulSoup(json_response['parse']['text'])\n",
    "\n",
    "ghwb_soup.find_all('a')[:5]"
   ]
  },
  {
   "cell_type": "markdown",
   "metadata": {},
   "source": [
    "Or the content of the article."
   ]
  },
  {
   "cell_type": "code",
   "execution_count": 25,
   "metadata": {},
   "outputs": [
    {
     "data": {
      "text/plain": [
       "[<p class=\"mw-empty-elt\">\n",
       " </p>,\n",
       " <p><b>Elizabeth II</b> (Elizabeth Alexandra Mary; 21 April 1926 – 8 September 2022) was <a class=\"mw-redirect\" href=\"/wiki/Queen_of_the_United_Kingdom\" title=\"Queen of the United Kingdom\">Queen of the United Kingdom</a> and other <a href=\"/wiki/Commonwealth_realm\" title=\"Commonwealth realm\">Commonwealth realms</a> from 6 February 1952 until <a href=\"/wiki/Death_and_state_funeral_of_Elizabeth_II\" title=\"Death and state funeral of Elizabeth II\">her death</a> in 2022. She had been <a href=\"/wiki/Queen_regnant\" title=\"Queen regnant\">queen regnant</a> of <a href=\"/wiki/List_of_sovereign_states_headed_by_Elizabeth_II\" title=\"List of sovereign states headed by Elizabeth II\">32 sovereign states</a> during her lifetime and was the monarch of 15 realms at her death. Her reign of 70 years and 214 days is the <a href=\"/wiki/List_of_monarchs_in_Britain_by_length_of_reign\" title=\"List of monarchs in Britain by length of reign\">longest of any British monarch</a>, the <a href=\"/wiki/List_of_longest-reigning_monarchs\" title=\"List of longest-reigning monarchs\">second-longest of any sovereign state</a>, and the <a href=\"/wiki/List_of_female_monarchs\" title=\"List of female monarchs\">longest of any queen regnant in history</a>.\n",
       " </p>,\n",
       " <p>Elizabeth was born in <a href=\"/wiki/Mayfair\" title=\"Mayfair\">Mayfair</a>, London, during the reign of her paternal grandfather, <a class=\"mw-redirect\" href=\"/wiki/King_George_V\" title=\"King George V\">King George V</a>. She was the first child of the Duke and Duchess of York (later <a class=\"mw-redirect\" href=\"/wiki/King_George_VI\" title=\"King George VI\">King George VI</a> and <a href=\"/wiki/Queen_Elizabeth_The_Queen_Mother\" title=\"Queen Elizabeth The Queen Mother\">Queen Elizabeth The Queen Mother</a>). Her father acceded to the throne in 1936 upon <a href=\"/wiki/Abdication_of_Edward_VIII\" title=\"Abdication of Edward VIII\">the abdication</a> of his brother <a href=\"/wiki/Edward_VIII\" title=\"Edward VIII\">Edward VIII</a>, making the ten-year-old Princess Elizabeth the <a href=\"/wiki/Heir_presumptive\" title=\"Heir presumptive\">heir presumptive</a>. She was educated privately at home and began to undertake public duties during the <a class=\"mw-redirect\" href=\"/wiki/Second_World_War\" title=\"Second World War\">Second World War</a>, serving in the <a href=\"/wiki/Auxiliary_Territorial_Service\" title=\"Auxiliary Territorial Service\">Auxiliary Territorial Service</a>. In November 1947, <a href=\"/wiki/Wedding_of_Princess_Elizabeth_and_Philip_Mountbatten\" title=\"Wedding of Princess Elizabeth and Philip Mountbatten\">she married</a> <a class=\"mw-redirect\" href=\"/wiki/Philip_Mountbatten\" title=\"Philip Mountbatten\">Philip Mountbatten</a>, a former <a class=\"mw-redirect\" href=\"/wiki/Prince_of_Greece_and_Denmark\" title=\"Prince of Greece and Denmark\">prince of Greece and Denmark</a>. Their marriage lasted 73 years until <a href=\"/wiki/Death_and_funeral_of_Prince_Philip,_Duke_of_Edinburgh\" title=\"Death and funeral of Prince Philip, Duke of Edinburgh\">his death in 2021</a>. They had four children: <a href=\"/wiki/Charles_III\" title=\"Charles III\">Charles</a>, <a href=\"/wiki/Anne,_Princess_Royal\" title=\"Anne, Princess Royal\">Anne</a>, <a href=\"/wiki/Prince_Andrew,_Duke_of_York\" title=\"Prince Andrew, Duke of York\">Andrew</a>, and <a href=\"/wiki/Prince_Edward,_Duke_of_Edinburgh\" title=\"Prince Edward, Duke of Edinburgh\">Edward</a>.\n",
       " </p>,\n",
       " <p>When <a href=\"/wiki/Death_and_state_funeral_of_George_VI\" title=\"Death and state funeral of George VI\">her father died</a> in February 1952, Elizabeth, then 25 years old, became queen of seven independent Commonwealth countries: the United Kingdom, Canada, Australia, New Zealand, <a href=\"/wiki/Union_of_South_Africa\" title=\"Union of South Africa\">South Africa</a>, <a href=\"/wiki/Dominion_of_Pakistan\" title=\"Dominion of Pakistan\">Pakistan</a>, and <a href=\"/wiki/Dominion_of_Ceylon\" title=\"Dominion of Ceylon\">Ceylon</a>, as well as <a href=\"/wiki/Head_of_the_Commonwealth\" title=\"Head of the Commonwealth\">head of the Commonwealth</a>. Elizabeth reigned as a <a class=\"mw-redirect\" href=\"/wiki/Constitutional_monarch\" title=\"Constitutional monarch\">constitutional monarch</a> through major political changes such as <a href=\"/wiki/The_Troubles\" title=\"The Troubles\">the Troubles</a> in Northern Ireland, <a href=\"/wiki/Devolution_in_the_United_Kingdom\" title=\"Devolution in the United Kingdom\">devolution in the United Kingdom</a>, the <a href=\"/wiki/Decolonisation_of_Africa\" title=\"Decolonisation of Africa\">decolonisation of Africa</a>, and the <a class=\"mw-redirect\" href=\"/wiki/United_Kingdom%27s_accession_to_the_European_Communities\" title=\"United Kingdom's accession to the European Communities\">United Kingdom's accession to the European Communities</a> as well as its <a href=\"/wiki/Brexit\" title=\"Brexit\">subsequent withdrawal</a>. The number of her realms varied over time as territories gained independence and some realms <a href=\"/wiki/Republics_in_the_Commonwealth_of_Nations\" title=\"Republics in the Commonwealth of Nations\">became republics</a>. As queen, Elizabeth was served by <a href=\"/wiki/List_of_prime_ministers_of_Elizabeth_II\" title=\"List of prime ministers of Elizabeth II\">more than 170 prime ministers</a> across her realms. Her many historic visits and meetings included <a href=\"/wiki/List_of_state_visits_made_by_Elizabeth_II\" title=\"List of state visits made by Elizabeth II\">state visits</a> to China in 1986, <a href=\"/wiki/State_visit_by_Elizabeth_II_to_Russia\" title=\"State visit by Elizabeth II to Russia\">to Russia</a> in 1994, and <a href=\"/wiki/State_visit_by_Elizabeth_II_to_the_Republic_of_Ireland\" title=\"State visit by Elizabeth II to the Republic of Ireland\">to the Republic of Ireland</a> in 2011, and meetings with five popes and fourteen US presidents.\n",
       " </p>,\n",
       " <p>Significant events included <a href=\"/wiki/Coronation_of_Elizabeth_II\" title=\"Coronation of Elizabeth II\">Elizabeth's coronation</a> in 1953 and the celebrations of her <a href=\"/wiki/Silver_Jubilee_of_Elizabeth_II\" title=\"Silver Jubilee of Elizabeth II\">Silver</a>, <a href=\"/wiki/Golden_Jubilee_of_Elizabeth_II\" title=\"Golden Jubilee of Elizabeth II\">Golden</a>, <a href=\"/wiki/Diamond_Jubilee_of_Elizabeth_II\" title=\"Diamond Jubilee of Elizabeth II\">Diamond</a>, and <a href=\"/wiki/Platinum_Jubilee_of_Elizabeth_II\" title=\"Platinum Jubilee of Elizabeth II\">Platinum</a> <a href=\"/wiki/Jubilee\" title=\"Jubilee\">jubilees</a>. Although there was occasional <a href=\"/wiki/Republicanism_in_the_United_Kingdom\" title=\"Republicanism in the United Kingdom\">republican</a> sentiment and media criticism of her family—particularly after the breakdowns of her children's marriages, her <i><a href=\"/wiki/Annus_horribilis#Elizabeth_II\" title=\"Annus horribilis\">annus horribilis</a></i> in 1992, and <a href=\"/wiki/Death_of_Diana,_Princess_of_Wales\" title=\"Death of Diana, Princess of Wales\">the death</a> in 1997 of her former daughter-in-law <a href=\"/wiki/Diana,_Princess_of_Wales\" title=\"Diana, Princess of Wales\">Diana</a>—support for the monarchy and her personal popularity in the United Kingdom remained consistently high. Elizabeth died aged 96 at <a href=\"/wiki/Balmoral_Castle\" title=\"Balmoral Castle\">Balmoral Castle</a>, and was succeeded by her eldest son, Charles III.\n",
       " </p>]"
      ]
     },
     "execution_count": 25,
     "metadata": {},
     "output_type": "execute_result"
    }
   ],
   "source": [
    "ghwb_soup.find_all('p')[:5]"
   ]
  },
  {
   "cell_type": "markdown",
   "metadata": {},
   "source": [
    "### Revision history\n",
    "\n",
    "There is also an API endpoint for the revision history of this article that contains metadata about the who and when of previous changes."
   ]
  },
  {
   "cell_type": "code",
   "execution_count": 26,
   "metadata": {},
   "outputs": [],
   "source": [
    "# Where the API server lives\n",
    "query_url = \"https://en.wikipedia.org/w/api.php\"\n",
    "\n",
    "# An empty dictionary to store our query parameters\n",
    "query_params = {}\n",
    "\n",
    "# We want to query properties of a page\n",
    "query_params['action'] = 'query'\n",
    "\n",
    "# Which page?\n",
    "query_params['titles'] = 'Elizabeth II'\n",
    "\n",
    "# We want the revisions\n",
    "query_params['prop'] = 'revisions'\n",
    "\n",
    "# In particular, we want the revision ids, users, comments, timestamps\n",
    "query_params['rvprop'] = 'ids|userid|comment|timestamp|user|size|sha1'\n",
    "\n",
    "# Get 500 revisions\n",
    "query_params['rvlimit'] = 500\n",
    "\n",
    "# Start old and go newer\n",
    "query_params['rvdir'] = 'newer'\n",
    "    \n",
    "# Get the results back as JSON\n",
    "query_params['format'] = 'json'\n",
    "\n",
    "# Format the data in an easier-to-parse option\n",
    "query_params['formatversion'] = 2"
   ]
  },
  {
   "cell_type": "markdown",
   "metadata": {},
   "source": [
    "Make the request."
   ]
  },
  {
   "cell_type": "code",
   "execution_count": 27,
   "metadata": {},
   "outputs": [],
   "source": [
    "json_response = requests.get(url = query_url, params = query_params).json()"
   ]
  },
  {
   "cell_type": "markdown",
   "metadata": {},
   "source": [
    "Inspect this `json_response`. This returns a dictionary with both \"continue\" and \"query\" keys. The continue indicates there are more than 500 revisions present in the article's history and provides an index for the next query to pick up from. The query contains the revision history we care about—buried a bit in a nested data structure of lists and dictionaries, but we eventually get to the \"revisions\" list of dictionaries with the revision histories."
   ]
  },
  {
   "cell_type": "code",
   "execution_count": 28,
   "metadata": {},
   "outputs": [
    {
     "data": {
      "text/plain": [
       "[{'revid': 249061,\n",
       "  'parentid': 0,\n",
       "  'user': '61.9.128.xxx',\n",
       "  'anon': True,\n",
       "  'userid': 0,\n",
       "  'timestamp': '2001-11-16T03:24:33Z',\n",
       "  'size': 780,\n",
       "  'sha1': 'cc5c02a29b5990567cd26323ddd2d3886d14a8fc',\n",
       "  'comment': \"mention she's also head of state of several other commonwealth nations\"},\n",
       " {'revid': 249062,\n",
       "  'parentid': 249061,\n",
       "  'user': 'Berek',\n",
       "  'userid': 79,\n",
       "  'timestamp': '2001-12-14T19:38:09Z',\n",
       "  'size': 840,\n",
       "  'sha1': '4d3c00474e85d92a90a4b5509230515c7b4ef84d',\n",
       "  'comment': \"Mentioned QE2's coronation - anyone know the exact date?\"},\n",
       " {'revid': 249063,\n",
       "  'parentid': 249062,\n",
       "  'user': 'Paul Drye',\n",
       "  'userid': 6,\n",
       "  'timestamp': '2001-12-14T23:06:32Z',\n",
       "  'size': 856,\n",
       "  'sha1': '00775574260757f567eabbcb282f5cf9abb868e7',\n",
       "  'comment': 'June 2nd, 1953'}]"
      ]
     },
     "execution_count": 28,
     "metadata": {},
     "output_type": "execute_result"
    }
   ],
   "source": [
    "revisions = json_response['query']['pages'][0]['revisions']\n",
    "revisions[:3]"
   ]
  },
  {
   "cell_type": "markdown",
   "metadata": {},
   "source": [
    "Convert to a DataFrame."
   ]
  },
  {
   "cell_type": "code",
   "execution_count": 29,
   "metadata": {},
   "outputs": [
    {
     "data": {
      "text/html": [
       "<div>\n",
       "<style scoped>\n",
       "    .dataframe tbody tr th:only-of-type {\n",
       "        vertical-align: middle;\n",
       "    }\n",
       "\n",
       "    .dataframe tbody tr th {\n",
       "        vertical-align: top;\n",
       "    }\n",
       "\n",
       "    .dataframe thead th {\n",
       "        text-align: right;\n",
       "    }\n",
       "</style>\n",
       "<table border=\"1\" class=\"dataframe\">\n",
       "  <thead>\n",
       "    <tr style=\"text-align: right;\">\n",
       "      <th></th>\n",
       "      <th>revid</th>\n",
       "      <th>parentid</th>\n",
       "      <th>user</th>\n",
       "      <th>anon</th>\n",
       "      <th>userid</th>\n",
       "      <th>timestamp</th>\n",
       "      <th>size</th>\n",
       "      <th>sha1</th>\n",
       "      <th>comment</th>\n",
       "    </tr>\n",
       "  </thead>\n",
       "  <tbody>\n",
       "    <tr>\n",
       "      <th>0</th>\n",
       "      <td>249061</td>\n",
       "      <td>0</td>\n",
       "      <td>61.9.128.xxx</td>\n",
       "      <td>True</td>\n",
       "      <td>0</td>\n",
       "      <td>2001-11-16T03:24:33Z</td>\n",
       "      <td>780</td>\n",
       "      <td>cc5c02a29b5990567cd26323ddd2d3886d14a8fc</td>\n",
       "      <td>mention she's also head of state of several ot...</td>\n",
       "    </tr>\n",
       "    <tr>\n",
       "      <th>1</th>\n",
       "      <td>249062</td>\n",
       "      <td>249061</td>\n",
       "      <td>Berek</td>\n",
       "      <td>NaN</td>\n",
       "      <td>79</td>\n",
       "      <td>2001-12-14T19:38:09Z</td>\n",
       "      <td>840</td>\n",
       "      <td>4d3c00474e85d92a90a4b5509230515c7b4ef84d</td>\n",
       "      <td>Mentioned QE2's coronation - anyone know the e...</td>\n",
       "    </tr>\n",
       "    <tr>\n",
       "      <th>2</th>\n",
       "      <td>249063</td>\n",
       "      <td>249062</td>\n",
       "      <td>Paul Drye</td>\n",
       "      <td>NaN</td>\n",
       "      <td>6</td>\n",
       "      <td>2001-12-14T23:06:32Z</td>\n",
       "      <td>856</td>\n",
       "      <td>00775574260757f567eabbcb282f5cf9abb868e7</td>\n",
       "      <td>June 2nd, 1953</td>\n",
       "    </tr>\n",
       "    <tr>\n",
       "      <th>3</th>\n",
       "      <td>19902</td>\n",
       "      <td>249063</td>\n",
       "      <td>Conversion script</td>\n",
       "      <td>NaN</td>\n",
       "      <td>1226483</td>\n",
       "      <td>2002-02-25T15:51:15Z</td>\n",
       "      <td>935</td>\n",
       "      <td>9e42502da98959d456a0cc6c65c61d76bfda9042</td>\n",
       "      <td>Automated conversion</td>\n",
       "    </tr>\n",
       "    <tr>\n",
       "      <th>4</th>\n",
       "      <td>19962</td>\n",
       "      <td>19902</td>\n",
       "      <td>62.253.64.7</td>\n",
       "      <td>True</td>\n",
       "      <td>0</td>\n",
       "      <td>2002-02-28T02:55:35Z</td>\n",
       "      <td>943</td>\n",
       "      <td>a90261cb092d27801923f3777d481d71b4299511</td>\n",
       "      <td>*</td>\n",
       "    </tr>\n",
       "  </tbody>\n",
       "</table>\n",
       "</div>"
      ],
      "text/plain": [
       "    revid  parentid               user  anon   userid             timestamp  \\\n",
       "0  249061         0       61.9.128.xxx  True        0  2001-11-16T03:24:33Z   \n",
       "1  249062    249061              Berek   NaN       79  2001-12-14T19:38:09Z   \n",
       "2  249063    249062          Paul Drye   NaN        6  2001-12-14T23:06:32Z   \n",
       "3   19902    249063  Conversion script   NaN  1226483  2002-02-25T15:51:15Z   \n",
       "4   19962     19902        62.253.64.7  True        0  2002-02-28T02:55:35Z   \n",
       "\n",
       "   size                                      sha1  \\\n",
       "0   780  cc5c02a29b5990567cd26323ddd2d3886d14a8fc   \n",
       "1   840  4d3c00474e85d92a90a4b5509230515c7b4ef84d   \n",
       "2   856  00775574260757f567eabbcb282f5cf9abb868e7   \n",
       "3   935  9e42502da98959d456a0cc6c65c61d76bfda9042   \n",
       "4   943  a90261cb092d27801923f3777d481d71b4299511   \n",
       "\n",
       "                                             comment  \n",
       "0  mention she's also head of state of several ot...  \n",
       "1  Mentioned QE2's coronation - anyone know the e...  \n",
       "2                                     June 2nd, 1953  \n",
       "3                               Automated conversion  \n",
       "4                                                  *  "
      ]
     },
     "execution_count": 29,
     "metadata": {},
     "output_type": "execute_result"
    }
   ],
   "source": [
    "rev_df = pd.DataFrame(revisions)\n",
    "rev_df.head()"
   ]
  },
  {
   "cell_type": "markdown",
   "metadata": {},
   "source": [
    "Plot out how the size of the article changed over the first 500 revisions."
   ]
  },
  {
   "cell_type": "code",
   "execution_count": 30,
   "metadata": {},
   "outputs": [
    {
     "data": {
      "text/plain": [
       "(0.0, 500.0)"
      ]
     },
     "execution_count": 30,
     "metadata": {},
     "output_type": "execute_result"
    },
    {
     "data": {
      "image/png": "[encoded data removed]",
      "text/plain": [
       "<Figure size 640x480 with 1 Axes>"
      ]
     },
     "metadata": {},
     "output_type": "display_data"
    }
   ],
   "source": [
    "ax = rev_df.plot(y='size',legend=False)\n",
    "ax.set_ylabel('Size (bytes)')\n",
    "ax.set_xlabel('Revision')\n",
    "ax.set_xlim((0,500))"
   ]
  },
  {
   "cell_type": "markdown",
   "metadata": {},
   "source": [
    "Or count how many times an editor made a contribution."
   ]
  },
  {
   "cell_type": "code",
   "execution_count": 31,
   "metadata": {},
   "outputs": [
    {
     "data": {
      "text/plain": [
       "user\n",
       "Adam Carr      55\n",
       "Jiang          33\n",
       "Vzbs34         27\n",
       "Jdforrester    15\n",
       "82.43.55.44    14\n",
       "Name: count, dtype: int64"
      ]
     },
     "execution_count": 31,
     "metadata": {},
     "output_type": "execute_result"
    }
   ],
   "source": [
    "rev_df['user'].value_counts().head()"
   ]
  },
  {
   "cell_type": "markdown",
   "metadata": {},
   "source": [
    "### Pageview activity\n",
    "\n",
    "There is are [API endpoints](https://wikitech.wikimedia.org/wiki/Analytics/AQS/Pageviews) for retrieving data on the number of times a Wikipedia article was accessed. Let's use the pageviews API ([docs](https://wikimedia.org/api/rest_v1/#/Pageviews data/)). Unfortunately, these article-level data are not stratifed by geography (by state, country, *etc*.) and are only available in the aggregate. This API only has data available back to July 2015, although there are some alternative [pageview definitions](https://meta.wikimedia.org/wiki/Research:Page_view) with data [available back to 2007](https://dumps.wikimedia.org/other/pagecounts-raw/). "
   ]
  },
  {
   "cell_type": "code",
   "execution_count": 32,
   "metadata": {},
   "outputs": [
    {
     "data": {
      "text/plain": [
       "[{'project': 'en.wikipedia',\n",
       "  'article': 'Elizabeth_II',\n",
       "  'granularity': 'daily',\n",
       "  'timestamp': '2015070100',\n",
       "  'access': 'all-access',\n",
       "  'agent': 'user',\n",
       "  'views': 17717},\n",
       " {'project': 'en.wikipedia',\n",
       "  'article': 'Elizabeth_II',\n",
       "  'granularity': 'daily',\n",
       "  'timestamp': '2015070200',\n",
       "  'access': 'all-access',\n",
       "  'agent': 'user',\n",
       "  'views': 16529},\n",
       " {'project': 'en.wikipedia',\n",
       "  'article': 'Elizabeth_II',\n",
       "  'granularity': 'daily',\n",
       "  'timestamp': '2015070300',\n",
       "  'access': 'all-access',\n",
       "  'agent': 'user',\n",
       "  'views': 16534},\n",
       " {'project': 'en.wikipedia',\n",
       "  'article': 'Elizabeth_II',\n",
       "  'granularity': 'daily',\n",
       "  'timestamp': '2015070400',\n",
       "  'access': 'all-access',\n",
       "  'agent': 'user',\n",
       "  'views': 17353},\n",
       " {'project': 'en.wikipedia',\n",
       "  'article': 'Elizabeth_II',\n",
       "  'granularity': 'daily',\n",
       "  'timestamp': '2015070500',\n",
       "  'access': 'all-access',\n",
       "  'agent': 'user',\n",
       "  'views': 26460}]"
      ]
     },
     "execution_count": 32,
     "metadata": {},
     "output_type": "execute_result"
    }
   ],
   "source": [
    "# This is the string for accessing the API with some variables we'll customize\n",
    "pv_api_str = \"https://wikimedia.org/api/rest_v1/metrics/pageviews/per-article/{lang}.wikipedia/all-access/user/{article}/daily/{start}/{end}\"\n",
    "\n",
    "# Customizing the pv_api_str to get information about Elizabeth II from 1 July 2015 to 1 January 2023\n",
    "retrieve_str = pv_api_str.format(\n",
    "    lang = 'en',\n",
    "    article = quote('Elizabeth II'),\n",
    "    start = '20150701',\n",
    "    end = '20240101'\n",
    ")\n",
    "\n",
    "# Make the request\n",
    "pv_response = requests.get(retrieve_str,headers={'user-agent':'langholz@g.ucla.edu'}).json()\n",
    "\n",
    "# Inspect\n",
    "pv_response['items'][:5]"
   ]
  },
  {
   "cell_type": "markdown",
   "metadata": {},
   "source": [
    "Convert into a pandas `DataFrame` and cleanup."
   ]
  },
  {
   "cell_type": "code",
   "execution_count": null,
   "metadata": {},
   "outputs": [],
   "source": [
    "# Cast to a DataFrame\n",
    "e2_pv_df = pd.DataFrame(pv_response['items'])\n",
    "\n",
    "# Parse the \"timestamp\" column into a datetime\n",
    "e2_pv_df['timestamp'] = pd.to_datetime(e2_pv_df['timestamp'],format='%Y%m%d%H')\n",
    "\n",
    "# Set timestamp as index and only return reviews\n",
    "e2_pv_s = e2_pv_df.set_index('timestamp')['views']\n",
    "\n",
    "# Inspect\n",
    "e2_pv_s.head()"
   ]
  },
  {
   "cell_type": "markdown",
   "metadata": {},
   "source": [
    "Visualize on log-scaled y-axis."
   ]
  },
  {
   "cell_type": "code",
   "execution_count": null,
   "metadata": {},
   "outputs": [],
   "source": [
    "ax = e2_pv_s.plot()\n",
    "\n",
    "ax.set_yscale('log')\n",
    "ax.set_ylabel('Pageviews')\n",
    "ax.set_ylim((1e4,1e7))"
   ]
  },
  {
   "cell_type": "markdown",
   "metadata": {},
   "source": [
    "Write a function and use it in a loop to get the pageviews for each of these redirects."
   ]
  },
  {
   "cell_type": "code",
   "execution_count": 33,
   "metadata": {},
   "outputs": [],
   "source": [
    "def get_pageviews(article_title,lang='en',start='20150701',end='20250101',headers={'user-agent':'langholz@g.ucla.edu'}):\n",
    "    # This is the string for accessing the API with some variables we'll customize\n",
    "    _str = \"https://wikimedia.org/api/rest_v1/metrics/pageviews/per-article/{lang}.wikipedia/all-access/user/{article}/daily/{start}/{end}\"\n",
    "\n",
    "    # Customizing the pv_api_str to get information about Elizabeth II from 1 July 2015 to 1 January 2023\n",
    "    _retrieve_str = _str.format(\n",
    "        lang = lang,\n",
    "        article = quote(article_title),\n",
    "        start = start,\n",
    "        end = end\n",
    "    )\n",
    "    \n",
    "    # Make the request\n",
    "    _response = requests.get(_retrieve_str,headers=headers).json()\n",
    "    \n",
    "    # Cast to a DataFrame\n",
    "    _pv_df = pd.DataFrame(pv_response['items'])\n",
    "\n",
    "    # Parse the \"timestamp\" column into a datetime\n",
    "    _pv_df['timestamp'] = pd.to_datetime(_pv_df['timestamp'],format='%Y%m%d%H')\n",
    "\n",
    "    # Set timestamp as index and only return reviews\n",
    "    _pv_s = _pv_df.set_index('timestamp')['views']\n",
    "    \n",
    "    return _pv_s\n",
    "    "
   ]
  },
  {
   "cell_type": "markdown",
   "metadata": {},
   "source": [
    "Test the function."
   ]
  },
  {
   "cell_type": "code",
   "execution_count": 34,
   "metadata": {},
   "outputs": [
    {
     "data": {
      "text/plain": [
       "<Axes: xlabel='timestamp'>"
      ]
     },
     "execution_count": 34,
     "metadata": {},
     "output_type": "execute_result"
    },
    {
     "data": {
      "image/png": "[encoded data removed]",
      "text/plain": [
       "<Figure size 640x480 with 1 Axes>"
      ]
     },
     "metadata": {},
     "output_type": "display_data"
    }
   ],
   "source": [
    "get_pageviews('University of California - Los Angeles').plot()"
   ]
  },
  {
   "cell_type": "markdown",
   "metadata": {},
   "source": [
    "There are many other parts of the very powerful Wikipedia API and scraping these APIs exposes much more metadata than parsing the HTML of these webpages, while also being easier on the servers hosting it. \n",
    "\n",
    "Check out the \"Class 04 - Wikipedia functions and analysis\" notebook as well as my [`wikifunctions`](https://github.com/brianckeegan/wikifunctions/) library."
   ]
  }
 ],
 "metadata": {
  "kernelspec": {
   "display_name": "Python 3 (ipykernel)",
   "language": "python",
   "name": "python3"
  },
  "language_info": {
   "codemirror_mode": {
    "name": "ipython",
    "version": 3
   },
   "file_extension": ".py",
   "mimetype": "text/x-python",
   "name": "python",
   "nbconvert_exporter": "python",
   "pygments_lexer": "ipython3",
   "version": "3.12.10"
  }
 },
 "nbformat": 4,
 "nbformat_minor": 4
}
